{
 "cells": [
  {
   "cell_type": "markdown",
   "metadata": {},
   "source": [
    "---\n",
    "title: \"찾아바꾸기 기능 활용\"\n",
    "description: 찾아바꾸기를 활용한 파이썬 자동화 사례\n",
    "output-file: find_replace.html\n",
    "---"
   ]
  },
  {
   "cell_type": "markdown",
   "metadata": {},
   "source": [
    "## 문제설정\n",
    "\n",
    "문서 작업을 하면서 같은 의미지만 다르게 작성하여 형식을 통일하기 위해 문서를 처음부터 검토해야 하는 경우가 있습니다.\n",
    "예를 들어 \"2022년\"이라고 쓰는 경우도 있고 \"'22년\"으로 적는 경우도 있습니다. 이를 모두 2022년으로 작성 방식을 통일하고자 한다면 찾아바꾸기를 통해 쉽게 달성할 수 있습니다.\n",
    "\n",
    "만약 이런 바꿔야 하는 단어가 수십개가 된다면 어떻게 될까요?\n",
    "붙여써야 하는 경우, 자주 틀리는 오탈자, 영문명으로 바로 작성하거나 이니셜로만 작성하는 등, 수십개의 케이스를 모두 적용하는 것은 상당히 귀찮고 오류가 발생하기 쉬운 일입니다.\n",
    "\n",
    "이런 문제를 `hwpapi`를 사용해 해결해 보고자 합니다.\n",
    "\n",
    "[국토부 보도자료](http://www.molit.go.kr/USR/NEWS/m_71/dtl.jsp?id=95086857)를 보면 임대차 시장 안정 및 3분기 부동산 정상화 방안이라는 문서를 볼 수 있습니다.\n",
    "\n",
    "여기서 보면 '주거 안정'이라고 띄어 쓴 경우와 '주거안정'이라고 붙여쓴 경우가 있습니다.\n",
    "![](img/주거안정.png)\n",
    "\n",
    "유사하게 '분양가 상한제'와 같이 띄어 쓴 경우와 '분양가상한제'라고 붙여 쓴 경우가 있죠.\n",
    "![](img/분양가상한제1.png)\n",
    "![](img/분양가상한제2.png)\n",
    "\n",
    "또한 '시범사업지'와 '시범 사업지'와 같이 경우에 따라 붙이거나 띄는 경우는 한국어 특성상 자주 발생합니다. \n",
    "![](img/시범사업지.png)\n",
    "\n",
    "이런 항목을 모두 붙여 쓰는 스크립트를 짜보도록 하겠습니다.\n",
    "\n",
    "해야 할 일은 \n",
    "\n",
    "1. 문서 불러오기\n",
    "2. 기존과 변경할 것 목록 만들기\n",
    "3. 찾아 바꾸기\n",
    "\n",
    "이렇게 3단계로 구성됩니다."
   ]
  },
  {
   "cell_type": "markdown",
   "metadata": {},
   "source": [
    "### 문서 불러오기\n",
    "\n",
    "우선 패키지를 불러오고 문서를 불러 옵니다.\n",
    "저는 `hwps/220621(안건_1,2)임대차_시장_안정_및_3분기_부동산_정상화_방안.hwp` 파일을 읽어 오겠습니다."
   ]
  },
  {
   "cell_type": "code",
   "execution_count": 1,
   "metadata": {},
   "outputs": [],
   "source": [
    "from hwpapi.core import App\n",
    "\n",
    "app = App()\n",
    "app.open(\"hwps/220621(안건_1,2)임대차_시장_안정_및_3분기_부동산_정상화_방안.hwp\")"
   ]
  },
  {
   "cell_type": "markdown",
   "metadata": {},
   "source": [
    "### 기존 단어와 변경할 단어 목록 만들기\n",
    "\n",
    "아래와 같이 기존 단어와 변경할 단어를 만들어 둡니다.\n",
    "여기서는 단순히 `list`를 사용했지만, `pandas` 등을 사용하면 엑셀 파일에서 관리할 수 있습니다."
   ]
  },
  {
   "cell_type": "code",
   "execution_count": 2,
   "metadata": {},
   "outputs": [],
   "source": [
    "words = [(\"분양가 상한제\", \"분양가상한제\"), (\"주거안정\", \"주거 안정\"), (\"시범사업지\", \"시범 사업지\")]"
   ]
  },
  {
   "cell_type": "markdown",
   "metadata": {},
   "source": [
    "### 찾아바꾸기\n",
    "\n",
    "이렇게 까지 되면 나머지는 간단합니다. `words`를 순환 하면서 반복해 주기만 하면 됩니다.\n",
    "모두 찾아바꾸기를 하면 어디를 바꾸었는지 확인하기 어렵기 때문에 바꾼 단어는 붉은 색으로 처리해서 쉽게 눈으로 확인해 볼 수 있게 하겠습니다.\n",
    "그러기 위해서  `CharShape`이라고 하는 `dataclass`를 불러오겠습니다."
   ]
  },
  {
   "cell_type": "code",
   "execution_count": 3,
   "metadata": {},
   "outputs": [],
   "source": [
    "from hwpapi.dataclasses import CharShape\n",
    "\n",
    "for old, new in words:\n",
    "    app.replace_all(old, new, new_charshape=CharShape(text_color=\"#FF0000\"))\n",
    "    "
   ]
  },
  {
   "cell_type": "markdown",
   "metadata": {},
   "source": [
    "코드를 실행하고 나면 아래와 같이 바뀐 단어는 붉은색으로 표시되게 됩니다.\n",
    "![](img/주거안정_변경.png)\n",
    "![](img/시범사업지_변경.png)\n",
    "\n",
    "이렇게 변경된 사항을 눈으로 확인하고 최종적으로 단축키 등으로 정리하면 문서 전체적으로 맞춰야 하는 단어나 자주 틀리는 오탈자를 쉽게 관리 할 수 있게 됩니다."
   ]
  },
  {
   "cell_type": "code",
   "execution_count": 10,
   "metadata": {},
   "outputs": [],
   "source": []
  },
  {
   "cell_type": "code",
   "execution_count": 31,
   "metadata": {},
   "outputs": [
    {
     "ename": "KeyError",
     "evalue": "'DownOCell를 해당하는 키 중 찾을 수 없습니다. 키는 Main, CurList, TopOfFile, BottomOfFile, TopOfList, BottomOfList, StartOfPara, EndOfPara, StartOfWord, EndOfWord, NextPara, PrevPara, NextPos, PrevPos, NextPosEx, PrevPosEx, NextChar, PrevChar, NextWord, PrevWord, NextLine, PrevLine, StartOfLine, EndOfLine, ParentList, TopLevelList, RootList, CurrentCaret, LeftOfCell, RightOfCell, UpOfCell, DownOfCell, StartOfCell, EndOfCell, TopOfCell, BottomOfCell, ScrPos, ScanPos 중에 있어야 합니다.'",
     "output_type": "error",
     "traceback": [
      "\u001b[1;31m---------------------------------------------------------------------------\u001b[0m",
      "\u001b[1;31mKeyError\u001b[0m                                  Traceback (most recent call last)",
      "File \u001b[1;32mc:\\users\\freed\\documents\\python_projects\\hwpapi\\hwpapi\\functions.py:114\u001b[0m, in \u001b[0;36mget_value\u001b[1;34m(dict_, key)\u001b[0m\n\u001b[0;32m    113\u001b[0m \u001b[39mtry\u001b[39;00m:\n\u001b[1;32m--> 114\u001b[0m     \u001b[39mreturn\u001b[39;00m dict_[key]\n\u001b[0;32m    115\u001b[0m \u001b[39mexcept\u001b[39;00m \u001b[39mKeyError\u001b[39;00m:\n",
      "\u001b[1;31mKeyError\u001b[0m: 'DownOCell'",
      "\nDuring handling of the above exception, another exception occurred:\n",
      "\u001b[1;31mKeyError\u001b[0m                                  Traceback (most recent call last)",
      "Cell \u001b[1;32mIn[31], line 1\u001b[0m\n\u001b[1;32m----> 1\u001b[0m app\u001b[39m.\u001b[39;49mmove(\u001b[39m\"\u001b[39;49m\u001b[39mDownOCell\u001b[39;49m\u001b[39m\"\u001b[39;49m)\n",
      "File \u001b[1;32mc:\\users\\freed\\documents\\python_projects\\hwpapi\\hwpapi\\core.py:497\u001b[0m, in \u001b[0;36mmove\u001b[1;34m(app, key, para, pos)\u001b[0m\n\u001b[0;32m    493\u001b[0m \u001b[39m@patch\u001b[39m\n\u001b[0;32m    494\u001b[0m \u001b[39mdef\u001b[39;00m \u001b[39mmove\u001b[39m(app: App, key\u001b[39m=\u001b[39m\u001b[39m\"\u001b[39m\u001b[39mScanPos\u001b[39m\u001b[39m\"\u001b[39m, para\u001b[39m=\u001b[39m\u001b[39mNone\u001b[39;00m, pos\u001b[39m=\u001b[39m\u001b[39mNone\u001b[39;00m):\n\u001b[0;32m    495\u001b[0m \u001b[39m    \u001b[39m\u001b[39m\"\"\"키워드를 바탕으로 캐럿 위치를 이동시킵니다.\"\"\"\u001b[39;00m\n\u001b[1;32m--> 497\u001b[0m     move_id \u001b[39m=\u001b[39m get_value(move_ids, key)\n\u001b[0;32m    498\u001b[0m     \u001b[39mreturn\u001b[39;00m app\u001b[39m.\u001b[39mapi\u001b[39m.\u001b[39mMovePos(moveID\u001b[39m=\u001b[39mmove_id, Para\u001b[39m=\u001b[39mpara, pos\u001b[39m=\u001b[39mpos)\n",
      "File \u001b[1;32mc:\\users\\freed\\documents\\python_projects\\hwpapi\\hwpapi\\functions.py:116\u001b[0m, in \u001b[0;36mget_value\u001b[1;34m(dict_, key)\u001b[0m\n\u001b[0;32m    114\u001b[0m     \u001b[39mreturn\u001b[39;00m dict_[key]\n\u001b[0;32m    115\u001b[0m \u001b[39mexcept\u001b[39;00m \u001b[39mKeyError\u001b[39;00m:\n\u001b[1;32m--> 116\u001b[0m     \u001b[39mraise\u001b[39;00m \u001b[39mKeyError\u001b[39;00m(\n\u001b[0;32m    117\u001b[0m         \u001b[39mf\u001b[39m\u001b[39m\"\u001b[39m\u001b[39m{\u001b[39;00mkey\u001b[39m}\u001b[39;00m\u001b[39m를 해당하는 키 중 찾을 수 없습니다. 키는 \u001b[39m\u001b[39m{\u001b[39;00m\u001b[39m'\u001b[39m\u001b[39m, \u001b[39m\u001b[39m'\u001b[39m\u001b[39m.\u001b[39mjoin(dict_\u001b[39m.\u001b[39mkeys())\u001b[39m}\u001b[39;00m\u001b[39m 중에 있어야 합니다.\u001b[39m\u001b[39m\"\u001b[39m\n\u001b[0;32m    118\u001b[0m     )\n",
      "\u001b[1;31mKeyError\u001b[0m: 'DownOCell를 해당하는 키 중 찾을 수 없습니다. 키는 Main, CurList, TopOfFile, BottomOfFile, TopOfList, BottomOfList, StartOfPara, EndOfPara, StartOfWord, EndOfWord, NextPara, PrevPara, NextPos, PrevPos, NextPosEx, PrevPosEx, NextChar, PrevChar, NextWord, PrevWord, NextLine, PrevLine, StartOfLine, EndOfLine, ParentList, TopLevelList, RootList, CurrentCaret, LeftOfCell, RightOfCell, UpOfCell, DownOfCell, StartOfCell, EndOfCell, TopOfCell, BottomOfCell, ScrPos, ScanPos 중에 있어야 합니다.'"
     ]
    }
   ],
   "source": [
    "app.move(\"DownOfCell\")"
   ]
  },
  {
   "cell_type": "code",
   "execution_count": 46,
   "metadata": {},
   "outputs": [
    {
     "data": {
      "text/plain": [
       "['Application',\n",
       " 'ArcType',\n",
       " 'AutoNumType',\n",
       " 'BorderShape',\n",
       " 'BreakWordLatin',\n",
       " 'BrushType',\n",
       " 'CLSID',\n",
       " 'Canonical',\n",
       " 'CellApply',\n",
       " 'CellShape',\n",
       " 'CharShadowType',\n",
       " 'CharShape',\n",
       " 'CheckXObject',\n",
       " 'Clear',\n",
       " 'ColDefType',\n",
       " 'ColLayoutType',\n",
       " 'ConvertPUAHangulToUnicode',\n",
       " 'CreateAction',\n",
       " 'CreateField',\n",
       " 'CreateID',\n",
       " 'CreateMode',\n",
       " 'CreatePageImage',\n",
       " 'CreateSet',\n",
       " 'CrookedSlash',\n",
       " 'CurFieldState',\n",
       " 'CurMetatagState',\n",
       " 'CurSelectedCtrl',\n",
       " 'DSMark',\n",
       " 'DbfCodeType',\n",
       " 'DeleteCtrl',\n",
       " 'Delimiter',\n",
       " 'DrawAspect',\n",
       " 'DrawFillImage',\n",
       " 'DrawShadowType',\n",
       " 'EditMode',\n",
       " 'Encrypt',\n",
       " 'EndSize',\n",
       " 'EndStyle',\n",
       " 'EngineProperties',\n",
       " 'ExportStyle',\n",
       " 'FieldExist',\n",
       " 'FileTranslate',\n",
       " 'FillAreaType',\n",
       " 'FindCtrl',\n",
       " 'FindDir',\n",
       " 'FindPrivateInfo',\n",
       " 'FontType',\n",
       " 'GetBinDataPath',\n",
       " 'GetCurFieldName',\n",
       " 'GetCurMetatagName',\n",
       " 'GetFieldList',\n",
       " 'GetFieldText',\n",
       " 'GetFileInfo',\n",
       " 'GetFontList',\n",
       " 'GetHeadingString',\n",
       " 'GetMessageBoxMode',\n",
       " 'GetMetatagList',\n",
       " 'GetMetatagNameText',\n",
       " 'GetMousePos',\n",
       " 'GetPageText',\n",
       " 'GetPos',\n",
       " 'GetPosBySet',\n",
       " 'GetScriptSource',\n",
       " 'GetSelectedPos',\n",
       " 'GetSelectedPosBySet',\n",
       " 'GetText',\n",
       " 'GetTextFile',\n",
       " 'GetTranslateLangList',\n",
       " 'GetUserInfo',\n",
       " 'Gradation',\n",
       " 'GridMethod',\n",
       " 'GridViewLine',\n",
       " 'GutterMethod',\n",
       " 'HAction',\n",
       " 'HAlign',\n",
       " 'HParameterSet',\n",
       " 'Handler',\n",
       " 'Hash',\n",
       " 'HatchStyle',\n",
       " 'HeadCtrl',\n",
       " 'HeadType',\n",
       " 'HeightRel',\n",
       " 'Hiding',\n",
       " 'HorzRel',\n",
       " 'HwpLineType',\n",
       " 'HwpLineWidth',\n",
       " 'HwpOutlineStyle',\n",
       " 'HwpOutlineType',\n",
       " 'HwpUnderlineShape',\n",
       " 'HwpUnderlineType',\n",
       " 'HwpZoomType',\n",
       " 'ImageFormat',\n",
       " 'ImportStyle',\n",
       " 'InitHParameterSet',\n",
       " 'InitScan',\n",
       " 'Insert',\n",
       " 'InsertBackgroundPicture',\n",
       " 'InsertCtrl',\n",
       " 'InsertPicture',\n",
       " 'IsActionEnable',\n",
       " 'IsCommandLock',\n",
       " 'IsEmpty',\n",
       " 'IsModified',\n",
       " 'IsPrivateInfoProtected',\n",
       " 'IsTrackChange',\n",
       " 'IsTrackChangePassword',\n",
       " 'KeyIndicator',\n",
       " 'LastCtrl',\n",
       " 'LineSpacingMethod',\n",
       " 'LineWrapType',\n",
       " 'LockCommand',\n",
       " 'LunarToSolar',\n",
       " 'LunarToSolarBySet',\n",
       " 'MacroState',\n",
       " 'MailType',\n",
       " 'MetatagExist',\n",
       " 'MiliToHwpUnit',\n",
       " 'ModifyFieldProperties',\n",
       " 'ModifyMetatagProperties',\n",
       " 'MovePos',\n",
       " 'MoveToField',\n",
       " 'MoveToMetatag',\n",
       " 'NumberFormat',\n",
       " 'Numbering',\n",
       " 'Open',\n",
       " 'PageCount',\n",
       " 'PageNumPosition',\n",
       " 'PageType',\n",
       " 'ParaHeadAlign',\n",
       " 'ParaShape',\n",
       " 'ParentCtrl',\n",
       " 'Path',\n",
       " 'PicEffect',\n",
       " 'PlacementType',\n",
       " 'PointToHwpUnit',\n",
       " 'PresentEffect',\n",
       " 'PrintDevice',\n",
       " 'PrintPaper',\n",
       " 'PrintRange',\n",
       " 'PrintType',\n",
       " 'ProtectPrivateInfo',\n",
       " 'PutFieldText',\n",
       " 'PutMetatagNameText',\n",
       " 'Quit',\n",
       " 'RGBColor',\n",
       " 'RegisterModule',\n",
       " 'RegisterPrivateInfoPattern',\n",
       " 'ReleaseAction',\n",
       " 'ReleaseScan',\n",
       " 'RenameField',\n",
       " 'RenameMetatag',\n",
       " 'ReplaceAction',\n",
       " 'ReplaceFont',\n",
       " 'Revision',\n",
       " 'Run',\n",
       " 'RunScriptMacro',\n",
       " 'Save',\n",
       " 'SaveAs',\n",
       " 'ScanFont',\n",
       " 'SelectText',\n",
       " 'SelectionMode',\n",
       " 'SetBarCodeImage',\n",
       " 'SetCurFieldName',\n",
       " 'SetCurMetatagName',\n",
       " 'SetDRMAuthority',\n",
       " 'SetFieldViewOption',\n",
       " 'SetMessageBoxMode',\n",
       " 'SetPos',\n",
       " 'SetPosBySet',\n",
       " 'SetPrivateInfoPassword',\n",
       " 'SetTextFile',\n",
       " 'SetTitleName',\n",
       " 'SetUserInfo',\n",
       " 'SideType',\n",
       " 'Signature',\n",
       " 'Slash',\n",
       " 'SolarToLunar',\n",
       " 'SolarToLunarBySet',\n",
       " 'SortDelimiter',\n",
       " 'StrikeOut',\n",
       " 'StyleType',\n",
       " 'SubtPos',\n",
       " 'TableBreak',\n",
       " 'TableFormat',\n",
       " 'TableSwapType',\n",
       " 'TableTarget',\n",
       " 'TextAlign',\n",
       " 'TextArtAlign',\n",
       " 'TextDir',\n",
       " 'TextFlowType',\n",
       " 'TextWrapType',\n",
       " 'UnSelectCtrl',\n",
       " 'VAlign',\n",
       " 'Version',\n",
       " 'VertRel',\n",
       " 'ViewFlag',\n",
       " 'ViewProperties',\n",
       " 'WatermarkBrush',\n",
       " 'WidthRel',\n",
       " 'XHwpDocuments',\n",
       " 'XHwpMessageBox',\n",
       " 'XHwpODBC',\n",
       " 'XHwpWindows',\n",
       " '_ApplyTypes_',\n",
       " '__class__',\n",
       " '__delattr__',\n",
       " '__dict__',\n",
       " '__dir__',\n",
       " '__doc__',\n",
       " '__eq__',\n",
       " '__format__',\n",
       " '__ge__',\n",
       " '__getattr__',\n",
       " '__getattribute__',\n",
       " '__gt__',\n",
       " '__hash__',\n",
       " '__init__',\n",
       " '__init_subclass__',\n",
       " '__iter__',\n",
       " '__le__',\n",
       " '__lt__',\n",
       " '__module__',\n",
       " '__ne__',\n",
       " '__new__',\n",
       " '__reduce__',\n",
       " '__reduce_ex__',\n",
       " '__repr__',\n",
       " '__setattr__',\n",
       " '__sizeof__',\n",
       " '__str__',\n",
       " '__subclasshook__',\n",
       " '__weakref__',\n",
       " '_get_good_object_',\n",
       " '_get_good_single_object_',\n",
       " '_oleobj_',\n",
       " '_prop_map_get_',\n",
       " '_prop_map_put_',\n",
       " 'coclass_clsid']"
      ]
     },
     "execution_count": 46,
     "metadata": {},
     "output_type": "execute_result"
    }
   ],
   "source": [
    "dir(app.api)"
   ]
  },
  {
   "cell_type": "code",
   "execution_count": 62,
   "metadata": {},
   "outputs": [
    {
     "data": {
      "text/plain": [
       "(True, 1, 1, 1, 1, 3, 11, 0, '')"
      ]
     },
     "execution_count": 62,
     "metadata": {},
     "output_type": "execute_result"
    }
   ],
   "source": [
    "app.api.KeyIndicator()"
   ]
  },
  {
   "cell_type": "code",
   "execution_count": 63,
   "metadata": {},
   "outputs": [
    {
     "data": {
      "text/plain": [
       "(True, 1, 1, 1, 1, 1, 3, 0, '(C7): 문자 입력')"
      ]
     },
     "execution_count": 63,
     "metadata": {},
     "output_type": "execute_result"
    }
   ],
   "source": [
    "app.api.KeyIndicator()"
   ]
  },
  {
   "cell_type": "code",
   "execution_count": 69,
   "metadata": {},
   "outputs": [
    {
     "data": {
      "text/plain": [
       "['CLSID',\n",
       " 'CtrlCh',\n",
       " 'CtrlID',\n",
       " 'GetAnchorPos',\n",
       " 'HasList',\n",
       " 'Next',\n",
       " 'Prev',\n",
       " 'Properties',\n",
       " 'UserDesc',\n",
       " '_ApplyTypes_',\n",
       " '__class__',\n",
       " '__delattr__',\n",
       " '__dict__',\n",
       " '__dir__',\n",
       " '__doc__',\n",
       " '__eq__',\n",
       " '__format__',\n",
       " '__ge__',\n",
       " '__getattr__',\n",
       " '__getattribute__',\n",
       " '__gt__',\n",
       " '__hash__',\n",
       " '__init__',\n",
       " '__init_subclass__',\n",
       " '__iter__',\n",
       " '__le__',\n",
       " '__lt__',\n",
       " '__module__',\n",
       " '__ne__',\n",
       " '__new__',\n",
       " '__reduce__',\n",
       " '__reduce_ex__',\n",
       " '__repr__',\n",
       " '__setattr__',\n",
       " '__sizeof__',\n",
       " '__str__',\n",
       " '__subclasshook__',\n",
       " '__weakref__',\n",
       " '_get_good_object_',\n",
       " '_get_good_single_object_',\n",
       " '_oleobj_',\n",
       " '_prop_map_get_',\n",
       " '_prop_map_put_',\n",
       " 'coclass_clsid']"
      ]
     },
     "execution_count": 69,
     "metadata": {},
     "output_type": "execute_result"
    }
   ],
   "source": [
    "dir(app.api.ParentCtrl)"
   ]
  }
 ],
 "metadata": {
  "kernelspec": {
   "display_name": "Python 3",
   "language": "python",
   "name": "python3"
  },
  "language_info": {
   "codemirror_mode": {
    "name": "ipython",
    "version": 3
   },
   "file_extension": ".py",
   "mimetype": "text/x-python",
   "name": "python",
   "nbconvert_exporter": "python",
   "pygments_lexer": "ipython3",
   "version": "3.10.1"
  },
  "orig_nbformat": 4
 },
 "nbformat": 4,
 "nbformat_minor": 2
}
