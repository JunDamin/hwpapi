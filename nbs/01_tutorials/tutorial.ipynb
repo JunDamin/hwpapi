{
 "cells": [
  {
   "cell_type": "markdown",
   "id": "1b19722e-b225-4464-919f-7d69e8aecb3d",
   "metadata": {},
   "source": [
    "---\n",
    "description: 사용 기초\n",
    "output-file: tutorial.html\n",
    "title: tutorial\n",
    "\n",
    "---\n",
    "\n"
   ]
  },
  {
   "cell_type": "code",
   "execution_count": null,
   "id": "5dfe2ff7-0f7b-4fae-8a1c-9a09a85cd389",
   "metadata": {},
   "outputs": [],
   "source": [
    "%load_ext autoreload\n",
    "%autoreload 2"
   ]
  },
  {
   "cell_type": "markdown",
   "id": "85e1facc-2f64-4da1-8351-ba21d5298dda",
   "metadata": {},
   "source": [
    "기본적으로 한글에서 사용자의 입력을 따라합니다.\n",
    "\n",
    "그것을 반복합니다."
   ]
  },
  {
   "cell_type": "code",
   "execution_count": null,
   "id": "cccb95a9-5588-40fa-ade4-bb0357b5e2ea",
   "metadata": {},
   "outputs": [],
   "source": [
    "from hwpapi.core import App"
   ]
  },
  {
   "cell_type": "code",
   "execution_count": null,
   "id": "f22aacfc-2799-47f2-a45a-323f67900ee5",
   "metadata": {},
   "outputs": [],
   "source": []
  }
 ],
 "metadata": {
  "kernelspec": {
   "display_name": "python3",
   "language": "python",
   "name": "python3"
  }
 },
 "nbformat": 4,
 "nbformat_minor": 5
}
