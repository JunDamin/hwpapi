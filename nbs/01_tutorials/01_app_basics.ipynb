{
 "cells": [
  {
   "cell_type": "markdown",
   "id": "1b19722e-b225-4464-919f-7d69e8aecb3d",
   "metadata": {},
   "source": [
    "---\n",
    "description: 사용 기초\n",
    "output-file: tutorial.html\n",
    "title: 튜토리얼\n",
    "\n",
    "---\n",
    "\n"
   ]
  },
  {
   "cell_type": "code",
   "execution_count": 72,
   "id": "5dfe2ff7-0f7b-4fae-8a1c-9a09a85cd389",
   "metadata": {},
   "outputs": [
    {
     "name": "stdout",
     "output_type": "stream",
     "text": [
      "The autoreload extension is already loaded. To reload it, use:\n",
      "  %reload_ext autoreload\n"
     ]
    }
   ],
   "source": [
    "%load_ext autoreload\n",
    "%autoreload 2"
   ]
  },
  {
   "cell_type": "markdown",
   "id": "85e1facc-2f64-4da1-8351-ba21d5298dda",
   "metadata": {},
   "source": [
    "한컴 오피스는 액션이라는 것을 통해서 다양한 문서 편집을 가능하게 하고 있습니다. 그런 편집을 파이썬에서 보다 쉽게 사용하기 위해 만든 라이브러리입니다.\n",
    "\n",
    "기본적인 컨셉은 win32com을 쉽게 사용할 수 있게 개편한 것입니다.\n",
    "\n",
    "문서 편집의 기본 기능인 \n",
    "1. 문장 입력하기\n",
    "2. 커서 이동하기\n",
    "2. 영역 선택하기\n",
    "2. 서식 변경하기\n",
    "3. 텍스트 가져오기 \n"
   ]
  },
  {
   "cell_type": "code",
   "execution_count": 73,
   "id": "cccb95a9-5588-40fa-ade4-bb0357b5e2ea",
   "metadata": {},
   "outputs": [],
   "source": [
    "from hwpapi.core import App"
   ]
  },
  {
   "cell_type": "markdown",
   "id": "fe377bfb-a6cf-41fc-bc37-35f76dfe2600",
   "metadata": {},
   "source": [
    "`App`은 기존 hwpapi를 wrapping 하여 보다 사용하기 쉽게 만드는 것을 목적으로 하고 있는 클래스 입니다.\n",
    "\n",
    "`hwpapi`는 한글 컨트롤을 조합해서 자주사용했던 기능을 구현하였습니다.\n",
    "또한, api 메소드를 통해 win32com의 방식으로 모두 사용할 수 있어 다양하게 사용할 수 있습니다.\n",
    "\n",
    "아래와 같이 App 객체를 생성하면 한글이 열립니다."
   ]
  },
  {
   "cell_type": "code",
   "execution_count": 74,
   "id": "e8f1fd20-f6e4-48ec-8cba-e4c7fcbd7109",
   "metadata": {},
   "outputs": [],
   "source": [
    "app = App()"
   ]
  },
  {
   "cell_type": "markdown",
   "id": "0f9a7312-f991-4e4e-8e44-c0ebcd263863",
   "metadata": {},
   "source": [
    "한글을 조작할 때는 크게 `action`과 `hwpctrl method`로 나눌 수 있습니다.\n",
    "`action`은 파라미터를 설정하고 그것을 실행시켜서 작동하는 방식으로 사용자 단축키를 누르면 실행되는 명령에 가깝다면\n",
    "`hwpctrl method`는 한글 자동화 모듈이 제공하는 것으로 사용자 입력에서는 신경쓰지 않아도 될 부분들을 처리하는 것이라고 보시면 됩니다.\n",
    "\n",
    "[공식 개발 매뉴얼](https://www.hancom.com/board/devmanualList.do)에 여러 `action`과 `parameter`, `method`의 설명을 제공하고 있습니다.\n",
    "아쉽게도 문서가 잘 관리되고 있지는 않으며, `hwpctrl`의 `method`들을 보면 명시되어 있지 않은 기능들이 개발되어 있음을 알 수 있습니다. \n",
    "\n",
    "앞으로 개발해 나가면서 확인된 액션과 메소드 들을 정리해 나가고자 합니다."
   ]
  },
  {
   "cell_type": "markdown",
   "id": "a1807076-daf6-4a69-9a44-b2544f6dfa53",
   "metadata": {},
   "source": [
    "`action`은 `app`에서 생성할 수 있습니다.\n",
    "방식은 크게 2가지로 직접 `action key`를 입력하는 방법과 `actions`에 있는 `action` 객체를 생성하는 방법이 있습니다.\n",
    "아래 두 방식은 동일한 `Action` 객체를 생성합니다."
   ]
  },
  {
   "cell_type": "code",
   "execution_count": 75,
   "id": "3baa1486-30bd-403e-b6c1-e273f18af05e",
   "metadata": {},
   "outputs": [
    {
     "data": {
      "text/plain": [
       "<Action InsertText: 텍스트 삽입>"
      ]
     },
     "execution_count": 75,
     "metadata": {},
     "output_type": "execute_result"
    }
   ],
   "source": [
    "action1 = app.create_action(\"InsertText\")\n",
    "action1"
   ]
  },
  {
   "cell_type": "code",
   "execution_count": 76,
   "id": "0163beab-1a00-4503-bb20-59230682fcec",
   "metadata": {},
   "outputs": [
    {
     "data": {
      "text/plain": [
       "<Action InsertText: 텍스트 삽입>"
      ]
     },
     "execution_count": 76,
     "metadata": {},
     "output_type": "execute_result"
    }
   ],
   "source": [
    "action2 = app.actions.InsertText()\n",
    "action2"
   ]
  },
  {
   "cell_type": "markdown",
   "id": "1687251c-d10e-48ee-b26f-679b71b8f7b0",
   "metadata": {},
   "source": [
    "`Delete`(지우기), `BreakPara`(줄바꿈) 등 많은 `action`은 파라미터 세팅이 필요 없습니다.\n",
    "하지만 위에서 생성한 `InsertText`객체는 입력할 텍스트 값을 넣어주어야 합니다.\n",
    "이는 `parameter`를 통해 설정할 수 있습니다."
   ]
  },
  {
   "cell_type": "code",
   "execution_count": 77,
   "id": "803629f4-a4c1-4a8b-b7e0-622619749568",
   "metadata": {},
   "outputs": [],
   "source": [
    "action1.pset.Text = \"입력하기\""
   ]
  },
  {
   "cell_type": "markdown",
   "id": "d26d8406-c324-43c3-a0e6-cc5e3c1f019d",
   "metadata": {},
   "source": [
    "파라미터를 설정한 후 다음과 같이 액션을 실행하면 텍스트가 입력되는 걸 볼 수 있습니다."
   ]
  },
  {
   "cell_type": "code",
   "execution_count": 78,
   "id": "3b7aa7f1-009f-4b23-a61a-dd153db363e0",
   "metadata": {},
   "outputs": [
    {
     "data": {
      "text/plain": [
       "True"
      ]
     },
     "execution_count": 78,
     "metadata": {},
     "output_type": "execute_result"
    }
   ],
   "source": [
    "action1.run()"
   ]
  },
  {
   "cell_type": "code",
   "execution_count": 79,
   "id": "4d244dc4-01c9-4faf-9381-7f35fbe467c7",
   "metadata": {},
   "outputs": [],
   "source": [
    "charshape = app.actions.CharShape()"
   ]
  },
  {
   "cell_type": "code",
   "execution_count": 80,
   "id": "c0f619b6-2fe0-4217-b1e5-5c1e029f4726",
   "metadata": {},
   "outputs": [],
   "source": [
    "charshape.pset.Height = app.api.PointToHwpUnit(20)"
   ]
  },
  {
   "cell_type": "code",
   "execution_count": 81,
   "id": "78d0cd48-2a41-480e-b284-21db07b86343",
   "metadata": {},
   "outputs": [
    {
     "data": {
      "text/plain": [
       "True"
      ]
     },
     "execution_count": 81,
     "metadata": {},
     "output_type": "execute_result"
    }
   ],
   "source": [
    "charshape.run()"
   ]
  },
  {
   "cell_type": "code",
   "execution_count": 82,
   "id": "7f637594-0af7-4065-9d8e-0b84e67bd356",
   "metadata": {},
   "outputs": [
    {
     "data": {
      "text/plain": [
       "True"
      ]
     },
     "execution_count": 82,
     "metadata": {},
     "output_type": "execute_result"
    }
   ],
   "source": [
    "action2.pset.Text = \"크게 입력하기\"\n",
    "action2.run()"
   ]
  },
  {
   "cell_type": "markdown",
   "id": "264128ea-247e-4437-9a01-02fc5c682c54",
   "metadata": {},
   "source": [
    "## 입력하기"
   ]
  },
  {
   "cell_type": "markdown",
   "id": "3cefd551-6eb9-4c3c-bdac-64167128b7db",
   "metadata": {},
   "source": [
    "입력은 가장 자주 사용하는 것이기 때문에 다음과 같이 `App`의 메소드로 만들었습니다."
   ]
  },
  {
   "cell_type": "code",
   "execution_count": 83,
   "id": "d770711b-1f4c-420d-90f9-c078469975df",
   "metadata": {},
   "outputs": [],
   "source": [
    "app.insert_text(\"더 크게 입력하기\", height=30)"
   ]
  },
  {
   "cell_type": "code",
   "execution_count": 84,
   "id": "7151e810-756c-484c-a3a6-c08bd79e034c",
   "metadata": {},
   "outputs": [],
   "source": [
    "action = app.actions.Select()"
   ]
  },
  {
   "cell_type": "markdown",
   "id": "9c4cd9de-760a-451f-8d6f-b4f002b13ae4",
   "metadata": {},
   "source": [
    "## 이동하기\n",
    "\n",
    "크게 두가지 방법이 있습니다. \n",
    "\n",
    "액션을 사용하는 방법과 단어를 찾아가는 방법이 있습니다."
   ]
  },
  {
   "cell_type": "code",
   "execution_count": 85,
   "id": "790d7e99-6cf2-491c-865e-c4f281528447",
   "metadata": {},
   "outputs": [
    {
     "data": {
      "text/plain": [
       "True"
      ]
     },
     "execution_count": 85,
     "metadata": {},
     "output_type": "execute_result"
    }
   ],
   "source": [
    "app.actions.MoveColumnBegin().run()"
   ]
  },
  {
   "cell_type": "markdown",
   "id": "acd1ca4a-e54f-4c63-b514-28f9779c36f1",
   "metadata": {},
   "source": [
    "actions를 아래와 같이 하여 찾는 경로를 깗게 할 수도 있습니다."
   ]
  },
  {
   "cell_type": "code",
   "execution_count": 86,
   "id": "b55198fe-c853-45b5-98b3-327c9400b600",
   "metadata": {},
   "outputs": [
    {
     "data": {
      "text/plain": [
       "True"
      ]
     },
     "execution_count": 86,
     "metadata": {},
     "output_type": "execute_result"
    }
   ],
   "source": [
    "actions = app.actions\n",
    "actions.MoveColumnBegin().run()"
   ]
  },
  {
   "cell_type": "code",
   "execution_count": 87,
   "id": "1ed03ea8-be34-42ab-9ce3-deed5fc4526f",
   "metadata": {},
   "outputs": [
    {
     "data": {
      "text/plain": [
       "False"
      ]
     },
     "execution_count": 87,
     "metadata": {},
     "output_type": "execute_result"
    }
   ],
   "source": [
    "app.find_text(\"해해\")"
   ]
  },
  {
   "cell_type": "markdown",
   "id": "97a580d6-cf70-4803-87af-44f12fab2e3e",
   "metadata": {},
   "source": [
    "## 텍스트 선택하기\n",
    "\n",
    "문서에서 드래그한 것과 같이 영역을 선택할 수 있습니다."
   ]
  },
  {
   "cell_type": "code",
   "execution_count": 88,
   "id": "5395dfcd-7219-443f-9469-b4a08fa5092b",
   "metadata": {},
   "outputs": [
    {
     "data": {
      "text/plain": [
       "(True, True)"
      ]
     },
     "execution_count": 88,
     "metadata": {},
     "output_type": "execute_result"
    }
   ],
   "source": [
    "app.select_text(\"Para\")"
   ]
  },
  {
   "cell_type": "markdown",
   "id": "d719942e-7b79-4678-8549-5a3798ac54af",
   "metadata": {},
   "source": [
    "## 서식 넣기\n",
    "\n",
    "선택한 영역에 글자 서식을 넣을 수 있습니다."
   ]
  },
  {
   "cell_type": "code",
   "execution_count": 89,
   "id": "7f0e8f66-4b74-4f75-bff8-3200a2f08ec7",
   "metadata": {},
   "outputs": [
    {
     "data": {
      "text/plain": [
       "True"
      ]
     },
     "execution_count": 89,
     "metadata": {},
     "output_type": "execute_result"
    }
   ],
   "source": [
    "app.set_charshape(fontname=\"바탕체\", height=25, bold=True)"
   ]
  },
  {
   "cell_type": "markdown",
   "id": "6fd0ae3d",
   "metadata": {},
   "source": [
    "문단 서식 또한 가능합니다."
   ]
  },
  {
   "cell_type": "code",
   "execution_count": 90,
   "id": "b40483d3",
   "metadata": {},
   "outputs": [
    {
     "data": {
      "text/plain": [
       "True"
      ]
     },
     "execution_count": 90,
     "metadata": {},
     "output_type": "execute_result"
    }
   ],
   "source": [
    "app.set_parashape(left_margin=50)"
   ]
  },
  {
   "cell_type": "markdown",
   "id": "707457d9-c86b-43b4-bb0d-fe9456e0486f",
   "metadata": {},
   "source": [
    "## 텍스트 가져오기"
   ]
  },
  {
   "cell_type": "markdown",
   "id": "3b63bb75",
   "metadata": {},
   "source": [
    "현재 위치의 문장이나 텍스트를 가져 올 수 있습니다.\n",
    "기본은 현재 문장의 시작에서 문장의 끝을 선택합니다.\n"
   ]
  },
  {
   "cell_type": "code",
   "execution_count": 91,
   "id": "c0ea4e59-f4be-4bd3-8451-e97491f7f6fa",
   "metadata": {},
   "outputs": [
    {
     "data": {
      "text/plain": [
       "'입력하기크게 입력하기더 크게 입력하기\\r\\n'"
      ]
     },
     "execution_count": 91,
     "metadata": {},
     "output_type": "execute_result"
    }
   ],
   "source": [
    "app.get_text()"
   ]
  },
  {
   "cell_type": "markdown",
   "id": "23add90d",
   "metadata": {},
   "source": [
    "선택 영역만 가져올 수도 있습니다."
   ]
  },
  {
   "cell_type": "code",
   "execution_count": 92,
   "id": "085dc66d-760c-4e22-90d7-79f974e4aa61",
   "metadata": {},
   "outputs": [
    {
     "data": {
      "text/plain": [
       "'입력하기크게 입력하기더 크게 입력하기\\n'"
      ]
     },
     "execution_count": 92,
     "metadata": {},
     "output_type": "execute_result"
    }
   ],
   "source": [
    "app.get_selected_text()"
   ]
  },
  {
   "cell_type": "code",
   "execution_count": null,
   "id": "5511b9fe-cf31-484d-ad8b-f6176586f95a",
   "metadata": {},
   "outputs": [],
   "source": []
  }
 ],
 "metadata": {
  "kernelspec": {
   "display_name": "python3",
   "language": "python",
   "name": "python3"
  },
  "language_info": {
   "codemirror_mode": {
    "name": "ipython",
    "version": 3
   },
   "file_extension": ".py",
   "mimetype": "text/x-python",
   "name": "python",
   "nbconvert_exporter": "python",
   "pygments_lexer": "ipython3",
   "version": "3.10.1"
  }
 },
 "nbformat": 4,
 "nbformat_minor": 5
}
