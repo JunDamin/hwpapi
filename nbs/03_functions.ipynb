{
 "cells": [
  {
   "cell_type": "markdown",
   "id": "16a0d95a-c670-47b5-b4cc-0fc95afdde96",
   "metadata": {},
   "source": [
    "---\n",
    "description: action list\n",
    "output-file: fnctions.html\n",
    "title: functions\n",
    "\n",
    "---"
   ]
  },
  {
   "cell_type": "code",
   "execution_count": null,
   "id": "1441e8d7-6d44-4ac6-909d-5afd60eb41dc",
   "metadata": {},
   "outputs": [
    {
     "name": "stdout",
     "output_type": "stream",
     "text": [
      "The autoreload extension is already loaded. To reload it, use:\n",
      "  %reload_ext autoreload\n"
     ]
    }
   ],
   "source": [
    "%load_ext autoreload\n",
    "%autoreload 2"
   ]
  },
  {
   "cell_type": "code",
   "execution_count": null,
   "id": "18cbd539-7d2c-464b-9de1-7ad4ce07fa67",
   "metadata": {},
   "outputs": [],
   "source": [
    "#| default_exp functions"
   ]
  },
  {
   "cell_type": "code",
   "execution_count": null,
   "id": "6f04ba42-85e9-4aed-a182-eb9a7b045b5f",
   "metadata": {},
   "outputs": [],
   "source": [
    "#| export\n",
    "from pathlib import Path\n",
    "\n",
    "def get_absolute_path(path):\n",
    "    name = Path(path)\n",
    "    return name.absolute().as_posix()"
   ]
  },
  {
   "cell_type": "code",
   "execution_count": null,
   "id": "523811a2-7c18-4e4e-b7a1-92ab0eddb642",
   "metadata": {},
   "outputs": [],
   "source": [
    "#| export \n",
    "import importlib.resources\n",
    "\n",
    "def get_dll_path(package_name, dll_filename):\n",
    "    try:\n",
    "        with importlib.resources.path(package_name, dll_filename) as dll_path:\n",
    "            return str(dll_path)\n",
    "    except FileNotFoundError as e:\n",
    "        raise FileNotFoundError(f\"The DLL file '{dll_filename}' was not found in the package '{package_name}'.\") from e\n"
   ]
  },
  {
   "cell_type": "code",
   "execution_count": null,
   "id": "43d44300-d4de-4e48-8994-2acff024e0f6",
   "metadata": {},
   "outputs": [],
   "source": [
    "#| export\n",
    "\n",
    "import winreg\n",
    "import os\n",
    "\n",
    "\n",
    "def add_dll_to_registry(dll_path, key_path):\n",
    "    try:\n",
    "        # Connect to the registry and open the specified key\n",
    "        registry_key = winreg.OpenKey(winreg.HKEY_CURRENT_USER, key_path, 0, winreg.KEY_SET_VALUE)\n",
    "\n",
    "        # Set the value for the new registry entry as a string (REG_SZ)\n",
    "        winreg.SetValueEx(registry_key, \"FilePathCheckerModule\", 0, winreg.REG_SZ, dll_path)\n",
    "\n",
    "        # Close the registry key\n",
    "        winreg.CloseKey(registry_key)\n",
    "        print(\"DLL path added to registry as a string value successfully.\")\n",
    "    except WindowsError as e:\n",
    "        print(\"Error while adding DLL path to registry: \", e)\n",
    "        \n",
    "        \n",
    "def get_registry_value(key_path, value_name):\n",
    "    try:\n",
    "        with winreg.OpenKey(winreg.HKEY_CURRENT_USER, key_path) as key:\n",
    "            value, value_type = winreg.QueryValueEx(key, value_name)\n",
    "            return value\n",
    "    except FileNotFoundError:\n",
    "        return None\n"
   ]
  },
  {
   "cell_type": "code",
   "execution_count": null,
   "id": "1215c8e8-a891-4ade-8743-2520157c387c",
   "metadata": {},
   "outputs": [],
   "source": [
    "#| export\n",
    "\n",
    "def check_dll():\n",
    "    dll_path = get_dll_path(\"HwpApi\", \"FilePathCheckerModuleExample.dll\")\n",
    "    key_path = \"SOFTWARE\\\\HNC\\\\HwpAutomation\\\\Modules\"\n",
    "    value_name = \"FilePathCheckerModule\" \n",
    "\n",
    "    value = get_registry_value(key_path, value_name)\n",
    "\n",
    "    if value is None:\n",
    "        add_dll_to_registry(dll_path, key_path)\n",
    "    return True\n"
   ]
  },
  {
   "cell_type": "code",
   "execution_count": null,
   "id": "75620557-aef7-4c2a-9196-d9588d3ac016",
   "metadata": {},
   "outputs": [],
   "source": [
    "#| export \n",
    "\n",
    "def get_value(dict_, key):\n",
    "    try:\n",
    "        return dict_[key]\n",
    "    except KeyError:\n",
    "        raise KeyError(f\"해당하는 키를 찾을 수 없습니다. 키는 {', '.join(dict_.keys())} 중에 있어야 합니다.\")"
   ]
  },
  {
   "cell_type": "code",
   "execution_count": null,
   "id": "bc50f3b9-7424-4301-98a1-dc9e5a27674a",
   "metadata": {},
   "outputs": [],
   "source": [
    "#| hide\n",
    "import nbdev; nbdev.nbdev_export()"
   ]
  }
 ],
 "metadata": {
  "kernelspec": {
   "display_name": "python3",
   "language": "python",
   "name": "python3"
  }
 },
 "nbformat": 4,
 "nbformat_minor": 5
}
