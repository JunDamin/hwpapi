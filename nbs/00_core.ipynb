{
 "cells": [
  {
   "cell_type": "raw",
   "id": "b556e355",
   "metadata": {},
   "source": [
    "---\n",
    "description: Core Classes for HwpApi\n",
    "output-file: core.html\n",
    "title: core\n",
    "\n",
    "---\n",
    "\n"
   ]
  },
  {
   "cell_type": "code",
   "execution_count": null,
   "id": "c9e154c9-6702-4d5f-8f33-c02ac59c891d",
   "metadata": {},
   "outputs": [
    {
     "name": "stdout",
     "output_type": "stream",
     "text": [
      "The autoreload extension is already loaded. To reload it, use:\n",
      "  %reload_ext autoreload\n"
     ]
    }
   ],
   "source": [
    "%load_ext autoreload\n",
    "%autoreload 2"
   ]
  },
  {
   "cell_type": "code",
   "execution_count": null,
   "id": "2593a49a-ac3b-4e91-92df-b6dca29a52ce",
   "metadata": {},
   "outputs": [],
   "source": [
    "#| default_exp core"
   ]
  },
  {
   "cell_type": "code",
   "execution_count": null,
   "id": "ad36532f-cad6-4c87-b62a-abc1668402d9",
   "metadata": {},
   "outputs": [],
   "source": [
    "#| hide\n",
    "from nbdev.showdoc import *"
   ]
  },
  {
   "cell_type": "markdown",
   "id": "e423dd6e-2d59-4cda-b1fe-4f07cccd3958",
   "metadata": {},
   "source": [
    "nbdev 한글 문제 해결을 위해서는 encoding을 바꾸어야 합니다.\n",
    "\n",
    "1. doclinks.py에서 49번째 줄 p.read_text()를 p.read_text(encoding='utf-8')으로 바꾸면 됩니다.(총 3가지가 있어서 찾아바꾸기가 좋은 것 같습니다.)\n",
    "2. serve.py 파일에서도 25번째 줄에 p.read_text()를 p.read_text(encoding='utf-8)\n",
    "3. setup에 있는 read 도 바꾸어야 합니다.\n"
   ]
  },
  {
   "cell_type": "markdown",
   "id": "691185f1-8c4e-46f0-82a4-cffba74d54ac",
   "metadata": {},
   "source": [
    "### gencache error 해결 \n",
    "\n",
    "캐시가 충돌하는 문제를 해결하기 위해서 장치를 마련했습니다.\n",
    "오류가 나는지 확인은 필요할 것으로 보입니다.\n"
   ]
  },
  {
   "cell_type": "code",
   "execution_count": null,
   "id": "3710489f-0968-4045-a8b4-452580059485",
   "metadata": {},
   "outputs": [],
   "source": [
    "#| export\n",
    "\n",
    "import os\n",
    "import shutil\n",
    "from contextlib import contextmanager\n",
    "\n",
    "def dispatch(app_name:str):\n",
    "    try:\n",
    "        from win32com import client\n",
    "        app = client.gencache.EnsureDispatch(app_name)\n",
    "    except AttributeError:\n",
    "        # Corner case dependencies.\n",
    "        import os\n",
    "        import re\n",
    "        import sys\n",
    "        import shutil\n",
    "        # Remove cache and try again.\n",
    "        MODULE_LIST = [m.__name__ for m in sys.modules.values()]\n",
    "        for module in MODULE_LIST:\n",
    "            if re.match(r'win32com\\.gen_py\\..+', module):\n",
    "                del sys.modules[module]\n",
    "        shutil.rmtree(os.path.join(os.environ.get('LOCALAPPDATA'), 'Temp', 'gen_py'))\n",
    "        from win32com import client\n",
    "        app = client.gencache.EnsureDispatch(app_name)\n",
    "    return app"
   ]
  },
  {
   "cell_type": "markdown",
   "id": "567552b7-f4cb-4ae1-b590-8e0925ae0768",
   "metadata": {},
   "source": [
    "### 필요한 패키지는 아래와 같습니다. "
   ]
  },
  {
   "cell_type": "code",
   "execution_count": null,
   "id": "95c30c7f-433b-4c6b-81ef-b6f14573f2ae",
   "metadata": {},
   "outputs": [],
   "source": [
    "#| export\n",
    "from win32com import client as wc\n",
    "from pathlib import Path\n",
    "from fastcore.basics import patch"
   ]
  },
  {
   "cell_type": "code",
   "execution_count": null,
   "id": "57ea633c-2d62-4d5c-aa4c-b196ffed14c1",
   "metadata": {},
   "outputs": [
    {
     "ename": "ModuleNotFoundError",
     "evalue": "No module named 'HwpApi'",
     "output_type": "error",
     "traceback": [
      "\u001b[1;31m---------------------------------------------------------------------------\u001b[0m",
      "\u001b[1;31mModuleNotFoundError\u001b[0m                       Traceback (most recent call last)",
      "Cell \u001b[1;32mIn[12], line 2\u001b[0m\n\u001b[0;32m      1\u001b[0m \u001b[38;5;66;03m#| export \u001b[39;00m\n\u001b[1;32m----> 2\u001b[0m \u001b[38;5;28;01mfrom\u001b[39;00m \u001b[38;5;21;01mHwpApi\u001b[39;00m\u001b[38;5;21;01m.\u001b[39;00m\u001b[38;5;21;01mactions\u001b[39;00m \u001b[38;5;28;01mimport\u001b[39;00m _Actions, _Action\n\u001b[0;32m      3\u001b[0m \u001b[38;5;28;01mfrom\u001b[39;00m \u001b[38;5;21;01mHwpApi\u001b[39;00m\u001b[38;5;21;01m.\u001b[39;00m\u001b[38;5;21;01mfunctions\u001b[39;00m \u001b[38;5;28;01mimport\u001b[39;00m get_absolute_path, check_dll, get_value\n",
      "\u001b[1;31mModuleNotFoundError\u001b[0m: No module named 'HwpApi'"
     ]
    }
   ],
   "source": [
    "#| export \n",
    "from HwpApi.actions import _Actions, _Action\n",
    "from HwpApi.functions import get_absolute_path, check_dll, get_value"
   ]
  },
  {
   "cell_type": "markdown",
   "id": "787089bc-65bb-4969-8138-5dabf0cddaf4",
   "metadata": {},
   "source": [
    "액션을 좀더 쓰기 편하게 하기 위해서 구성하였습니다."
   ]
  },
  {
   "cell_type": "markdown",
   "id": "cc4ed0f6-6f66-4f71-bada-46df877d804a",
   "metadata": {},
   "source": [
    "App은 기존 hwpali를 wrapping 하여 보다 사용하기 쉽게 만드는 것을 목적으로 하고 있는 클래스 입니다.\n",
    "한글 컨트롤과 동등한 기능입니다.\n",
    "기본 메소드를 보다 쓰기 쉽게 만들고자 합니다.\n",
    "앞으로 추가할 기능은 화면 크기 조정 등이 있습니다.\n",
    "api 메소드를 통해 win32com의 방식으로 모두 사용할 수 있어 다양하게 사용할 수 있습니다."
   ]
  },
  {
   "cell_type": "markdown",
   "id": "b55d993f-afaf-4bbc-9ec5-d62aa8e64efa",
   "metadata": {},
   "source": [
    "기본적으로는 `App` 클래스와 `_Action`클래스가 있습니다.\n",
    "`_Action` 클래스는 `App`로만 생성되어야 하기 때문에 언더바로 시작합니다."
   ]
  },
  {
   "cell_type": "code",
   "execution_count": null,
   "id": "80344b16-1d5c-4c16-a7f8-db8f7256b0b5",
   "metadata": {},
   "outputs": [],
   "source": [
    "#| export\n",
    "class App:\n",
    "    ''' App 클래스는 한컴오피스의 한/글 프로그램과 상호작용하기 위한 인터페이스를 제공합니다.'''\n",
    "    def __init__(self, api=None):\n",
    "        ''' `__init__` 함수에서는 `api` 객체를 인자로 받습니다. \n",
    "        만약 `api`가 제공되지 않았을 경우, `wc.gencache.EnsureDispatch(\"HWPFrame.HwpObject\")`를 호출하여 \n",
    "        기본값으로 한/글 프로그램의 COM 객체를 생성합니다. 그리고 `self.api` 속성에 이 객체를 할당합니다. \n",
    "        `_Actions` 클래스의 객체를 생성하여 `self.actions` 속성에 할당하고, `self.set_visible()` 함수를 호출합니다.'''\n",
    "        if not api:        \n",
    "            api = dispatch(\"HWPFrame.HwpObject\")\n",
    "        self.api = api\n",
    "        self.actions = _Actions(self)\n",
    "        self.set_visible()\n",
    "        check_dll()\n",
    "        self.api.RegisterModule(\"FilePathCheckDLL\", \"FilePathCheckerModule\")\n",
    "                \n",
    "    def __str__(self): return f\"<Hwp App: {self.get_filepath()}>\"\n",
    "    __repr__ = __str__"
   ]
  },
  {
   "cell_type": "code",
   "execution_count": null,
   "id": "f6d29efb-53f0-424a-a652-babac1a1f9d4",
   "metadata": {},
   "outputs": [],
   "source": [
    "#| export\n",
    "@patch\n",
    "def set_visible(app:App, is_visible=True, window_i=0):\n",
    "    '''`set_visible()` 함수는 한/글 프로그램의 창을 화면에 보이거나 숨기기 위해 호출됩니다. \n",
    "    `is_visible` 인자가 `True`일 경우 창이 화면에 보이고, `False`일 경우 숨깁니다. \n",
    "    `window_i` 인자는 창의 인덱스를 지정합니다.'''\n",
    "\n",
    "    app.api.XHwpWindows.Item(window_i).Visible = is_visible"
   ]
  },
  {
   "cell_type": "code",
   "execution_count": null,
   "id": "a41fa337-89b3-4e57-85e3-778f0a71baa0",
   "metadata": {},
   "outputs": [],
   "source": [
    "#| export\n",
    "@patch\n",
    "def get_filepath(app:App):\n",
    "    '''`get_filepath()` 함수는 현재 열려있는 한/글 문서의 경로를 반환합니다.'''\n",
    "    doc = app.api.XHwpDocuments.Active_XHwpDocument\n",
    "    return doc.FullName"
   ]
  },
  {
   "cell_type": "code",
   "execution_count": null,
   "id": "87c8ed15-c7d6-459d-adea-8faf54e3005a",
   "metadata": {},
   "outputs": [],
   "source": [
    "import pywintypes\n",
    "\n",
    "try:\n",
    "    app = App(app.api)\n",
    "except NameError:\n",
    "    app = App()\n",
    "except pywintypes.com_error:\n",
    "    app = App()\n"
   ]
  },
  {
   "cell_type": "code",
   "execution_count": null,
   "id": "9577748a-1167-479b-a77b-bccc31fe3f4b",
   "metadata": {},
   "outputs": [],
   "source": [
    "#| export\n",
    "@patch\n",
    "def open(app:App, path:str):\n",
    "    '''`open()` 함수는 파일 경로를 인자로 받아 해당 파일을 한/글 프로그램에서 엽니다. \n",
    "    `get_absolute_path()` 함수를 호출하여 절대 경로로 변환한 후, `api.Open()` 함수를 호출하여 파일을 엽니다. \n",
    "    열린 파일의 경로를 반환합니다.'''\n",
    "    name = get_absolute_path(path)\n",
    "    app.api.Open(name)\n",
    "    return name"
   ]
  },
  {
   "cell_type": "code",
   "execution_count": null,
   "id": "9441653a-c688-4c3c-acf1-196424967691",
   "metadata": {},
   "outputs": [],
   "source": [
    "app.open(r\"C:\\Users\\freed\\Downloads\\일반관리비 관리 자료 작성\\1. Template6_일반관리비template_0309_1730(수정).hwp\")"
   ]
  },
  {
   "cell_type": "code",
   "execution_count": null,
   "id": "c8b7c5ee-0480-4f61-96d2-ec76b6fff98b",
   "metadata": {},
   "outputs": [],
   "source": [
    "#| export\n",
    "@patch\n",
    "def save(app:App, path=None):\n",
    "    '''`save()` 함수는 현재 열려있는 문서를 저장하거나 다른 이름으로 저장합니다. \n",
    "    `path` 인자가 주어지지 않은 경우 현재 문서를 덮어쓰기로 저장하고, 저장된 파일의 경로를 반환합니다. \n",
    "    `path` 인자가 주어진 경우, `Path` 모듈을 이용하여 파일 확장자를 추출한 후, 해당 확장자에 맞게 문서를 저장합니다. \n",
    "    저장된 파일의 경로를 반환합니다.'''\n",
    "\n",
    "    if not path:\n",
    "        app.api.Save()\n",
    "        return app.get_filepath()\n",
    "    name = get_absolute_path(path)\n",
    "    extension = Path(name).suffix\n",
    "    format_ = {\".hwp\": \"HWP\", \".pdf\": \"PDF\", \".hwpx\": \"HWPML2X\"}.get(extension)\n",
    "\n",
    "    app.api.SaveAs(name, format_)\n",
    "    return name"
   ]
  },
  {
   "cell_type": "code",
   "execution_count": null,
   "id": "3809847f-d58e-4ca5-9909-50156bc1d2a7",
   "metadata": {},
   "outputs": [],
   "source": [
    "#| export\n",
    "@patch\n",
    "def close(app:App):\n",
    "    '''`close()` 함수는 현재 열려있는 문서를 닫습니다.'''\n",
    "    app.api.Run(\"FileClose\")"
   ]
  },
  {
   "cell_type": "code",
   "execution_count": null,
   "id": "2b9178f8-a364-4c4a-9ed3-a41a2addd835",
   "metadata": {},
   "outputs": [],
   "source": [
    "#| export\n",
    "@patch\n",
    "def quit(app:App):\n",
    "    '''`quit()` 함수는 한/글 프로그램을 종료합니다.'''\n",
    "    app.api.Run(\"FileQuit\")"
   ]
  },
  {
   "cell_type": "code",
   "execution_count": null,
   "id": "eda60c32-d1e4-417a-a23a-07ddc11b0ce8",
   "metadata": {},
   "outputs": [],
   "source": [
    "#| export\n",
    "@patch        \n",
    "def create_action(app:App, action_key:str):\n",
    "    '''`create_action()` 함수는 `_Action` 클래스의 객체를 생성하여 반환합니다.'''\n",
    "    return _Action(app, action_key)"
   ]
  },
  {
   "cell_type": "code",
   "execution_count": null,
   "id": "f1eecac0-4141-47ce-9348-5eb44345d810",
   "metadata": {},
   "outputs": [],
   "source": [
    "#| export\n",
    "@patch    \n",
    "def create_parameterset(app:App, action_key:str):\n",
    "    '''`create_parameterset()` 함수는 특정 액션의 파라미터셋을 반환합니다.\n",
    "    `_action_info` 딕셔너리에서 액션에 대한 정보를 찾아서 파라미터셋의 키 값을 가져옵니다. 파라미터셋 객체를 반환합니다.'''\n",
    "    pset_key, description = _action_info.get(action_key, None)\n",
    "    if not pset_key:\n",
    "        return None\n",
    "    return getattr(app.api.HParameterSet, f\"H{pset_key}\")\n"
   ]
  },
  {
   "cell_type": "code",
   "execution_count": null,
   "id": "5768c259-3d17-44fe-842d-c8ec7b508ea5",
   "metadata": {},
   "outputs": [],
   "source": [
    "#| export\n",
    "@patch\n",
    "def insert_text(app:App, text:str):\n",
    "    '''`text를 입력합니다.'''\n",
    "    action = app.actions.InsertText()\n",
    "    p = action.pset\n",
    "    p.Text = text\n",
    "    return action.run()"
   ]
  },
  {
   "cell_type": "code",
   "execution_count": null,
   "id": "42e7bc83-753e-44c3-b46c-53d8d4d3b32b",
   "metadata": {},
   "outputs": [],
   "source": [
    "app.insert_text(\"test\")"
   ]
  },
  {
   "cell_type": "code",
   "execution_count": null,
   "id": "4c2ce1a2-cdee-4e8d-acbb-9aef4728f3bd",
   "metadata": {},
   "outputs": [],
   "source": [
    "#| export\n",
    "@patch\n",
    "def find_files(app:App):\n",
    "    '''`text를 입력합니다.'''\n",
    "    action = app.actions.InsertText\n",
    "    p = action.pset\n",
    "    p.Text = text\n",
    "    return action.run()"
   ]
  },
  {
   "cell_type": "code",
   "execution_count": null,
   "id": "ea9cafbf-469e-4a16-9d69-15c651f2c512",
   "metadata": {},
   "outputs": [],
   "source": [
    "#| export\n",
    "mask_options = {\n",
    "    \"Normal\": 0x00,         # \"본문을 대상으로 검색한다.(서브리스트를 검색하지 않는다.)\"\n",
    "    \"Char\": 0x01,           # \"char 타입 컨트롤 마스크를 대상으로 한다.(강제줄나눔, 문단 끝, 하이픈, 묶움빈칸, 고정폭빈칸, 등...)\"\n",
    "    \"Inline\": 0x02,         # \"inline 타입 컨트롤 마스크를 대상으로 한다.(누름틀 필드 끝, 등...)\"\n",
    "    \"Ctrl\": 0x04,           # \"extende 타입 컨트롤 마스크를 대상으로 한다.(바탕쪽, 프레젠테이션, 다단, 누름틀 필드 시작, Shape Object, 머리말, 꼬리말, 각주, 미주, 번호관련 컨트롤, 새 번호 관련 컨트롤, 감추기, 찾아보기, 글자 겹침, 등...)\"\n",
    "    \"All\": None\n",
    "}\n",
    "\n",
    "scan_spos_keys = {\n",
    "    \"Current\": 0x0000,      # \"캐럿 위치부터. (시작 위치)\",\n",
    "    \"Specified\": 0x0010,    # \"특정 위치부터. (시작 위치)\",\n",
    "    \"Line\": 0x0020,         # \"줄의 시작부터. (시작 위치)\",\n",
    "    \"Paragraph\": 0x0030,    # \"문단의 시작부터. (시작 위치)\"\n",
    "    \"Section\": 0x0040,      # \"구역의 시작부터. (시작 위치)\"\n",
    "    \"List\": 0x0050,         # \"리스트의 시작부터. (시작 위치)\"\n",
    "    \"Control\": 0x0060,      # \"컨트롤의 시작부터. (시작 위치)\"\n",
    "    \"Document\": 0x0070,     # \"문서의 시작부터. (시작 위치)\"\n",
    "}\n",
    "\n",
    "scan_epos_keys = {\n",
    "    \"Current\": 0x0000,      # \"캐럿 위치까지. (끝 위치)\"\n",
    "    \"Specified\": 0x0001,    # \"특정 위치까지. (끝 위치)\"\n",
    "    \"Line\": 0x0002,         # \"줄의 끝까지. (끝 위치)\"\n",
    "    \"Paragraph\": 0x0003,    # \"문단의 끝까지. (끝 위치)\"\n",
    "    \"Section\": 0x0004,      # \"구역의 끝까지. (끝 위치)\"\n",
    "    \"List\": 0x0005,         # \"리스트의 끝까지. (끝 위치)\"\n",
    "    \"Control\": 0x0006,      # \"컨트롤의 끝까지. (끝 위치)\"\n",
    "    \"Document\": 0x0007,     # \"문서의 끝까지. (끝 위치)\"\n",
    "}\n",
    "\n",
    "scan_directions = {\n",
    "    \"Forward\": 0x0000, # \"정뱡향. (검색 방향)\"\n",
    "    \"Backward\": 0x0100  # \"역방향. (검색 방향)\"\n",
    "}\n",
    "\n",
    "\n",
    "def _get_text(app):\n",
    "    \"\"\"스캔한 텍스트 텍스트 제너레이터\"\"\"\n",
    "    flag, text = 2, \"\"\n",
    "    while flag not in [0, 1, 101, 102]:\n",
    "        flag, text = app.api.GetText()\n",
    "        yield text\n",
    "\n",
    "@patch\n",
    "@contextmanager\n",
    "def scan(app:App, option=\"All\", selection=False, scan_spos=\"Document\", scan_epos=\"Document\", spara=None, spos=None, epara=None, epos=None, scan_direction=\"Forward\"):\n",
    "    \n",
    "    # set start and end position\n",
    "    spos_id = get_value(scan_spos_keys, scan_spos)\n",
    "    epos_id = get_value(scan_epos_keys, scan_epos)\n",
    "    range_ = spos_id + epos_id\n",
    "    # if selection\n",
    "    if selection:\n",
    "        range_ = 0x00ff    # \"검색의 범위를 블록으로 제한.\"\n",
    "    \n",
    "    # set direction\n",
    "    direction = get_value(scan_directions, scan_direction)\n",
    "    range_ = range_ + direction\n",
    "    app.api.InitScan(option=get_value(mask_options, option), Range=range_, spara=spara, spos=spos, epara=epara, epos=epos)\n",
    "    yield _get_text(app)   \n",
    "    app.api.ReleaseScan()"
   ]
  },
  {
   "cell_type": "code",
   "execution_count": null,
   "id": "e6ed63df-d9dd-433a-acc2-1568abcb7576",
   "metadata": {},
   "outputs": [],
   "source": [
    "#| export\n",
    "move_ids = {\n",
    "    \"Main\": 0,    # 루트 리스트의 특정 위치.(para pos로 위치 지정)\n",
    "    \"CurList\": 1,    # 현재 리스트의 특정 위치.(para pos로 위치 지정)\n",
    "    \"TopOfFile\": 2,   #문서의 시작으로 이동.\n",
    "    \"BottomOfFile\": 3,   # 문서의 끝으로 이동.\n",
    "    \"TopOfList\": 4,    # 현재 리스트의 시작으로 이동\n",
    "    \"BottomOfList\": 5,   # 현재 리스트의 끝으로 이동\n",
    "    \"StartOfPara\": 6,   # 현재 위치한 문단의 시작으로 이동\n",
    "    \"EndOfPara\": 7,  # 현재 위치한 문단의 끝으로 이동\n",
    "    \"StartOfWord\": 8,  # 현재 위치한 단어의 시작으로 이동.(현재 리스트만을 대상으로 동작한다.)\n",
    "    \"EndOfWord\": 9,  # 현재 위치한 단어의 끝으로 이동.(현재 리스트만을 대상으로 동작한다.)\n",
    "    \"NextPara\": 10, # 다음 문단의 시작으로 이동.(현재 리스트만을 대상으로 동작한다.)\n",
    "    \"PrevPara\": 11, # 앞 문단의 끝으로 이동.(현재 리스트만을 대상으로 동작한다.)\n",
    "    \"NextPos\": 12, # 한 글자 뒤로 이동.(서브 리스트를 옮겨 다닐 수 있다.)\n",
    "    \"PrevPos\": 13, # 한 글자 앞으로 이동.(서브 리스트를 옮겨 다닐 수 있다.)\n",
    "    \"NextPosEx\": 14,  # 한 글자 뒤로 이동.(서브 리스트를 옮겨 다닐 수 있다. 머리말/꼬리말, 각주/미주, 글상자 포함.)\n",
    "    \"PrevPosEx\": 15,   # 한 글자 앞으로 이동.(서브 리스트를 옮겨 다닐 수 있다. 머리말/꼬리말, 각주/미주, 글상자 포함.)\n",
    "    \"NextChar\": 16,  # 한 글자 뒤로 이동.(현재 리스트만을 대상으로 동작한다.)\n",
    "    \"PrevChar\": 17,  # 한 글자 앞으로 이동.(현재 리스트만을 대상으로 동작한다.)\n",
    "    \"NextWord\": 18, # 한 단어 뒤로 이동.(현재 리스트만을 대상으로 동작한다.)\n",
    "    \"PrevWord\": 19, # 한 단어 앞으로 이동.(현재 리스트만을 대상으로 동작한다.)\n",
    "    \"NextLine\": 20, # 한 줄 아래로 이동.\n",
    "    \"PrevLine\": 21, # 한 줄 위로 이동.\n",
    "    \"StartOfLine\": 22, # 현재 위치한 줄의 시작으로 이동.\n",
    "    \"EndOfLine\": 23,  # 현재 위치한 줄의 끝으로 이동.\n",
    "    \"ParentList\": 24, # 한 레벨 상위로 이동한다.\n",
    "    \"TopLevelList\": 25, # 탑레벨 리스트로 이동한다.\n",
    "    \"RootList\": 26, # 루트 리스트로 이동한다. 현재 루트 리스트에 위치해 있어 더 이상 상위 리스트가 없을 때는 위치 이동 없이 반환한다. 이동한 후의 위치는 상위 리스트에서 서브리스트가 속한 컨트롤 코드가 위치한 곳이다. 위치 이동시 셀렉션은 무조건 풀린다.\n",
    "    \"CurrentCaret\": 27, # 현재 캐럿이 위치한 곳으로 이동한다. (캐럿 위치가 뷰의 맨 위쪽으로 올라간다. )\n",
    "    \"LeftOfCell\": 100,  # 현재 캐럿이 위치한 셀의 왼쪽\n",
    "    \"RightOfCell\": 101,  # 현재 캐럿이 위치한 셀의 오른쪽\n",
    "    \"UpOfCell\": 102,  # 현재 캐럿이 위치한 셀의 위쪽\n",
    "    \"DownOfCell\": 103,  # 현재 캐럿이 위치한 셀의 아래쪽\n",
    "    \"StartOfCell\": 104, # 현재 캐럿이 위치한 셀에서 행(row)의 시작\n",
    "    \"EndOfCell\": 105, # 현재 캐럿이 위치한 셀에서 행(row)의 끝\n",
    "    \"TopOfCell\": 106, # 현재 캐럿이 위치한 셀에서 열(column)의 시작\n",
    "    \"BottomOfCell\": 107, #현재 캐럿이 위치한 셀에서 열(column)의 끝\n",
    "    \"ScrPos\": 200, # 한/글 문서장에서의 screen 좌표로서 위치를 설정 한다.\n",
    "    \"ScanPos\": 201, # GetText() 실행 후 위치로 이동한다.\n",
    "}\n",
    "\n",
    "@patch\n",
    "def move(app:App, move_key=\"ScanPos\", para=None, pos=None):\n",
    "    \"\"\"키워드를 바탕으로 캐럿 위치를 이동시킵니다.\"\"\"\n",
    "    \n",
    "    move_id = get_value(move_ids, move_key)\n",
    "    return app.api.MovePos(moveID=move_id, Para=para, pos=pos)\n",
    "    "
   ]
  },
  {
   "cell_type": "code",
   "execution_count": null,
   "id": "5a174e89-13d4-4c03-8485-f58de7364603",
   "metadata": {},
   "outputs": [],
   "source": [
    "get_value(move_ids, \"ScanPos\")"
   ]
  },
  {
   "cell_type": "code",
   "execution_count": null,
   "id": "bc4fab08-b1d4-4359-8d2f-d1b92a7ba458",
   "metadata": {},
   "outputs": [],
   "source": [
    "with app.scan() as scan:\n",
    "    for text in scan:\n",
    "        print(text)\n",
    "        if \"청년인턴\" in text:\n",
    "            app.move()"
   ]
  },
  {
   "cell_type": "code",
   "execution_count": null,
   "id": "23e23a40-9bcc-4c27-aa21-7ab08458ab99",
   "metadata": {},
   "outputs": [],
   "source": [
    "@patch\n",
    "def setup_page(app:App, top=20, bottom=10, right=20, left=20, header=15, footer=5, gutter=0):\n",
    "    \"\"\"\n",
    "    페이지를 설정합니다.\n",
    "    \"\"\"\n",
    "    action = app.actions.PageSetup()\n",
    "    p = action.pset\n",
    "\n",
    "    p.PageDef.TopMargin = app.api.MiliToHwpUnit(top)\n",
    "    p.PageDef.HeaderLen = app.api.MiliToHwpUnit(header)\n",
    "    p.PageDef.RightMargin = app.api.MiliToHwpUnit(right)\n",
    "    p.PageDef.BottomMargin = app.api.MiliToHwpUnit(bottom)\n",
    "    p.PageDef.FooterLen = app.api.MiliToHwpUnit(footer)\n",
    "    p.PageDef.LeftMargin = app.api.MiliToHwpUnit(left)\n",
    "    p.PageDef.GutterLen = app.api.MiliToHwpUnit(gutter)\n",
    "    \n",
    "    return action.run()"
   ]
  },
  {
   "cell_type": "code",
   "execution_count": null,
   "id": "750f6607-3f28-4b1f-8e22-d37475afada7",
   "metadata": {},
   "outputs": [],
   "source": [
    "#| export\n",
    "size_options = {\n",
    "    \"realSize\": 0,   # 이미지를 원래의 크기로 삽입한다.\n",
    "    \"specificSize\": 1,    # width와 height에 지정한 크기로 그림을 삽입한다.\n",
    "    \"cellSize\": 2,    # 현재 캐럿이 표의 셀안에 있을 경우, 셀의 크기에 맞게 자동 조정하여 삽입한다. \n",
    "    \"cellSizeWithSameRatio\":3    # 현재 캐럿이 표의 셀 안에 있을 경우, 셀의 크기에 맞추어 원본 이미지의 가로 세로 비율이 동일하게 확대/축소하여 삽입한다.\n",
    "}\n",
    "\n",
    "effects = {\n",
    "    \"RealPicture\": 0,   # 원본\n",
    "    \"GrayScale\": 1,    # 그레이 스케일\n",
    "    \"BlackWhite\": 2,     # 흑백효과\n",
    "}\n",
    "\n",
    "@patch\n",
    "def insert_picture(app:App, fpath, width=None, height=None, size_option=\"realSize\", reverse=False, watermark=False, effect=\"RealPicture\"):\n",
    "    \"\"\"\n",
    "    사이즈를 지정하여 사진 삽입\n",
    "    \"\"\"\n",
    "    path = Path(fpath)\n",
    "    sizeoption = get_value(size_options, size_option)\n",
    "    effect = get_value(effects, effect)\n",
    "    return app.api.InsertPicture(\n",
    "        path.absolute().as_posix(), \n",
    "        Width=width, \n",
    "        Height=height, \n",
    "        sizeoption=sizeoption,\n",
    "        reverse=reverse,\n",
    "        watermark=watermark,\n",
    "        effect=effect\n",
    "    )"
   ]
  },
  {
   "cell_type": "code",
   "execution_count": null,
   "id": "5ddd4336-3f09-4e40-8965-c730a6dd2465",
   "metadata": {},
   "outputs": [],
   "source": [
    "#| export\n",
    "@patch\n",
    "def get_selected_text(app:App):\n",
    "    \"\"\"\n",
    "    선택된 영역의 텍스트를 불러온다.\n",
    "    \"\"\"\n",
    "    with app.scan(selection=True) as scan:\n",
    "        text = \"\\n\".join(scan)\n",
    "    return text\n"
   ]
  },
  {
   "cell_type": "code",
   "execution_count": null,
   "id": "1fe53f9b-db77-4092-a0c5-f301a5a44ab7",
   "metadata": {},
   "outputs": [],
   "source": [
    "#| export\n",
    "directions = {\n",
    "    \"Forward\": 0,\n",
    "    \"Backward\": 1, \n",
    "    \"All\": 2\n",
    "}\n",
    "\n",
    "@patch\n",
    "def replace_all(app:App, \n",
    "                old = \"\",\n",
    "                new = \"\",\n",
    "                old_fontcolor=None,  # 찾을 폰트 색\n",
    "                new_fontcolor=None,  # 바꿀 폰트 색\n",
    "                old_fontsize=None,   # 찾을 폰트 크기(height)\n",
    "                new_fontsize=None,   # 바꿀 폰트 크기(height)\n",
    "                old_fontname=\"\",  # 찾을 글꼴\n",
    "                old_fonttype=1,   # 찾을 글꼴 타입 TTF = 1, HTF = 2\n",
    "                new_fontname=\"\",  # 바꿀 글꼴 \n",
    "                new_fonttype=1,   # 바꿀 글꼴 타입 TTF = 1, HTF = 2\n",
    "                old_fontratio=None,  # 찾을 장평\n",
    "                new_fontratio=None,  # 바꿀 장평\n",
    "                old_spacing=None,  # 찾을 자간\n",
    "                new_spacing=None,  # 바꿀 자간\n",
    "                old_bold=None,  # 찾을 볼드\n",
    "                new_bold=None,  # 바꿀 볼드\n",
    "                old_italic=None, # 찾을 이텔릭\n",
    "                new_italic=None,  # 바꿀 이텔릭\n",
    "                old_underline=None,  # 찾을 밑줄\n",
    "                new_underline=None,  # 바꿀 밑줄\n",
    "                old_strike_out=None,  # 찾을 취소선\n",
    "                new_strike_out=None,  # 바꿀 취소선\n",
    "                ignore_message=True,  # 메시지 무시 여부\n",
    "                direction=\"All\",   # 찾을 방향\n",
    "                match_case=False,  # 글자 \n",
    "                all_word_forms=False,  # \n",
    "                several_words=False,\n",
    "                use_wild_cards=False,\n",
    "                whole_word_only=False,\n",
    "                auto_spell=True,\n",
    "                replace_mode=True,\n",
    "                ignore_find_string=False,\n",
    "                ignore_replace_string=False,\n",
    "                find_style=\"\",\n",
    "                replace_style=\"\",\n",
    "                find_jaso=False,\n",
    "                find_reg_exp=False,\n",
    "                find_type=True,\n",
    "               ):\n",
    "    \n",
    "    action = app.actions.AllReplace()\n",
    "    p = action.pset\n",
    "    \n",
    "    # set options\n",
    "    p.FindString = old\n",
    "    p.ReplaceString = new\n",
    "    p.IgnoreMessage = ignore_message\n",
    "    p.MatchCase = match_case\n",
    "    p.AllWordForms = all_word_forms\n",
    "    p.Direction = get_value(directions, direction)\n",
    "    p.SeveralWords = several_words\n",
    "    p.UseWildCards = use_wild_cards\n",
    "    p.WholeWordOnly = whole_word_only\n",
    "    p.AutoSpell = auto_spell\n",
    "    p.ReplaceMode = replace_mode\n",
    "    p.IgnoreFindString = ignore_find_string\n",
    "    p.IgnoreReplaceString = ignore_replace_string\n",
    "    p.FindStyle = find_style\n",
    "    p.ReplaceStyle = replace_style\n",
    "    p.FindJaso = find_jaso\n",
    "    p.FindRegExp = find_reg_exp\n",
    "    p.FindType = find_type\n",
    "\n",
    "    # set old charshape\n",
    "    olds = []\n",
    "    categories = [\"Hangul\", \"Latin\", \"Hanja\", \"Japanese\", \"Other\", \"User\"]\n",
    "    \n",
    "    olds += [(\"FaceName\"+cat, old_fontname) for cat in categories] if old_fontname else []\n",
    "    olds += [(\"FontType\"+cat, old_fonttype) for cat in categories] if old_fontname else []\n",
    "    olds += list(\n",
    "        filter(lambda x: x[1], \n",
    "            [\n",
    "                (\"TextColor\", old_fontcolor),\n",
    "                (\"Height\", app.api.PointToHwpUnit(old_fontsize) if old_fontsize else None),\n",
    "                (\"Bold\", old_bold),\n",
    "                (\"Italic\", old_italic),\n",
    "                (\"StrikeOutType\", old_strike_out),\n",
    "                (\"UnderlineType\", old_underline),\n",
    "                (\"RatioHangul\", old_fontratio),\n",
    "                (\"RatioLatin\", old_fontratio),\n",
    "                (\"RatioHanja\", old_fontratio),\n",
    "                (\"RatioJapanese\", old_fontratio),\n",
    "                (\"RatioOther\", old_fontratio),\n",
    "                (\"RatioUser\", old_fontratio),\n",
    "            ]\n",
    "        )\n",
    "    ) \n",
    "    for key, value in olds:\n",
    "            setattr(p.FindCharShape, key, value)\n",
    "\n",
    "            \n",
    "    # set new charshape\n",
    "    news = []\n",
    "    news += [(\"FaceName\"+cat, new_fontname) for cat in categories] if new_fontname else []\n",
    "    news += [(\"FontType\"+cat, new_fonttype) for cat in categories] if new_fontname else []\n",
    "    news += list(\n",
    "        filter(lambda x: x[1], \n",
    "            [\n",
    "                (\"TextColor\", new_fontcolor),\n",
    "                (\"Height\", app.api.PointToHwpUnit(new_fontsize) if new_fontsize else None),\n",
    "                (\"Bold\", new_bold),\n",
    "                (\"Italic\", new_italic),\n",
    "                (\"StrikeOutType\", new_strike_out),\n",
    "                (\"UnderlineType\", new_underline),\n",
    "                (\"RatioHangul\", new_fontratio),\n",
    "                (\"RatioLatin\", new_fontratio),\n",
    "                (\"RatioHanja\", new_fontratio),\n",
    "                (\"RatioJapanese\", new_fontratio),\n",
    "                (\"RatioOther\", new_fontratio),\n",
    "                (\"RatioUser\", new_fontratio),\n",
    "            ]\n",
    "        )\n",
    "    )\n",
    "    \n",
    "    for key, value in news:\n",
    "        setattr(p.ReplaceCharShape, key, value)\n",
    "        \n",
    "    return action.run()\n",
    "    "
   ]
  },
  {
   "cell_type": "code",
   "execution_count": null,
   "id": "9304ab8f-2498-478f-bbbf-7d9694ccaff5",
   "metadata": {},
   "outputs": [],
   "source": [
    "app.replace_all(\"t\", \"txt\", new_fontname=\"가는안상수체\", new_fontsize=21, new_fonttype=1)"
   ]
  },
  {
   "cell_type": "code",
   "execution_count": null,
   "id": "7f6ad32d-3f0d-4960-ae65-15efc33c52e0",
   "metadata": {},
   "outputs": [],
   "source": [
    "app.replace_all(\"\", \"\", old_fontname=\"바탕체\", new_fontname=\"바탕체\", ignore_find_string=True, ignore_replace_string=True, new_fontsize=11, new_fonttype=1)"
   ]
  },
  {
   "cell_type": "code",
   "execution_count": null,
   "id": "0bf33c31-57ee-496d-82eb-ab299df1ca41",
   "metadata": {},
   "outputs": [],
   "source": [
    "#| export\n",
    "@patch\n",
    "def insert_file(app:App, fpath, keep_charshape=False, keep_parashape=False, keep_section=False, keep_style=False):\n",
    "    \"\"\"\n",
    "    파일 끼워 넣기\n",
    "    \"\"\"\n",
    "    \n",
    "    action = app.actions.InsertFile()\n",
    "    p = action.pset\n",
    "    p.filename= Path(fpath).absolute().as_posix()\n",
    "    p.KeepCharshape = keep_charshape\n",
    "    p.KeepParashape = keep_parashape\n",
    "    p.KeepSection = keep_section\n",
    "    p.KeepStyle = keep_style\n",
    "    \n",
    "    return action.run()"
   ]
  },
  {
   "cell_type": "markdown",
   "id": "1411ba8f-3171-4723-b3f8-7a68a03adeef",
   "metadata": {},
   "source": [
    "한글 문서 사용은 다음과 같이 할 수 있습니다. \n",
    "먼저 App 객체를 생성합니다."
   ]
  },
  {
   "cell_type": "code",
   "execution_count": null,
   "id": "67a6f2b6-0970-4bfa-9af6-7e4b53d69b22",
   "metadata": {},
   "outputs": [],
   "source": [
    "app.get_selected_text()"
   ]
  },
  {
   "cell_type": "code",
   "execution_count": null,
   "id": "8b25d878-6881-43c0-8ee7-feb2982e56d8",
   "metadata": {},
   "outputs": [],
   "source": [
    "p = app.actions.InsertFile().pset"
   ]
  },
  {
   "cell_type": "code",
   "execution_count": null,
   "id": "bdf9eed2-8801-4d9f-9b24-d9b57ef74112",
   "metadata": {},
   "outputs": [],
   "source": [
    "dir(p)"
   ]
  },
  {
   "cell_type": "code",
   "execution_count": null,
   "id": "3b681793-6696-4926-9bcd-664efa3e8368",
   "metadata": {},
   "outputs": [],
   "source": [
    "#| hide\n",
    "import nbdev; nbdev.nbdev_export()"
   ]
  }
 ],
 "metadata": {
  "kernelspec": {
   "display_name": "python3",
   "language": "python",
   "name": "python3"
  }
 },
 "nbformat": 4,
 "nbformat_minor": 5
}
