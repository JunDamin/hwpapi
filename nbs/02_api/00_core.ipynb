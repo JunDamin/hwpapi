{
 "cells": [
  {
   "cell_type": "raw",
   "id": "b556e355",
   "metadata": {},
   "source": [
    "---\n",
    "description: Core Classes for hwpapi\n",
    "output-file: core.html\n",
    "title: core\n",
    "\n",
    "---\n",
    "\n"
   ]
  },
  {
   "cell_type": "code",
   "execution_count": null,
   "id": "c9e154c9-6702-4d5f-8f33-c02ac59c891d",
   "metadata": {},
   "outputs": [],
   "source": [
    "#| hide\n",
    "%load_ext autoreload\n",
    "%autoreload 2"
   ]
  },
  {
   "cell_type": "code",
   "execution_count": null,
   "id": "2593a49a-ac3b-4e91-92df-b6dca29a52ce",
   "metadata": {},
   "outputs": [],
   "source": [
    "#| default_exp core"
   ]
  },
  {
   "cell_type": "code",
   "execution_count": null,
   "id": "ad36532f-cad6-4c87-b62a-abc1668402d9",
   "metadata": {},
   "outputs": [],
   "source": [
    "#| hide\n",
    "from nbdev.showdoc import *"
   ]
  },
  {
   "cell_type": "code",
   "execution_count": null,
   "id": "95c30c7f-433b-4c6b-81ef-b6f14573f2ae",
   "metadata": {},
   "outputs": [],
   "source": [
    "#| export\n",
    "from contextlib import contextmanager\n",
    "from pathlib import Path\n",
    "\n",
    "from fastcore.basics import patch"
   ]
  },
  {
   "cell_type": "code",
   "execution_count": null,
   "id": "57ea633c-2d62-4d5c-aa4c-b196ffed14c1",
   "metadata": {},
   "outputs": [],
   "source": [
    "#| export\n",
    "from hwpapi.actions import _Action, _Actions\n",
    "from hwpapi.dataclasses import CharShape, ParaShape\n",
    "from hwpapi.functions import (\n",
    "    check_dll,\n",
    "    dispatch,\n",
    "    get_absolute_path,\n",
    "    get_charshape_pset,\n",
    "    get_parashape_pset,\n",
    "    get_rgb_tuple,\n",
    "    get_value,\n",
    "    mili2unit,\n",
    "    point2unit,\n",
    "    set_charshape_pset,\n",
    "    set_parashape_pset,\n",
    "    set_pset,\n",
    "    unit2mili,\n",
    "    unit2point,\n",
    ")"
   ]
  },
  {
   "cell_type": "code",
   "execution_count": null,
   "id": "80344b16-1d5c-4c16-a7f8-db8f7256b0b5",
   "metadata": {},
   "outputs": [],
   "source": [
    "#| export\n",
    "class App:\n",
    "    \"\"\"App 클래스는 한컴오피스의 한/글 프로그램과 상호작용하기 위한 인터페이스를 제공합니다.\"\"\"\n",
    "\n",
    "    def __init__(self, api=None, is_visible=True):\n",
    "        \"\"\"`__init__` 함수에서는 `api` 객체를 인자로 받습니다.\n",
    "        만약 `api`가 제공되지 않았을 경우, `wc.gencache.EnsureDispatch(\"HWPFrame.HwpObject\")`를 호출하여\n",
    "        기본값으로 한/글 프로그램의 COM 객체를 생성합니다. 그리고 `self.api` 속성에 이 객체를 할당합니다.\n",
    "        `_Actions` 클래스의 객체를 생성하여 `self.actions` 속성에 할당하고, `self.set_visible()` 함수를 호출합니다.\n",
    "        \"\"\"\n",
    "        if not api:\n",
    "            api = dispatch(\"HWPFrame.HwpObject\")\n",
    "        self.api = api\n",
    "        self.actions = _Actions(self)\n",
    "        self.parameters = api.HParameterSet\n",
    "        self.set_visible(is_visible)\n",
    "        check_dll()\n",
    "        self.api.RegisterModule(\"FilePathCheckDLL\", \"FilePathCheckerModule\")\n",
    "\n",
    "    def __str__(self):\n",
    "        return f\"<Hwp App: {self.get_filepath()}>\"\n",
    "\n",
    "    __repr__ = __str__"
   ]
  },
  {
   "cell_type": "code",
   "execution_count": null,
   "id": "d67a7b5e-e604-4c2a-8a6d-e4056d35a68e",
   "metadata": {},
   "outputs": [],
   "source": [
    "#| export\n",
    "\n",
    "\n",
    "@patch\n",
    "def reload(app: App):\n",
    "    app.api = dispatch(\"HWPFrame.HwpObject\")\n",
    "    app.set_visible()\n",
    "    check_dll()\n",
    "    app.api.RegisterModule(\"FilePathCheckDLL\", \"FilePathCheckerModule\")"
   ]
  },
  {
   "cell_type": "code",
   "execution_count": null,
   "id": "f6d29efb-53f0-424a-a652-babac1a1f9d4",
   "metadata": {},
   "outputs": [],
   "source": [
    "#| export\n",
    "@patch\n",
    "def set_visible(app: App, is_visible=True, window_i=0):\n",
    "    \"\"\"`set_visible()` 함수는 한/글 프로그램의 창을 화면에 보이거나 숨기기 위해 호출됩니다.\n",
    "    `is_visible` 인자가 `True`일 경우 창이 화면에 보이고, `False`일 경우 숨깁니다.\n",
    "    `window_i` 인자는 창의 인덱스를 지정합니다.\"\"\"\n",
    "\n",
    "    app.api.XHwpWindows.Item(window_i).Visible = is_visible"
   ]
  },
  {
   "cell_type": "code",
   "execution_count": null,
   "id": "a41fa337-89b3-4e57-85e3-778f0a71baa0",
   "metadata": {},
   "outputs": [],
   "source": [
    "#| export\n",
    "@patch\n",
    "def get_filepath(app: App):\n",
    "    \"\"\"`get_filepath()` 함수는 현재 열려있는 한/글 문서의 경로를 반환합니다.\"\"\"\n",
    "    doc = app.api.XHwpDocuments.Active_XHwpDocument\n",
    "    return doc.FullName"
   ]
  },
  {
   "cell_type": "code",
   "execution_count": null,
   "id": "87c8ed15-c7d6-459d-adea-8faf54e3005a",
   "metadata": {},
   "outputs": [],
   "source": [
    "app = App()"
   ]
  },
  {
   "cell_type": "code",
   "execution_count": null,
   "id": "9577748a-1167-479b-a77b-bccc31fe3f4b",
   "metadata": {},
   "outputs": [],
   "source": [
    "#| export\n",
    "@patch\n",
    "def open(app: App, path: str):\n",
    "    \"\"\"`open()` 함수는 파일 경로를 인자로 받아 해당 파일을 한/글 프로그램에서 엽니다.\n",
    "    `get_absolute_path()` 함수를 호출하여 절대 경로로 변환한 후, `api.Open()` 함수를 호출하여 파일을 엽니다.\n",
    "    열린 파일의 경로를 반환합니다.\"\"\"\n",
    "    name = get_absolute_path(path)\n",
    "    app.api.Open(name)\n",
    "    return name"
   ]
  },
  {
   "cell_type": "code",
   "execution_count": null,
   "id": "9441653a-c688-4c3c-acf1-196424967691",
   "metadata": {},
   "outputs": [
    {
     "data": {
      "text/plain": [
       "'C:/Users/freed/Documents/python_projects/hwpapi/nbs/02_api/test/공문양식.hwp'"
      ]
     },
     "execution_count": null,
     "metadata": {},
     "output_type": "execute_result"
    }
   ],
   "source": [
    "app.open(\"test/공문양식.hwp\")"
   ]
  },
  {
   "cell_type": "code",
   "execution_count": null,
   "id": "c8b7c5ee-0480-4f61-96d2-ec76b6fff98b",
   "metadata": {},
   "outputs": [],
   "source": [
    "#| export\n",
    "@patch\n",
    "def save(app: App, path=None):\n",
    "    \"\"\"`save()` 함수는 현재 열려있는 문서를 저장하거나 다른 이름으로 저장합니다.\n",
    "    `path` 인자가 주어지지 않은 경우 현재 문서를 덮어쓰기로 저장하고, 저장된 파일의 경로를 반환합니다.\n",
    "    `path` 인자가 주어진 경우, `Path` 모듈을 이용하여 파일 확장자를 추출한 후, 해당 확장자에 맞게 문서를 저장합니다.\n",
    "    저장된 파일의 경로를 반환합니다.\"\"\"\n",
    "\n",
    "    if not path:\n",
    "        app.api.Save()\n",
    "        return app.get_filepath()\n",
    "    name = get_absolute_path(path)\n",
    "    extension = Path(name).suffix\n",
    "    format_ = {\n",
    "        \".hwp\": \"HWP\",\n",
    "        \".pdf\": \"PDF\",\n",
    "        \".hwpx\": \"HWPML2X\",\n",
    "        \".png\": \"PNG\",\n",
    "    }.get(extension)\n",
    "\n",
    "    app.api.SaveAs(name, format_)\n",
    "    return name"
   ]
  },
  {
   "cell_type": "code",
   "execution_count": null,
   "id": "3809847f-d58e-4ca5-9909-50156bc1d2a7",
   "metadata": {},
   "outputs": [],
   "source": [
    "#| export\n",
    "@patch\n",
    "def close(app: App):\n",
    "    \"\"\"`close()` 함수는 현재 열려있는 문서를 닫습니다.\"\"\"\n",
    "    app.api.Run(\"FileClose\")"
   ]
  },
  {
   "cell_type": "code",
   "execution_count": null,
   "id": "0a0e565e-cf57-416d-8f09-f4612f1dd2eb",
   "metadata": {},
   "outputs": [],
   "source": [
    "app.close()"
   ]
  },
  {
   "cell_type": "code",
   "execution_count": null,
   "id": "2b9178f8-a364-4c4a-9ed3-a41a2addd835",
   "metadata": {},
   "outputs": [],
   "source": [
    "#| export\n",
    "@patch\n",
    "def quit(app: App):\n",
    "    \"\"\"`quit()` 함수는 한/글 프로그램을 종료합니다.\"\"\"\n",
    "    app.api.Run(\"FileQuit\")"
   ]
  },
  {
   "cell_type": "code",
   "execution_count": null,
   "id": "eda60c32-d1e4-417a-a23a-07ddc11b0ce8",
   "metadata": {},
   "outputs": [],
   "source": [
    "#| export\n",
    "@patch\n",
    "def create_action(app: App, action_key: str):\n",
    "    \"\"\"`create_action()` 함수는 `_Action` 클래스의 객체를 생성하여 반환합니다.\"\"\"\n",
    "    return _Action(app, action_key)"
   ]
  },
  {
   "cell_type": "code",
   "execution_count": null,
   "id": "f1eecac0-4141-47ce-9348-5eb44345d810",
   "metadata": {},
   "outputs": [],
   "source": [
    "#| export\n",
    "@patch\n",
    "def create_parameterset(app: App, action_key: str):\n",
    "    \"\"\"`create_parameterset()` 함수는 특정 액션의 파라미터셋을 반환합니다.\n",
    "    `_action_info` 딕셔너리에서 액션에 대한 정보를 찾아서 파라미터셋의 키 값을 가져옵니다. 파라미터셋 객체를 반환합니다.\"\"\"\n",
    "    pset_key, description = _action_info.get(action_key, None)\n",
    "    if not pset_key:\n",
    "        return None\n",
    "    return getattr(app.api.HParameterSet, f\"H{pset_key}\")"
   ]
  },
  {
   "cell_type": "code",
   "execution_count": null,
   "id": "e08655b8-f4b4-4c9f-bb37-fc14e949b817",
   "metadata": {},
   "outputs": [],
   "source": [
    "#| export\n",
    "@patch\n",
    "def get_charshape(app: App):\n",
    "    action = app.actions.CharShape()\n",
    "    p = action.pset\n",
    "    return CharShape(p)"
   ]
  },
  {
   "cell_type": "code",
   "execution_count": null,
   "id": "22da27f4-f42c-4b0d-a91d-fe8f114afee6",
   "metadata": {},
   "outputs": [
    {
     "data": {
      "text/plain": [
       "<CharShape: hangul_font=함초롬바탕, latin_font=함초롬바탕, text_color=0, fontsize=10.0, bold=0, italic=0, superscript=0, subscript=0, offset=0, spacing=0, ratio=100, shade_color=#ffffff, shadow_color=#c0c0c0, shadow_offset_x=10, shadow_offset_y=10, strike_out_type=0, strike_out_color=0, underline_type=0, underline_shape=0, underline_color=0, outline_type=0>"
      ]
     },
     "execution_count": null,
     "metadata": {},
     "output_type": "execute_result"
    }
   ],
   "source": [
    "app.get_charshape()"
   ]
  },
  {
   "cell_type": "code",
   "execution_count": null,
   "id": "fc4bce4c-318f-4207-8b69-3de8a65958aa",
   "metadata": {},
   "outputs": [],
   "source": [
    "#| export\n",
    "@patch\n",
    "def set_charshape(app: App, charshape: CharShape):\n",
    "    \"\"\"`현재 위치의 글자 모양을 조정합니다.\"\"\"\n",
    "    action = app.actions.CharShape()\n",
    "    set_pset(action.pset, charshape.todict())\n",
    "    return action.run()"
   ]
  },
  {
   "cell_type": "code",
   "execution_count": null,
   "id": "dd50ba02-b5fa-4a9e-b2e5-20f187140383",
   "metadata": {},
   "outputs": [
    {
     "data": {
      "text/plain": [
       "True"
      ]
     },
     "execution_count": null,
     "metadata": {},
     "output_type": "execute_result"
    }
   ],
   "source": [
    "charshape = CharShape()\n",
    "charshape.font = \"바탕체\"\n",
    "app.set_charshape(charshape)"
   ]
  },
  {
   "cell_type": "code",
   "execution_count": null,
   "id": "e50d1cf1-b7e2-4720-8b64-e63a6f6c5b74",
   "metadata": {},
   "outputs": [
    {
     "data": {
      "text/plain": [
       "<CharShape: hangul_font=바탕체, latin_font=바탕체, text_color=0, fontsize=10.0, bold=0, italic=0, superscript=0, subscript=0, offset=0, spacing=0, ratio=100, shade_color=#ffffff, shadow_color=#c0c0c0, shadow_offset_x=10, shadow_offset_y=10, strike_out_type=0, strike_out_color=0, underline_type=0, underline_shape=0, underline_color=0, outline_type=0>"
      ]
     },
     "execution_count": null,
     "metadata": {},
     "output_type": "execute_result"
    }
   ],
   "source": [
    "app.get_charshape()"
   ]
  },
  {
   "cell_type": "code",
   "execution_count": null,
   "id": "192e1ed2-c10a-4a5b-badf-38f12b08996b",
   "metadata": {},
   "outputs": [],
   "source": [
    "#| export\n",
    "@patch\n",
    "def get_parashape(app: App):\n",
    "    action = app.actions.ParagraphShape()\n",
    "    p = action.pset\n",
    "\n",
    "    return get_parashape_pset(p)"
   ]
  },
  {
   "cell_type": "code",
   "execution_count": null,
   "id": "a0e8189b-2438-41d5-8a0e-82c93fbed76c",
   "metadata": {},
   "outputs": [
    {
     "data": {
      "text/plain": [
       "{'AlignType': 0,\n",
       " 'AutoSpaceEAsianEng': 0,\n",
       " 'AutoSpaceEAsianNum': 0,\n",
       " 'BorderConnect': 0,\n",
       " 'BorderOffsetBottom': 0,\n",
       " 'BorderOffsetLeft': 0,\n",
       " 'BorderOffsetRight': 0,\n",
       " 'BorderOffsetTop': 0,\n",
       " 'BorderText': 0,\n",
       " 'BreakLatinWord': 0,\n",
       " 'BreakNonLatinWord': 1,\n",
       " 'Checked': 0,\n",
       " 'Condense': 0,\n",
       " 'FontLineHeight': 0,\n",
       " 'HeadingType': 0,\n",
       " 'Indentation': 0,\n",
       " 'KeepLinesTogether': 0,\n",
       " 'KeepWithNext': 0,\n",
       " 'LeftMargin': 0,\n",
       " 'Level': 0,\n",
       " 'LineSpacing': 160,\n",
       " 'LineSpacingType': 0,\n",
       " 'LineWrap': 0,\n",
       " 'NextSpacing': 0,\n",
       " 'PagebreakBefore': 0,\n",
       " 'PrevSpacing': 0,\n",
       " 'RightMargin': 0,\n",
       " 'SnapToGrid': 1,\n",
       " 'SuppressLineNum': 0,\n",
       " 'TailType': 0,\n",
       " 'TextAlignment': 0,\n",
       " 'WidowOrphan': 0}"
      ]
     },
     "execution_count": null,
     "metadata": {},
     "output_type": "execute_result"
    }
   ],
   "source": [
    "app.get_parashape()"
   ]
  },
  {
   "cell_type": "code",
   "execution_count": null,
   "id": "349ce3c3-492f-48f1-bde0-b3a50397fb35",
   "metadata": {},
   "outputs": [],
   "source": [
    "#| export\n",
    "\n",
    "\n",
    "@patch\n",
    "def set_parashape(app: App, parashape: ParaShape):\n",
    "    action = app.actions.ParagraphShape()\n",
    "    set_pset(action.pset, parashape.todict())\n",
    "    return action.run()"
   ]
  },
  {
   "cell_type": "code",
   "execution_count": null,
   "id": "f23d02e3-e751-40f3-b614-1be32f996bb3",
   "metadata": {},
   "outputs": [
    {
     "data": {
      "text/plain": [
       "True"
      ]
     },
     "execution_count": null,
     "metadata": {},
     "output_type": "execute_result"
    }
   ],
   "source": [
    "app.set_parashape(ParaShape(line_spacing=200))"
   ]
  },
  {
   "cell_type": "code",
   "execution_count": null,
   "id": "5768c259-3d17-44fe-842d-c8ec7b508ea5",
   "metadata": {},
   "outputs": [],
   "source": [
    "#| export\n",
    "@patch\n",
    "def insert_text(\n",
    "    app: App,\n",
    "    text: str,\n",
    "    charshape: CharShape,\n",
    "):\n",
    "    \"\"\"`text를 입력합니다.\"\"\"\n",
    "    app.set_charshape(charshape)\n",
    "    insert_text = app.actions.InsertText()\n",
    "    p = insert_text.pset\n",
    "    p.Text = text\n",
    "    insert_text.run()\n",
    "    return"
   ]
  },
  {
   "cell_type": "code",
   "execution_count": null,
   "id": "42e7bc83-753e-44c3-b46c-53d8d4d3b32b",
   "metadata": {},
   "outputs": [],
   "source": [
    "app.insert_text(\"안녕하세요\", charshape)"
   ]
  },
  {
   "cell_type": "code",
   "execution_count": null,
   "id": "e2274369-f5fd-458b-b827-c5f9ba4cda67",
   "metadata": {},
   "outputs": [
    {
     "data": {
      "text/plain": [
       "True"
      ]
     },
     "execution_count": null,
     "metadata": {},
     "output_type": "execute_result"
    }
   ],
   "source": [
    "app.set_parashape(ParaShape(right_margin=20, align_type=\"Left\"))"
   ]
  },
  {
   "cell_type": "code",
   "execution_count": null,
   "id": "353e47f9-b51d-4daa-87da-f253d5296a4f",
   "metadata": {},
   "outputs": [],
   "source": [
    "parashape = app.actions.ParagraphShape()"
   ]
  },
  {
   "cell_type": "code",
   "execution_count": null,
   "id": "a1af8415-61a6-438a-aa5d-7e1b81bb588d",
   "metadata": {},
   "outputs": [
    {
     "data": {
      "text/plain": [
       "5660"
      ]
     },
     "execution_count": null,
     "metadata": {},
     "output_type": "execute_result"
    }
   ],
   "source": [
    "parashape.pset.RightMargin"
   ]
  },
  {
   "cell_type": "code",
   "execution_count": null,
   "id": "ea9cafbf-469e-4a16-9d69-15c651f2c512",
   "metadata": {},
   "outputs": [],
   "source": [
    "#| export\n",
    "mask_options = {\n",
    "    \"Normal\": 0x00,  # \"본문을 대상으로 검색한다.(서브리스트를 검색하지 않는다.)\"\n",
    "    \"Char\": 0x01,  # \"char 타입 컨트롤 마스크를 대상으로 한다.(강제줄나눔, 문단 끝, 하이픈, 묶움빈칸, 고정폭빈칸, 등...)\"\n",
    "    \"Inline\": 0x02,  # \"inline 타입 컨트롤 마스크를 대상으로 한다.(누름틀 필드 끝, 등...)\"\n",
    "    \"Ctrl\": 0x04,  # \"extende 타입 컨트롤 마스크를 대상으로 한다.(바탕쪽, 프레젠테이션, 다단, 누름틀 필드 시작, Shape Object, 머리말, 꼬리말, 각주, 미주, 번호관련 컨트롤, 새 번호 관련 컨트롤, 감추기, 찾아보기, 글자 겹침, 등...)\"\n",
    "    \"All\": None,\n",
    "}\n",
    "\n",
    "scan_spos_keys = {\n",
    "    \"Current\": 0x0000,  # \"캐럿 위치부터. (시작 위치)\",\n",
    "    \"Specified\": 0x0010,  # \"특정 위치부터. (시작 위치)\",\n",
    "    \"Line\": 0x0020,  # \"줄의 시작부터. (시작 위치)\",\n",
    "    \"Paragraph\": 0x0030,  # \"문단의 시작부터. (시작 위치)\"\n",
    "    \"Section\": 0x0040,  # \"구역의 시작부터. (시작 위치)\"\n",
    "    \"List\": 0x0050,  # \"리스트의 시작부터. (시작 위치)\"\n",
    "    \"Control\": 0x0060,  # \"컨트롤의 시작부터. (시작 위치)\"\n",
    "    \"Document\": 0x0070,  # \"문서의 시작부터. (시작 위치)\"\n",
    "}\n",
    "\n",
    "scan_epos_keys = {\n",
    "    \"Current\": 0x0000,  # \"캐럿 위치까지. (끝 위치)\"\n",
    "    \"Specified\": 0x0001,  # \"특정 위치까지. (끝 위치)\"\n",
    "    \"Line\": 0x0002,  # \"줄의 끝까지. (끝 위치)\"\n",
    "    \"Paragraph\": 0x0003,  # \"문단의 끝까지. (끝 위치)\"\n",
    "    \"Section\": 0x0004,  # \"구역의 끝까지. (끝 위치)\"\n",
    "    \"List\": 0x0005,  # \"리스트의 끝까지. (끝 위치)\"\n",
    "    \"Control\": 0x0006,  # \"컨트롤의 끝까지. (끝 위치)\"\n",
    "    \"Document\": 0x0007,  # \"문서의 끝까지. (끝 위치)\"\n",
    "}\n",
    "\n",
    "scan_directions = {\n",
    "    \"Forward\": 0x0000,  # \"정뱡향. (검색 방향)\"\n",
    "    \"Backward\": 0x0100,  # \"역방향. (검색 방향)\"\n",
    "}\n",
    "\n",
    "\n",
    "def _get_text(app):\n",
    "    \"\"\"스캔한 텍스트 텍스트 제너레이터\"\"\"\n",
    "    flag, text = 2, \"\"\n",
    "    while flag not in [0, 1, 101, 102]:\n",
    "        flag, text = app.api.GetText()\n",
    "        yield text\n",
    "\n",
    "\n",
    "@patch\n",
    "@contextmanager\n",
    "def scan(\n",
    "    app: App,\n",
    "    option=\"All\",\n",
    "    selection=False,\n",
    "    scan_spos=\"Document\",\n",
    "    scan_epos=\"Document\",\n",
    "    spara=None,\n",
    "    spos=None,\n",
    "    epara=None,\n",
    "    epos=None,\n",
    "    scan_direction=\"Forward\",\n",
    "):\n",
    "    # set start and end position\n",
    "    spos_id = get_value(scan_spos_keys, scan_spos)\n",
    "    epos_id = get_value(scan_epos_keys, scan_epos)\n",
    "    range_ = spos_id + epos_id\n",
    "    # if selection\n",
    "    if selection:\n",
    "        range_ = 0x00FF  # \"검색의 범위를 블록으로 제한.\"\n",
    "\n",
    "    # set direction\n",
    "    direction = get_value(scan_directions, scan_direction)\n",
    "    range_ = range_ + direction\n",
    "    app.api.InitScan(\n",
    "        option=get_value(mask_options, option),\n",
    "        Range=range_,\n",
    "        spara=spara,\n",
    "        spos=spos,\n",
    "        epara=epara,\n",
    "        epos=epos,\n",
    "    )\n",
    "    yield _get_text(app)\n",
    "    app.api.ReleaseScan()"
   ]
  },
  {
   "cell_type": "code",
   "execution_count": null,
   "id": "9974a67a-3c5d-4b58-bb47-577469feab78",
   "metadata": {},
   "outputs": [],
   "source": [
    "#| export\n",
    "\n",
    "\n",
    "def move_to_line(app: App, text):\n",
    "    \"\"\"인자로 전달한 텍스트가 있는 줄의 시작지점으로 이동합니다.\"\"\"\n",
    "    with app.scan(scan_spos=\"Line\") as scan:\n",
    "        for line in scan:\n",
    "            if text in line:\n",
    "                return app.move(key=\"ScanPos\")\n",
    "    return False"
   ]
  },
  {
   "cell_type": "code",
   "execution_count": null,
   "id": "e6ed63df-d9dd-433a-acc2-1568abcb7576",
   "metadata": {},
   "outputs": [],
   "source": [
    "#| export\n",
    "move_ids = {\n",
    "    \"Main\": 0,  # 루트 리스트의 특정 위치.(para pos로 위치 지정)\n",
    "    \"CurList\": 1,  # 현재 리스트의 특정 위치.(para pos로 위치 지정)\n",
    "    \"TopOfFile\": 2,  # 문서의 시작으로 이동.\n",
    "    \"BottomOfFile\": 3,  # 문서의 끝으로 이동.\n",
    "    \"TopOfList\": 4,  # 현재 리스트의 시작으로 이동\n",
    "    \"BottomOfList\": 5,  # 현재 리스트의 끝으로 이동\n",
    "    \"StartOfPara\": 6,  # 현재 위치한 문단의 시작으로 이동\n",
    "    \"EndOfPara\": 7,  # 현재 위치한 문단의 끝으로 이동\n",
    "    \"StartOfWord\": 8,  # 현재 위치한 단어의 시작으로 이동.(현재 리스트만을 대상으로 동작한다.)\n",
    "    \"EndOfWord\": 9,  # 현재 위치한 단어의 끝으로 이동.(현재 리스트만을 대상으로 동작한다.)\n",
    "    \"NextPara\": 10,  # 다음 문단의 시작으로 이동.(현재 리스트만을 대상으로 동작한다.)\n",
    "    \"PrevPara\": 11,  # 앞 문단의 끝으로 이동.(현재 리스트만을 대상으로 동작한다.)\n",
    "    \"NextPos\": 12,  # 한 글자 뒤로 이동.(서브 리스트를 옮겨 다닐 수 있다.)\n",
    "    \"PrevPos\": 13,  # 한 글자 앞으로 이동.(서브 리스트를 옮겨 다닐 수 있다.)\n",
    "    \"NextPosEx\": 14,  # 한 글자 뒤로 이동.(서브 리스트를 옮겨 다닐 수 있다. 머리말/꼬리말, 각주/미주, 글상자 포함.)\n",
    "    \"PrevPosEx\": 15,  # 한 글자 앞으로 이동.(서브 리스트를 옮겨 다닐 수 있다. 머리말/꼬리말, 각주/미주, 글상자 포함.)\n",
    "    \"NextChar\": 16,  # 한 글자 뒤로 이동.(현재 리스트만을 대상으로 동작한다.)\n",
    "    \"PrevChar\": 17,  # 한 글자 앞으로 이동.(현재 리스트만을 대상으로 동작한다.)\n",
    "    \"NextWord\": 18,  # 한 단어 뒤로 이동.(현재 리스트만을 대상으로 동작한다.)\n",
    "    \"PrevWord\": 19,  # 한 단어 앞으로 이동.(현재 리스트만을 대상으로 동작한다.)\n",
    "    \"NextLine\": 20,  # 한 줄 아래로 이동.\n",
    "    \"PrevLine\": 21,  # 한 줄 위로 이동.\n",
    "    \"StartOfLine\": 22,  # 현재 위치한 줄의 시작으로 이동.\n",
    "    \"EndOfLine\": 23,  # 현재 위치한 줄의 끝으로 이동.\n",
    "    \"ParentList\": 24,  # 한 레벨 상위로 이동한다.\n",
    "    \"TopLevelList\": 25,  # 탑레벨 리스트로 이동한다.\n",
    "    \"RootList\": 26,  # 루트 리스트로 이동한다. 현재 루트 리스트에 위치해 있어 더 이상 상위 리스트가 없을 때는 위치 이동 없이 반환한다. 이동한 후의 위치는 상위 리스트에서 서브리스트가 속한 컨트롤 코드가 위치한 곳이다. 위치 이동시 셀렉션은 무조건 풀린다.\n",
    "    \"CurrentCaret\": 27,  # 현재 캐럿이 위치한 곳으로 이동한다. (캐럿 위치가 뷰의 맨 위쪽으로 올라간다. )\n",
    "    \"LeftOfCell\": 100,  # 현재 캐럿이 위치한 셀의 왼쪽\n",
    "    \"RightOfCell\": 101,  # 현재 캐럿이 위치한 셀의 오른쪽\n",
    "    \"UpOfCell\": 102,  # 현재 캐럿이 위치한 셀의 위쪽\n",
    "    \"DownOfCell\": 103,  # 현재 캐럿이 위치한 셀의 아래쪽\n",
    "    \"StartOfCell\": 104,  # 현재 캐럿이 위치한 셀에서 행(row)의 시작\n",
    "    \"EndOfCell\": 105,  # 현재 캐럿이 위치한 셀에서 행(row)의 끝\n",
    "    \"TopOfCell\": 106,  # 현재 캐럿이 위치한 셀에서 열(column)의 시작\n",
    "    \"BottomOfCell\": 107,  # 현재 캐럿이 위치한 셀에서 열(column)의 끝\n",
    "    \"ScrPos\": 200,  # 한/글 문서장에서의 screen 좌표로서 위치를 설정 한다.\n",
    "    \"ScanPos\": 201,  # GetText() 실행 후 위치로 이동한다.\n",
    "}\n",
    "\n",
    "\n",
    "@patch\n",
    "def move(app: App, key=\"ScanPos\", para=None, pos=None):\n",
    "    \"\"\"키워드를 바탕으로 캐럿 위치를 이동시킵니다.\"\"\"\n",
    "\n",
    "    move_id = get_value(move_ids, key)\n",
    "    return app.api.MovePos(moveID=move_id, Para=para, pos=pos)"
   ]
  },
  {
   "cell_type": "code",
   "execution_count": null,
   "id": "5a174e89-13d4-4c03-8485-f58de7364603",
   "metadata": {},
   "outputs": [
    {
     "data": {
      "text/plain": [
       "201"
      ]
     },
     "execution_count": null,
     "metadata": {},
     "output_type": "execute_result"
    }
   ],
   "source": [
    "get_value(move_ids, \"ScanPos\")"
   ]
  },
  {
   "cell_type": "code",
   "execution_count": null,
   "id": "23e23a40-9bcc-4c27-aa21-7ab08458ab99",
   "metadata": {},
   "outputs": [],
   "source": [
    "@patch\n",
    "def setup_page(\n",
    "    app: App,  # app\n",
    "    top=20,  # 윗 여백\n",
    "    bottom=10,  # 아래 여백\n",
    "    right=20,  # 오른쪽 여백\n",
    "    left=20,  # 왼쪽 여백\n",
    "    header=15,  # 머릿말\n",
    "    footer=5,  # 꼬릿말\n",
    "    gutter=0,\n",
    "):  # 제본\n",
    "    \"\"\"\n",
    "    페이지를 설정합니다.\n",
    "    \"\"\"\n",
    "    action = app.actions.PageSetup()\n",
    "    p = action.pset\n",
    "\n",
    "    p.PageDef.TopMargin = app.api.MiliToHwpUnit(top)\n",
    "    p.PageDef.HeaderLen = app.api.MiliToHwpUnit(header)\n",
    "    p.PageDef.RightMargin = app.api.MiliToHwpUnit(right)\n",
    "    p.PageDef.BottomMargin = app.api.MiliToHwpUnit(bottom)\n",
    "    p.PageDef.FooterLen = app.api.MiliToHwpUnit(footer)\n",
    "    p.PageDef.LeftMargin = app.api.MiliToHwpUnit(left)\n",
    "    p.PageDef.GutterLen = app.api.MiliToHwpUnit(gutter)\n",
    "\n",
    "    return action.run()"
   ]
  },
  {
   "cell_type": "code",
   "execution_count": null,
   "id": "750f6607-3f28-4b1f-8e22-d37475afada7",
   "metadata": {},
   "outputs": [],
   "source": [
    "#| export\n",
    "size_options = {\n",
    "    \"realSize\": 0,  # 이미지를 원래의 크기로 삽입한다.\n",
    "    \"specificSize\": 1,  # width와 height에 지정한 크기로 그림을 삽입한다.\n",
    "    \"cellSize\": 2,  # 현재 캐럿이 표의 셀안에 있을 경우, 셀의 크기에 맞게 자동 조정하여 삽입한다.\n",
    "    \"cellSizeWithSameRatio\": 3,  # 현재 캐럿이 표의 셀 안에 있을 경우, 셀의 크기에 맞추어 원본 이미지의 가로 세로 비율이 동일하게 확대/축소하여 삽입한다.\n",
    "}\n",
    "\n",
    "effects = {\n",
    "    \"RealPicture\": 0,  # 원본\n",
    "    \"GrayScale\": 1,  # 그레이 스케일\n",
    "    \"BlackWhite\": 2,  # 흑백효과\n",
    "}\n",
    "\n",
    "\n",
    "@patch\n",
    "def insert_picture(\n",
    "    app: App,  # app\n",
    "    fpath,  # 그림 위치\n",
    "    width=None,  # 넓이\n",
    "    height=None,  # 높이\n",
    "    size_option=\"realSize\",  # 사이즈 옵션\n",
    "    reverse=False,  # 이미지 반전 여부\n",
    "    watermark=False,  # 워커마크 여부\n",
    "    effect=\"RealPicture\",  # 화면 효과\n",
    "):\n",
    "    \"\"\"\n",
    "    사이즈를 지정하여 사진 삽입\n",
    "    \"\"\"\n",
    "    path = Path(fpath)\n",
    "    sizeoption = get_value(size_options, size_option)\n",
    "    effect = get_value(effects, effect)\n",
    "    return app.api.InsertPicture(\n",
    "        path.absolute().as_posix(),\n",
    "        Width=width,\n",
    "        Height=height,\n",
    "        sizeoption=sizeoption,\n",
    "        reverse=reverse,\n",
    "        watermark=watermark,\n",
    "        effect=effect,\n",
    "    )"
   ]
  },
  {
   "cell_type": "code",
   "execution_count": null,
   "id": "5cea6d9a-da09-4c43-8312-1330ce58b2f9",
   "metadata": {},
   "outputs": [],
   "source": [
    "#| export\n",
    "\n",
    "\n",
    "@patch\n",
    "def select_text(app: App, option: str = \"Line\"):\n",
    "    \"\"\"\n",
    "    한줄을 선택합니다.\n",
    "    \"\"\"\n",
    "    select_options = {\n",
    "        \"Doc\": (app.actions.MoveDocBegin, app.actions.MoveSelDocEnd),\n",
    "        \"Para\": (app.actions.MoveParaBegin, app.actions.MoveSelParaEnd),\n",
    "        \"Line\": (app.actions.MoveLineBegin, app.actions.MoveSelLineEnd),\n",
    "        \"Word\": (app.actions.MoveWordBegin, app.actions.MoveSelWordEnd),\n",
    "    }\n",
    "    begin, end = select_options.get(option)\n",
    "    return begin().run(), end().run()"
   ]
  },
  {
   "cell_type": "code",
   "execution_count": null,
   "id": "58e93f18-9d40-4c54-bb7e-c4ebfd48297f",
   "metadata": {},
   "outputs": [
    {
     "data": {
      "text/plain": [
       "(True, True)"
      ]
     },
     "execution_count": null,
     "metadata": {},
     "output_type": "execute_result"
    }
   ],
   "source": [
    "app.select_text()"
   ]
  },
  {
   "cell_type": "code",
   "execution_count": null,
   "id": "7d3e4967-852b-4b68-bc15-cce2d34d0a5d",
   "metadata": {},
   "outputs": [
    {
     "data": {
      "text/plain": [
       "True"
      ]
     },
     "execution_count": null,
     "metadata": {},
     "output_type": "execute_result"
    }
   ],
   "source": [
    "app.set_charshape(CharShape(font=\"바탕\", fontsize=20))"
   ]
  },
  {
   "cell_type": "code",
   "execution_count": null,
   "id": "5ddd4336-3f09-4e40-8965-c730a6dd2465",
   "metadata": {},
   "outputs": [],
   "source": [
    "#| export\n",
    "@patch\n",
    "def get_selected_text(app: App):\n",
    "    \"\"\"\n",
    "    선택된 영역의 텍스트를 불러온다.\n",
    "    \"\"\"\n",
    "    with app.scan(selection=True) as scan:\n",
    "        text = \"\\n\".join(scan)\n",
    "    return text"
   ]
  },
  {
   "cell_type": "code",
   "execution_count": null,
   "id": "f675e9d7-f5af-4915-af4b-25b60e8d3346",
   "metadata": {},
   "outputs": [
    {
     "data": {
      "text/plain": [
       "'안녕하세요\\n'"
      ]
     },
     "execution_count": null,
     "metadata": {},
     "output_type": "execute_result"
    }
   ],
   "source": [
    "app.get_selected_text()"
   ]
  },
  {
   "cell_type": "code",
   "execution_count": null,
   "id": "990b8ead-e289-448e-891f-2ba1f13eefc6",
   "metadata": {},
   "outputs": [],
   "source": [
    "#| export\n",
    "@patch\n",
    "def get_text(app: App, spos=\"Line\", epos=\"Line\"):\n",
    "    \"\"\"\n",
    "    텍스트를 가져옵니다. 기본은 현재 문장입니다.\n",
    "    \"\"\"\n",
    "    with app.scan(scan_spos=spos, scan_epos=epos) as txts:\n",
    "        text = \"\".join(txts)\n",
    "    return text"
   ]
  },
  {
   "cell_type": "code",
   "execution_count": null,
   "id": "fa31d033-e179-43da-9c47-7a45ddca692c",
   "metadata": {},
   "outputs": [
    {
     "data": {
      "text/plain": [
       "'안녕하세요\\r\\n'"
      ]
     },
     "execution_count": null,
     "metadata": {},
     "output_type": "execute_result"
    }
   ],
   "source": [
    "app.get_text()"
   ]
  },
  {
   "cell_type": "code",
   "execution_count": null,
   "id": "aa0ee9d3-f0ac-4390-a3b7-d87c0a328d05",
   "metadata": {},
   "outputs": [],
   "source": [
    "#| export\n",
    "directions = {\"Forward\": 0, \"Backward\": 1, \"All\": 2}"
   ]
  },
  {
   "cell_type": "code",
   "execution_count": null,
   "id": "4c2ce1a2-cdee-4e8d-acbb-9aef4728f3bd",
   "metadata": {},
   "outputs": [],
   "source": [
    "#| export\n",
    "@patch\n",
    "def find_text(\n",
    "    app: App,\n",
    "    text=\"\",\n",
    "    text_fontcolor=None,  # 찾을 폰트 색\n",
    "    fontsize=None,  # 찾을 폰트 크기(height)\n",
    "    fontname=\"\",  # 찾을 글꼴\n",
    "    fonttype=1,  # 찾을 글꼴 타입 TTF = 1, HTF = 2\n",
    "    fontratio=None,  # 찾을 장평\n",
    "    text_color=None,\n",
    "    spacing=None,  # 찾을 자간\n",
    "    bold=None,  # 찾을 볼드\n",
    "    italic=None,  # 찾을 이텔릭\n",
    "    underline=None,  # 찾을 밑줄\n",
    "    strike_out=None,  # 찾을 취소선\n",
    "    ignore_message=True,  # 메시지 무시 여부\n",
    "    direction=\"Forward\",  # 찾을 방향\n",
    "    match_case=False,  # 대소문자 구분\n",
    "    all_word_forms=False,  # 문자열 결합\n",
    "    several_words=False,  #  여러 단어 찾기\n",
    "    use_wild_cards=False,  # 아무개 문자\n",
    "    whole_word_only=False,  # 온전한 낱말\n",
    "    replace_mode=False,  # 찾아 바꾸기 모드\n",
    "    ignore_find_string=False,  # 찾을 문자열 무시\n",
    "    ignore_replace_string=False,  # 바꿀 문자열 무시\n",
    "    find_style=\"\",  # 찾을 스타일\n",
    "    replace_style=\"\",\n",
    "    find_jaso=False,  # 자소로 찾기\n",
    "    find_reg_exp=False,  # 정규표현식으로 찾기\n",
    "    find_type=False,  # 다시 찾기를 할 때 마지막으로 실한 찾기를 할 경우 True, 찾아가기를 할경우 False\n",
    "):\n",
    "    \"\"\"\n",
    "    text를 찾습니다.\n",
    "    찾지못하면 False를 반환합니다.\n",
    "    \"\"\"\n",
    "\n",
    "    action = app.actions.RepeatFind()\n",
    "    p = action.pset\n",
    "\n",
    "    # set options\n",
    "    p.FindString = text\n",
    "    p.IgnoreMessage = ignore_message\n",
    "    p.MatchCase = match_case\n",
    "    p.AllWordForms = all_word_forms\n",
    "    p.Direction = get_value(directions, direction)\n",
    "    p.SeveralWords = several_words\n",
    "    p.UseWildCards = use_wild_cards\n",
    "    p.WholeWordOnly = whole_word_only\n",
    "    p.ReplaceMode = replace_mode\n",
    "    p.IgnoreFindString = ignore_find_string\n",
    "    p.IgnoreReplaceString = ignore_replace_string\n",
    "    p.FindStyle = find_style\n",
    "    p.ReplaceStyle = replace_style\n",
    "    p.FindJaso = find_jaso\n",
    "    p.FindRegExp = find_reg_exp\n",
    "    p.FindType = find_type\n",
    "\n",
    "    # set old charshape\n",
    "    set_charshape_pset(\n",
    "        p.FindCharShape,\n",
    "        face_name=fontname,\n",
    "        font_type=fonttype,\n",
    "        text_color=text_color,\n",
    "        bold=bold,\n",
    "        italic=italic,\n",
    "        strike_out_type=strike_out,\n",
    "        underline_type=underline,\n",
    "        ratio=fontratio,\n",
    "        spacing=spacing,\n",
    "    )\n",
    "\n",
    "    return action.run()"
   ]
  },
  {
   "cell_type": "code",
   "execution_count": null,
   "id": "6c29b3db-9614-4cb1-935d-987d203919e2",
   "metadata": {},
   "outputs": [
    {
     "ename": "TypeError",
     "evalue": "set_charshape_pset() got an unexpected keyword argument 'face_name'",
     "output_type": "error",
     "traceback": [
      "\u001b[1;31m---------------------------------------------------------------------------\u001b[0m",
      "\u001b[1;31mTypeError\u001b[0m                                 Traceback (most recent call last)",
      "Cell \u001b[1;32mIn[49], line 1\u001b[0m\n\u001b[1;32m----> 1\u001b[0m \u001b[43mapp\u001b[49m\u001b[38;5;241;43m.\u001b[39;49m\u001b[43mfind_text\u001b[49m\u001b[43m(\u001b[49m\u001b[38;5;124;43m\"\u001b[39;49m\u001b[38;5;124;43m안녕하세요\u001b[39;49m\u001b[38;5;124;43m\"\u001b[39;49m\u001b[43m)\u001b[49m\n",
      "Cell \u001b[1;32mIn[48], line 60\u001b[0m, in \u001b[0;36mfind_text\u001b[1;34m(app, text, text_fontcolor, fontsize, fontname, fonttype, fontratio, text_color, spacing, bold, italic, underline, strike_out, ignore_message, direction, match_case, all_word_forms, several_words, use_wild_cards, whole_word_only, replace_mode, ignore_find_string, ignore_replace_string, find_style, replace_style, find_jaso, find_reg_exp, find_type)\u001b[0m\n\u001b[0;32m     57\u001b[0m p\u001b[38;5;241m.\u001b[39mFindType \u001b[38;5;241m=\u001b[39m find_type\n\u001b[0;32m     59\u001b[0m \u001b[38;5;66;03m# set old charshape\u001b[39;00m\n\u001b[1;32m---> 60\u001b[0m \u001b[43mset_charshape_pset\u001b[49m\u001b[43m(\u001b[49m\n\u001b[0;32m     61\u001b[0m \u001b[43m    \u001b[49m\u001b[43mp\u001b[49m\u001b[38;5;241;43m.\u001b[39;49m\u001b[43mFindCharShape\u001b[49m\u001b[43m,\u001b[49m\n\u001b[0;32m     62\u001b[0m \u001b[43m    \u001b[49m\u001b[43mface_name\u001b[49m\u001b[38;5;241;43m=\u001b[39;49m\u001b[43mfontname\u001b[49m\u001b[43m,\u001b[49m\n\u001b[0;32m     63\u001b[0m \u001b[43m    \u001b[49m\u001b[43mfont_type\u001b[49m\u001b[38;5;241;43m=\u001b[39;49m\u001b[43mfonttype\u001b[49m\u001b[43m,\u001b[49m\n\u001b[0;32m     64\u001b[0m \u001b[43m    \u001b[49m\u001b[43mtext_color\u001b[49m\u001b[38;5;241;43m=\u001b[39;49m\u001b[43mtext_color\u001b[49m\u001b[43m,\u001b[49m\n\u001b[0;32m     65\u001b[0m \u001b[43m    \u001b[49m\u001b[43mbold\u001b[49m\u001b[38;5;241;43m=\u001b[39;49m\u001b[43mbold\u001b[49m\u001b[43m,\u001b[49m\n\u001b[0;32m     66\u001b[0m \u001b[43m    \u001b[49m\u001b[43mitalic\u001b[49m\u001b[38;5;241;43m=\u001b[39;49m\u001b[43mitalic\u001b[49m\u001b[43m,\u001b[49m\n\u001b[0;32m     67\u001b[0m \u001b[43m    \u001b[49m\u001b[43mstrike_out_type\u001b[49m\u001b[38;5;241;43m=\u001b[39;49m\u001b[43mstrike_out\u001b[49m\u001b[43m,\u001b[49m\n\u001b[0;32m     68\u001b[0m \u001b[43m    \u001b[49m\u001b[43munderline_type\u001b[49m\u001b[38;5;241;43m=\u001b[39;49m\u001b[43munderline\u001b[49m\u001b[43m,\u001b[49m\n\u001b[0;32m     69\u001b[0m \u001b[43m    \u001b[49m\u001b[43mratio\u001b[49m\u001b[38;5;241;43m=\u001b[39;49m\u001b[43mfontratio\u001b[49m\u001b[43m,\u001b[49m\n\u001b[0;32m     70\u001b[0m \u001b[43m    \u001b[49m\u001b[43mspacing\u001b[49m\u001b[38;5;241;43m=\u001b[39;49m\u001b[43mspacing\u001b[49m\u001b[43m,\u001b[49m\n\u001b[0;32m     71\u001b[0m \u001b[43m\u001b[49m\u001b[43m)\u001b[49m\n\u001b[0;32m     73\u001b[0m \u001b[38;5;28;01mreturn\u001b[39;00m action\u001b[38;5;241m.\u001b[39mrun()\n",
      "\u001b[1;31mTypeError\u001b[0m: set_charshape_pset() got an unexpected keyword argument 'face_name'"
     ]
    }
   ],
   "source": [
    "app.find_text(\"안녕하세요\")"
   ]
  },
  {
   "cell_type": "code",
   "execution_count": null,
   "id": "0299729b-cfaf-4938-985a-ecd71b66cd23",
   "metadata": {},
   "outputs": [],
   "source": [
    "#| export\n",
    "@patch\n",
    "def replace_all(\n",
    "    app: App,\n",
    "    old=\"\",\n",
    "    new=\"\",\n",
    "    old_text_color=None,  # 찾을 폰트 색\n",
    "    new_text_color=None,  # 바꿀 폰트 색\n",
    "    old_fontsize=None,  # 찾을 폰트 크기(height)\n",
    "    new_fontsize=None,  # 바꿀 폰트 크기(height)\n",
    "    old_fontname=\"\",  # 찾을 글꼴\n",
    "    old_fonttype=1,  # 찾을 글꼴 타입 TTF = 1, HTF = 2\n",
    "    new_fontname=\"\",  # 바꿀 글꼴\n",
    "    new_fonttype=1,  # 바꿀 글꼴 타입 TTF = 1, HTF = 2\n",
    "    old_fontratio=None,  # 찾을 장평\n",
    "    new_fontratio=None,  # 바꿀 장평\n",
    "    old_spacing=None,  # 찾을 자간\n",
    "    new_spacing=None,  # 바꿀 자간\n",
    "    old_bold=None,  # 찾을 볼드\n",
    "    new_bold=None,  # 바꿀 볼드\n",
    "    old_italic=None,  # 찾을 이텔릭\n",
    "    new_italic=None,  # 바꿀 이텔릭\n",
    "    old_underline=None,  # 찾을 밑줄\n",
    "    new_underline=None,  # 바꿀 밑줄\n",
    "    old_strike_out=None,  # 찾을 취소선\n",
    "    new_strike_out=None,  # 바꿀 취소선\n",
    "    ignore_message=True,  # 메시지 무시 여부\n",
    "    direction=\"All\",  # 찾을 방향\n",
    "    match_case=False,  # 대소문자 구분\n",
    "    all_word_forms=False,  # 문자열 결합\n",
    "    several_words=False,  #  여러 단어 찾기\n",
    "    use_wild_cards=False,  # 아무개 문자\n",
    "    whole_word_only=False,  # 온전한 낱말\n",
    "    auto_spell=True,  # 토시 자동 교정\n",
    "    replace_mode=True,  # 찾아 바꾸기 모드\n",
    "    ignore_find_string=False,  # 찾을 문자열 무시\n",
    "    ignore_replace_string=False,  # 바꿀 문자열 무시\n",
    "    find_style=\"\",  # 찾을 스타일\n",
    "    replace_style=\"\",  # 바꿀 스타일\n",
    "    find_jaso=False,  # 자소로 찾기\n",
    "    find_reg_exp=False,  # 정규표현식으로 찾기\n",
    "    find_type=True,  # 다시 찾기를 할 때 마지막으로 실한 찾기를 할 경우 True, 찾아가기를 할경우 False\n",
    "):\n",
    "    action = app.actions.AllReplace()\n",
    "    p = action.pset\n",
    "\n",
    "    # set options\n",
    "    p.FindString = old\n",
    "    p.ReplaceString = new\n",
    "    p.IgnoreMessage = ignore_message\n",
    "    p.MatchCase = match_case\n",
    "    p.AllWordForms = all_word_forms\n",
    "    p.Direction = get_value(directions, direction)\n",
    "    p.SeveralWords = several_words\n",
    "    p.UseWildCards = use_wild_cards\n",
    "    p.WholeWordOnly = whole_word_only\n",
    "    p.AutoSpell = auto_spell\n",
    "    p.ReplaceMode = replace_mode\n",
    "    p.IgnoreFindString = ignore_find_string\n",
    "    p.IgnoreReplaceString = ignore_replace_string\n",
    "    p.FindStyle = find_style\n",
    "    p.ReplaceStyle = replace_style\n",
    "    p.FindJaso = find_jaso\n",
    "    p.FindRegExp = find_reg_exp\n",
    "    p.FindType = find_type\n",
    "\n",
    "    # set old charshape\n",
    "    old_charshape = {\n",
    "        \"FaceNameHangul\": old_fontname,\n",
    "        \"TextColor\": old_text_color,\n",
    "    }\n",
    "\n",
    "    set_charshape_pset(\n",
    "        p.FindCharShape,\n",
    "        face_name=old_fontname,\n",
    "        text_color=old_text_color,\n",
    "        font_type=old_fonttype,\n",
    "        bold=old_bold,\n",
    "        italic=old_italic,\n",
    "        strike_out_type=old_strike_out,\n",
    "        underline_type=old_underline,\n",
    "        ratio=old_fontratio,\n",
    "        spacing=old_spacing,\n",
    "    )\n",
    "    set_charshape_pset(\n",
    "        p.ReplaceCharShape,\n",
    "        face_name=new_fontname,\n",
    "        text_color=new_text_color,\n",
    "        font_type=new_fonttype,\n",
    "        bold=new_bold,\n",
    "        italic=new_italic,\n",
    "        strike_out_type=new_strike_out,\n",
    "        underline_type=new_underline,\n",
    "        ratio=new_fontratio,\n",
    "        spacing=new_spacing,\n",
    "    )\n",
    "\n",
    "    return action.run()"
   ]
  },
  {
   "cell_type": "code",
   "execution_count": null,
   "id": "9304ab8f-2498-478f-bbbf-7d9694ccaff5",
   "metadata": {},
   "outputs": [],
   "source": [
    "app.replace_all(\"t\", \"txt\", new_fontname=\"가는안상수체\", new_fontsize=21, new_fonttype=1)"
   ]
  },
  {
   "cell_type": "code",
   "execution_count": null,
   "id": "7f6ad32d-3f0d-4960-ae65-15efc33c52e0",
   "metadata": {},
   "outputs": [],
   "source": [
    "app.replace_all(\n",
    "    \"\",\n",
    "    \"\",\n",
    "    old_fontname=\"바탕체\",\n",
    "    new_fontname=\"바탕체\",\n",
    "    ignore_find_string=True,\n",
    "    ignore_replace_string=True,\n",
    "    new_fontsize=11,\n",
    "    new_fonttype=1,\n",
    ")"
   ]
  },
  {
   "cell_type": "code",
   "execution_count": null,
   "id": "0bf33c31-57ee-496d-82eb-ab299df1ca41",
   "metadata": {},
   "outputs": [],
   "source": [
    "#| export\n",
    "@patch\n",
    "def insert_file(\n",
    "    app: App,\n",
    "    fpath,\n",
    "    keep_charshape=False,\n",
    "    keep_parashape=False,\n",
    "    keep_section=False,\n",
    "    keep_style=False,\n",
    "):\n",
    "    \"\"\"\n",
    "    파일 끼워 넣기\n",
    "    \"\"\"\n",
    "\n",
    "    action = app.actions.InsertFile()\n",
    "    p = action.pset\n",
    "    p.filename = Path(fpath).absolute().as_posix()\n",
    "    p.KeepCharshape = keep_charshape\n",
    "    p.KeepParashape = keep_parashape\n",
    "    p.KeepSection = keep_section\n",
    "    p.KeepStyle = keep_style\n",
    "\n",
    "    return action.run()"
   ]
  },
  {
   "cell_type": "code",
   "execution_count": null,
   "id": "ab53657e-92a9-4e2a-ba35-62b578a72d54",
   "metadata": {},
   "outputs": [],
   "source": [
    "#| export\n",
    "\n",
    "\n",
    "@patch\n",
    "def set_cell_border(\n",
    "    app: App,\n",
    "    top=None,\n",
    "    right=None,\n",
    "    left=None,\n",
    "    bottom=None,\n",
    "    horizontal=None,\n",
    "    vertical=None,\n",
    "    top_width=None,\n",
    "    right_width=None,\n",
    "    left_width=None,\n",
    "    bottom_width=None,\n",
    "    horizontal_width=None,\n",
    "    vertical_width=None,\n",
    "    top_color=None,\n",
    "    bottom_color=None,\n",
    "    left_color=None,\n",
    "    right_color=None,\n",
    "    horizontal_color=None,\n",
    "    vertical_color=None,\n",
    "):\n",
    "    attrs = {\n",
    "        \"BorderTypeTop\": top,\n",
    "        \"BorderTypeRight\": right,\n",
    "        \"BorderTypeLeft\": left,\n",
    "        \"BorderTypeBottom\": bottom,\n",
    "        \"TypeHorz\": horizontal,\n",
    "        \"TypeVert\": vertical,\n",
    "        \"BorderWidthTop\": app.api.HwpLineWidth(f\"{top_width}mm\") if top_width else None,\n",
    "        \"BorderWidthRight\": app.api.HwpLineWidth(f\"{right_width}mm\")\n",
    "        if right_width\n",
    "        else None,\n",
    "        \"BorderWidthLeft\": app.api.HwpLineWidth(f\"{left_width}mm\")\n",
    "        if left_width\n",
    "        else None,\n",
    "        \"BorderWidthBottom\": app.api.HwpLineWidth(f\"{bottom_width}mm\")\n",
    "        if bottom_width\n",
    "        else None,\n",
    "        \"WidthHorz\": app.api.HwpLineWidth(f\"{horizontal_width}mm\")\n",
    "        if horizontal_width\n",
    "        else None,\n",
    "        \"WidthVert\": app.api.HwpLineWidth(f\"{vertical_width}mm\")\n",
    "        if vertical_width\n",
    "        else None,\n",
    "        \"BorderColorTop\": app.api.RGBColor(get_rgb_tuple(top_color))\n",
    "        if top_color\n",
    "        else None,\n",
    "        \"BorderColorRight\": app.api.RGBColor(get_rgb_tuple(right_color))\n",
    "        if right_color\n",
    "        else None,\n",
    "        \"BorderColorLeft\": app.api.RGBColor(get_rgb_tuple(left_color))\n",
    "        if left_color\n",
    "        else None,\n",
    "        \"BorderColorBottom\": app.api.RGBColor(get_rgb_tuple(bottom_color))\n",
    "        if bottom_color\n",
    "        else None,\n",
    "        \"ColorHorz\": app.api.RGBColor(get_rgb_tuple(horizontal_color))\n",
    "        if horizontal_color\n",
    "        else None,\n",
    "        \"ColorVert\": app.api.RGBColor(get_rgb_tuple(vertical_color))\n",
    "        if vertical_color\n",
    "        else None,\n",
    "    }\n",
    "\n",
    "    action = app.actions.CellFill()\n",
    "    p = action.pset\n",
    "\n",
    "    for key, value in attrs.items():\n",
    "        if value is None:\n",
    "            continue\n",
    "        setattr(p, key, value)\n",
    "\n",
    "    return action.run()"
   ]
  },
  {
   "cell_type": "code",
   "execution_count": null,
   "id": "2f6e8da6-dbbd-4470-aa71-2ebff133eb0f",
   "metadata": {},
   "outputs": [],
   "source": [
    "#| export\n",
    "@patch\n",
    "def set_cell_color(\n",
    "    app: App, bg_color=None, hatch_color=\"#000000\", hatch_style=6, alpha=None\n",
    "):\n",
    "    fill_type = windows_brush = None\n",
    "    if bg_color:\n",
    "        fill_type = 1\n",
    "        windows_brush = 1\n",
    "\n",
    "    attrs = {\n",
    "        \"type\": fill_type,\n",
    "        \"WindowsBrush\": windows_brush,\n",
    "        \"WinBrushFaceColor\": app.api.RGBColor(*get_rgb_tuple(bg_color))\n",
    "        if bg_color\n",
    "        else None,\n",
    "        \"WinBrushAlpha\": alpha,\n",
    "        \"WinBrushHatchColor\": app.api.RGBColor(*get_rgb_tuple(hatch_color))\n",
    "        if hatch_color\n",
    "        else None,\n",
    "        \"WinBrushFaceStyle\": hatch_style,\n",
    "    }\n",
    "\n",
    "    action = app.actions.CellBorderFill()\n",
    "    p = action.pset\n",
    "\n",
    "    for key, value in attrs.items():\n",
    "        if value == None:\n",
    "            continue\n",
    "        setattr(p.FillAttr, key, value)\n",
    "\n",
    "    return action.run()"
   ]
  },
  {
   "cell_type": "code",
   "execution_count": null,
   "id": "7def3bb7-2a3b-43db-a4c0-3e66d7141cd4",
   "metadata": {},
   "outputs": [],
   "source": [
    "app = App()"
   ]
  },
  {
   "cell_type": "code",
   "execution_count": null,
   "id": "e6ed8380-0493-4c75-a6a3-fa24502432fd",
   "metadata": {},
   "outputs": [],
   "source": [
    "app.set_charshape(fontname=\"문화바탕\", font_type=2)"
   ]
  },
  {
   "cell_type": "code",
   "execution_count": null,
   "id": "3ad86eba-52f6-4004-8bdb-a66877b0442d",
   "metadata": {},
   "outputs": [],
   "source": [
    "action = app.actions.CharShape()"
   ]
  },
  {
   "cell_type": "code",
   "execution_count": null,
   "id": "43d91283-e1a0-4f5b-9d3e-03d86c6d85f4",
   "metadata": {},
   "outputs": [],
   "source": [
    "action.pset.FaceNameHangul = \"문화돋움\"\n",
    "action.run()"
   ]
  },
  {
   "cell_type": "code",
   "execution_count": null,
   "id": "60b367a1-7546-4bd9-8ee8-65a9834f2c99",
   "metadata": {},
   "outputs": [],
   "source": [
    "app.get_charshape()"
   ]
  },
  {
   "cell_type": "code",
   "execution_count": null,
   "id": "62e6eeaa-e4a7-4bef-9112-c548bc5eb310",
   "metadata": {},
   "outputs": [],
   "source": [
    "app.set_cell_border(bottom=3)"
   ]
  },
  {
   "cell_type": "code",
   "execution_count": null,
   "id": "a53b8ea6-2171-4329-bc10-431e5865765e",
   "metadata": {},
   "outputs": [],
   "source": [
    "number = app.api.RGBColor(0, 255, 255)"
   ]
  },
  {
   "cell_type": "code",
   "execution_count": null,
   "id": "b3a34723-4910-40e0-93b9-25a35f989b89",
   "metadata": {},
   "outputs": [],
   "source": [
    "action.pset"
   ]
  },
  {
   "cell_type": "code",
   "execution_count": null,
   "id": "da129855-51f3-46bb-954f-f32e856dbe93",
   "metadata": {},
   "outputs": [],
   "source": [
    "int(f\"{number:06x}\", 16)"
   ]
  },
  {
   "cell_type": "code",
   "execution_count": null,
   "id": "0b642219-d399-4c2b-a234-bd97da567ba7",
   "metadata": {},
   "outputs": [],
   "source": [
    "hex(number)"
   ]
  },
  {
   "cell_type": "code",
   "execution_count": null,
   "id": "cfd0e3e2-79b4-4b79-8fed-d35077a55892",
   "metadata": {},
   "outputs": [],
   "source": [
    "app.set_cell_color(bg_color=(123, 123, 123), hatch_style=6)"
   ]
  },
  {
   "cell_type": "code",
   "execution_count": null,
   "id": "3b681793-6696-4926-9bcd-664efa3e8368",
   "metadata": {},
   "outputs": [],
   "source": [
    "#| hide\n",
    "import nbdev\n",
    "\n",
    "nbdev.nbdev_export()"
   ]
  }
 ],
 "metadata": {
  "kernelspec": {
   "display_name": "python3",
   "language": "python",
   "name": "python3"
  }
 },
 "nbformat": 4,
 "nbformat_minor": 5
}
