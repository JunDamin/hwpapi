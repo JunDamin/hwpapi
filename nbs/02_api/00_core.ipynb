{
 "cells": [
  {
   "cell_type": "raw",
   "id": "b556e355",
   "metadata": {},
   "source": [
    "---\n",
    "description: Core Classes for hwpapi\n",
    "output-file: core.html\n",
    "title: core\n",
    "\n",
    "---\n",
    "\n"
   ]
  },
  {
   "cell_type": "code",
   "execution_count": 1,
   "id": "c9e154c9-6702-4d5f-8f33-c02ac59c891d",
   "metadata": {},
   "outputs": [],
   "source": [
    "#| hide\n",
    "%load_ext autoreload\n",
    "%autoreload 2"
   ]
  },
  {
   "cell_type": "code",
   "execution_count": 2,
   "id": "2593a49a-ac3b-4e91-92df-b6dca29a52ce",
   "metadata": {},
   "outputs": [],
   "source": [
    "#| default_exp core"
   ]
  },
  {
   "cell_type": "code",
   "execution_count": 3,
   "id": "ad36532f-cad6-4c87-b62a-abc1668402d9",
   "metadata": {},
   "outputs": [],
   "source": [
    "#| hide\n",
    "from nbdev.showdoc import *"
   ]
  },
  {
   "cell_type": "code",
   "execution_count": 4,
   "id": "95c30c7f-433b-4c6b-81ef-b6f14573f2ae",
   "metadata": {},
   "outputs": [],
   "source": [
    "#| export\n",
    "from contextlib import contextmanager\n",
    "from pathlib import Path\n",
    "\n",
    "from fastcore.basics import patch"
   ]
  },
  {
   "cell_type": "code",
   "execution_count": 5,
   "id": "57ea633c-2d62-4d5c-aa4c-b196ffed14c1",
   "metadata": {},
   "outputs": [],
   "source": [
    "#| export\n",
    "from hwpapi.actions import _Action, _Actions\n",
    "from hwpapi.dataclasses import CharShape, ParaShape\n",
    "from hwpapi.functions import (\n",
    "    check_dll,\n",
    "    dispatch,\n",
    "    get_absolute_path,\n",
    "    get_charshape_pset,\n",
    "    get_parashape_pset,\n",
    "    get_rgb_tuple,\n",
    "    get_value,\n",
    "    mili2unit,\n",
    "    point2unit,\n",
    "    set_charshape_pset,\n",
    "    set_parashape_pset,\n",
    "    set_pset,\n",
    "    unit2mili,\n",
    "    unit2point,\n",
    ")"
   ]
  },
  {
   "cell_type": "code",
   "execution_count": 6,
   "id": "80344b16-1d5c-4c16-a7f8-db8f7256b0b5",
   "metadata": {},
   "outputs": [],
   "source": [
    "#| export\n",
    "class App:\n",
    "    \"\"\"`App` 클래스는 한컴오피스의 한/글 프로그램과 상호작용하기 위한 인터페이스를 제공합니다.\n",
    "\n",
    "    메소드\n",
    "    ----------\n",
    "    __init__(api=None, is_visible=True) : None\n",
    "        `App` 클래스의 객체를 초기화합니다. 이 메소드에서는 `api` 객체를 인자로 받습니다.\n",
    "        만약 `api`가 제공되지 않았을 경우, `wc.gencache.EnsureDispatch(\"HWPFrame.HwpObject\")`를 호출하여\n",
    "        기본값으로 한/글 프로그램의 COM 객체를 생성합니다. 그리고 `self.api` 속성에 이 객체를 할당합니다.\n",
    "        `_Actions` 클래스의 객체를 생성하여 `self.actions` 속성에 할당하고, `self.set_visible()` 함수를 호출합니다.\n",
    "\n",
    "    __str__() : str\n",
    "        `App` 클래스의 객체를 문자열로 변환하여 반환합니다. 반환되는 문자열은 `\"<Hwp App: {self.get_filepath()}>\"` 형식을 가집니다.\n",
    "\n",
    "    __repr__() : str\n",
    "        `__repr__` 메소드는 `__str__` 메소드와 동일한 기능을 수행합니다.\n",
    "    \"\"\"\n",
    "\n",
    "    def __init__(self, api=None, is_visible=True, dll_path=None):\n",
    "        \"\"\"`__init__` 함수에서는 `api` 객체를 인자로 받습니다.\n",
    "        만약 `api`가 제공되지 않았을 경우, `wc.gencache.EnsureDispatch(\"HWPFrame.HwpObject\")`를 호출하여\n",
    "        기본값으로 한/글 프로그램의 COM 객체를 생성합니다. 그리고 `self.api` 속성에 이 객체를 할당합니다.\n",
    "        `_Actions` 클래스의 객체를 생성하여 `self.actions` 속성에 할당하고, `self.set_visible()` 함수를 호출합니다.\n",
    "        \"\"\"\n",
    "        if not api:\n",
    "            api = dispatch(\"HWPFrame.HwpObject\")\n",
    "        self.api = api\n",
    "        self.actions = _Actions(self)\n",
    "        self.parameters = api.HParameterSet\n",
    "        self.set_visible(is_visible)\n",
    "        check_dll(dll_path)\n",
    "        self.api.RegisterModule(\"FilePathCheckDLL\", \"FilePathCheckerModule\")\n",
    "\n",
    "    def __str__(self):\n",
    "        return f\"<Hwp App: {self.get_filepath()}>\"\n",
    "\n",
    "    __repr__ = __str__"
   ]
  },
  {
   "cell_type": "code",
   "execution_count": 7,
   "id": "d67a7b5e-e604-4c2a-8a6d-e4056d35a68e",
   "metadata": {},
   "outputs": [],
   "source": [
    "#| export\n",
    "\n",
    "\n",
    "@patch\n",
    "def reload(app: App):\n",
    "    app.api = dispatch(\"HWPFrame.HwpObject\")\n",
    "    app.set_visible()\n",
    "    check_dll()\n",
    "    app.api.RegisterModule(\"FilePathCheckDLL\", \"FilePathCheckerModule\")"
   ]
  },
  {
   "cell_type": "code",
   "execution_count": 8,
   "id": "f6d29efb-53f0-424a-a652-babac1a1f9d4",
   "metadata": {},
   "outputs": [],
   "source": [
    "#| export\n",
    "@patch\n",
    "def set_visible(app: App, is_visible=True, window_i=0):\n",
    "    \"\"\"`set_visible()` 함수는 한/글 프로그램의 창을 화면에 보이거나 숨기기 위해 호출됩니다.\n",
    "    `is_visible` 인자가 `True`일 경우 창이 화면에 보이고, `False`일 경우 숨깁니다.\n",
    "    `window_i` 인자는 창의 인덱스를 지정합니다.\"\"\"\n",
    "\n",
    "    app.api.XHwpWindows.Item(window_i).Visible = is_visible"
   ]
  },
  {
   "cell_type": "code",
   "execution_count": 9,
   "id": "a41fa337-89b3-4e57-85e3-778f0a71baa0",
   "metadata": {},
   "outputs": [],
   "source": [
    "#| export\n",
    "@patch\n",
    "def get_filepath(app: App):\n",
    "    \"\"\"`get_filepath()` 함수는 현재 열려있는 한/글 문서의 경로를 반환합니다.\"\"\"\n",
    "    doc = app.api.XHwpDocuments.Active_XHwpDocument\n",
    "    return doc.FullName"
   ]
  },
  {
   "cell_type": "code",
   "execution_count": 10,
   "id": "eda60c32-d1e4-417a-a23a-07ddc11b0ce8",
   "metadata": {},
   "outputs": [],
   "source": [
    "#| export\n",
    "@patch\n",
    "def create_action(app: App, action_key: str):\n",
    "    \"\"\"\n",
    "    `create_action` 함수는 `_Action` 클래스의 인스턴스를 생성하고 반환합니다.\n",
    "\n",
    "    매개변수\n",
    "    ----------\n",
    "    app : App\n",
    "        액션을 생성할 애플리케이션 객체입니다.\n",
    "\n",
    "    action_key : str\n",
    "        생성할 액션의 키입니다.\n",
    "\n",
    "    반환\n",
    "    ------\n",
    "    _Action(app, action_key) : _Action object\n",
    "        입력받은 애플리케이션 객체와 액션 키를 사용하여 생성된 _Action 클래스의 인스턴스를 반환합니다.\n",
    "    \"\"\"\n",
    "    return _Action(app, action_key)"
   ]
  },
  {
   "cell_type": "code",
   "execution_count": 11,
   "id": "f1eecac0-4141-47ce-9348-5eb44345d810",
   "metadata": {},
   "outputs": [],
   "source": [
    "#| export\n",
    "@patch\n",
    "def create_parameterset(app: App, action_key: str):\n",
    "    \"\"\"\n",
    "    `create_parameterset` 함수는 특정 액션에 대한 파라미터셋을 생성하고 반환합니다.\n",
    "\n",
    "    `_action_info` 딕셔너리를 사용하여 주어진 액션 키에 대한 파라미터셋 정보를 조회합니다.\n",
    "    파라미터셋 정보가 있으면 해당 파라미터셋 객체를 생성하고 반환합니다.\n",
    "\n",
    "    매개변수\n",
    "    ----------\n",
    "    app : App\n",
    "        파라미터셋을 생성할 애플리케이션 객체입니다.\n",
    "\n",
    "    action_key : str\n",
    "        파라미터셋을 생성할 액션의 키입니다.\n",
    "\n",
    "    반환\n",
    "    ------\n",
    "    getattr(app.api.HParameterSet, f\"H{pset_key}\") : HParameterSet object or None\n",
    "        해당 액션 키에 대한 파라미터셋 객체를 반환합니다.\n",
    "        만약 액션 키에 대한 파라미터셋 정보가 없으면 None를 반환합니다.\n",
    "    \"\"\"\n",
    "    pset_key, description = _action_info.get(action_key, None)\n",
    "    if not pset_key:\n",
    "        return None\n",
    "    return getattr(app.api.HParameterSet, f\"H{pset_key}\")"
   ]
  },
  {
   "cell_type": "code",
   "execution_count": 12,
   "id": "87c8ed15-c7d6-459d-adea-8faf54e3005a",
   "metadata": {},
   "outputs": [],
   "source": [
    "app = App()"
   ]
  },
  {
   "cell_type": "code",
   "execution_count": 13,
   "id": "9577748a-1167-479b-a77b-bccc31fe3f4b",
   "metadata": {},
   "outputs": [],
   "source": [
    "#| export\n",
    "@patch\n",
    "def open(app: App, path: str):\n",
    "    \"\"\"`open()` 함수는 파일 경로를 인자로 받아 해당 파일을 한/글 프로그램에서 엽니다.\n",
    "    `get_absolute_path()` 함수를 호출하여 절대 경로로 변환한 후, `api.Open()` 함수를 호출하여 파일을 엽니다.\n",
    "    열린 파일의 경로를 반환합니다.\"\"\"\n",
    "    name = get_absolute_path(path)\n",
    "    app.api.Open(name)\n",
    "    return name"
   ]
  },
  {
   "cell_type": "code",
   "execution_count": 14,
   "id": "9441653a-c688-4c3c-acf1-196424967691",
   "metadata": {},
   "outputs": [
    {
     "data": {
      "text/plain": [
       "'c:/Users/freed/Documents/python_projects/HwpApi/nbs/02_api/test/공문양식.hwp'"
      ]
     },
     "execution_count": 14,
     "metadata": {},
     "output_type": "execute_result"
    }
   ],
   "source": [
    "app.open(\"test/공문양식.hwp\")"
   ]
  },
  {
   "cell_type": "code",
   "execution_count": 15,
   "id": "66c39a95-12a1-427a-8613-22b2eb5f3e10",
   "metadata": {},
   "outputs": [],
   "source": [
    "#| export\n",
    "@patch\n",
    "def get_hwnd(app:App):\n",
    "    return app.api.XHwpWindows.Active_XHwpWindow.WindowHandle"
   ]
  },
  {
   "cell_type": "code",
   "execution_count": 16,
   "id": "3ee09743-ffad-40bf-b36c-2e145fe72da0",
   "metadata": {},
   "outputs": [
    {
     "data": {
      "text/plain": [
       "10359136"
      ]
     },
     "execution_count": 16,
     "metadata": {},
     "output_type": "execute_result"
    }
   ],
   "source": [
    "app.get_hwnd()"
   ]
  },
  {
   "cell_type": "code",
   "execution_count": 17,
   "id": "c8b7c5ee-0480-4f61-96d2-ec76b6fff98b",
   "metadata": {},
   "outputs": [],
   "source": [
    "#| export\n",
    "@patch\n",
    "def save(app: App, path=None):\n",
    "    \"\"\"\n",
    "    \"\"\"\n",
    "\n",
    "    if not path:\n",
    "        app.api.Save()\n",
    "        return app.get_filepath()\n",
    "    name = get_absolute_path(path)\n",
    "    extension = Path(name).suffix\n",
    "    format_ = {\n",
    "        \".hwp\": \"HWP\",\n",
    "        \".pdf\": \"PDF\",\n",
    "        \".hwpx\": \"HWPML2X\",\n",
    "        \".png\": \"PNG\",\n",
    "    }.get(extension)\n",
    "\n",
    "    app.api.SaveAs(name, format_)\n",
    "    return name"
   ]
  },
  {
   "cell_type": "code",
   "execution_count": 18,
   "id": "484222c5",
   "metadata": {},
   "outputs": [
    {
     "data": {
      "text/plain": [
       "'c:/Users/freed/Documents/python_projects/HwpApi/nbs/02_api/test.pdf'"
      ]
     },
     "execution_count": 18,
     "metadata": {},
     "output_type": "execute_result"
    }
   ],
   "source": [
    "app.save(\"test.pdf\")"
   ]
  },
  {
   "cell_type": "code",
   "execution_count": 19,
   "id": "001b5497-8a97-41f0-8183-6d3bda5b85ab",
   "metadata": {},
   "outputs": [],
   "source": [
    "#| export\n",
    "@patch\n",
    "def save_block(app: App, path: Path):\n",
    "    \"\"\"\n",
    "    `save_block` 함수는 블록을 저장하고 주소를 반환합니다.\n",
    "\n",
    "    매개변수\n",
    "    ----------\n",
    "    app : App\n",
    "        액션을 생성할 애플리케이션 객체입니다.\n",
    "\n",
    "    path : Path\n",
    "        저장할 주소 입니다.\n",
    "\n",
    "    반환\n",
    "    ------\n",
    "    path : 생성이 성공하면 주소를 반환합니다. 실패하면 None을 반환합니다.\n",
    "    \"\"\"\n",
    "\n",
    "    name = get_absolute_path(path)\n",
    "    extension = Path(name).suffix\n",
    "    format_ = {\n",
    "        \".hwp\": \"HWP\",\n",
    "        \".pdf\": \"PDF\",\n",
    "        \".hwpx\": \"HWPML2X\",\n",
    "        \".png\": \"PNG\",\n",
    "    }.get(extension)\n",
    "\n",
    "    action = app.actions.SaveBlockAction()\n",
    "    p = action.pset\n",
    "    \n",
    "    p.filename = name\n",
    "    p.Format = format_\n",
    "    action.run()\n",
    "    return name if Path(name).exists() else None"
   ]
  },
  {
   "cell_type": "code",
   "execution_count": 20,
   "id": "1e8124bc-4115-4e5e-9f4d-f2a579b8f8d0",
   "metadata": {},
   "outputs": [],
   "source": [
    "app.save_block(\"test2.hwp\")"
   ]
  },
  {
   "cell_type": "code",
   "execution_count": 21,
   "id": "3809847f-d58e-4ca5-9909-50156bc1d2a7",
   "metadata": {},
   "outputs": [],
   "source": [
    "#| export\n",
    "@patch\n",
    "def close(app: App):\n",
    "    \"\"\"`close()` 함수는 현재 열려있는 문서를 닫습니다.\"\"\"\n",
    "    app.api.Run(\"FileClose\")"
   ]
  },
  {
   "cell_type": "code",
   "execution_count": 22,
   "id": "0a0e565e-cf57-416d-8f09-f4612f1dd2eb",
   "metadata": {},
   "outputs": [],
   "source": [
    "app.close()"
   ]
  },
  {
   "cell_type": "code",
   "execution_count": 23,
   "id": "2b9178f8-a364-4c4a-9ed3-a41a2addd835",
   "metadata": {},
   "outputs": [],
   "source": [
    "#| export\n",
    "@patch\n",
    "def quit(app: App):\n",
    "    \"\"\"`quit()` 함수는 한/글 프로그램을 종료합니다.\"\"\"\n",
    "    app.api.Run(\"FileQuit\")"
   ]
  },
  {
   "cell_type": "code",
   "execution_count": 24,
   "id": "e08655b8-f4b4-4c9f-bb37-fc14e949b817",
   "metadata": {},
   "outputs": [],
   "source": [
    "#| export\n",
    "@patch\n",
    "def get_charshape(app: App):\n",
    "    \"\"\"\n",
    "    `get_charshape` 메소드는 현재 애플리케이션에서 문자 모양을 가져오는 함수입니다.\n",
    "\n",
    "    매개변수\n",
    "    ----------\n",
    "    app : App\n",
    "        문자 모양을 가져올 애플리케이션 객체입니다.\n",
    "\n",
    "    반환\n",
    "    ------\n",
    "    CharShape\n",
    "        애플리케이션에서 가져온 문자 모양입니다.\n",
    "    \"\"\"\n",
    "    action = app.actions.CharShape()\n",
    "    p = action.pset\n",
    "    return CharShape(p)"
   ]
  },
  {
   "cell_type": "code",
   "execution_count": 25,
   "id": "22da27f4-f42c-4b0d-a91d-fe8f114afee6",
   "metadata": {},
   "outputs": [
    {
     "data": {
      "text/plain": [
       "<CharShape: hangul_font=함초롬바탕, latin_font=함초롬바탕, text_color=0, fontsize=10.0, bold=0, italic=0, super_script=0, sub_script=0, offset=0, spacing=0, ratio=100, shade_color=#ffffff, shadow_color=#c0c0c0, shadow_offset_x=10, shadow_offset_y=10, strike_out_type=0, strike_out_color=0, underline_type=0, underline_shape=0, underline_color=0, out_line_type=0>"
      ]
     },
     "execution_count": 25,
     "metadata": {},
     "output_type": "execute_result"
    }
   ],
   "source": [
    "app.get_charshape()"
   ]
  },
  {
   "cell_type": "code",
   "execution_count": 26,
   "id": "fc4bce4c-318f-4207-8b69-3de8a65958aa",
   "metadata": {},
   "outputs": [],
   "source": [
    "#| export\n",
    "@patch\n",
    "def set_charshape(app: App, charshape: CharShape=None, **kwargs):\n",
    "    \"\"\"`set_charshape` 함수는 주어진 `CharShape`를 사용하여 애플리케이션의 현재 문단 모양을 설정합니다.\n",
    "\n",
    "    만약 `charshape`가 `None`인 경우, `CharShape`의 기본 인스턴스를 생성합니다.\n",
    "\n",
    "    이 함수는 추가로 `kwargs`를 인자로 받아, 이를 `parashape`의 속성에 할당합니다.\n",
    "    이렇게 수정된 `parashape`는 한/글 문서의 현재 문단 모양을 변경하는데 사용됩니다.\n",
    "\n",
    "    Parameters\n",
    "    ----------\n",
    "    app : App\n",
    "        `App` 객체입니다. 한/글 애플리케이션에 접근하는데 사용됩니다.\n",
    "    charshape : CharShape, optional\n",
    "        한/글 글자 모양을 설정하는데 사용될 `CharShape` 객체입니다. 기본값은 `None`입니다.\n",
    "    **kwargs :\n",
    "        `CharShape`의 속성에 할당될 추가 키워드 인자입니다.\n",
    "\n",
    "    Returns\n",
    "    -------\n",
    "    bool\n",
    "        `set_charshape` 작업의 성공 여부를 나타내는 부울 값입니다.\n",
    "    \"\"\"\n",
    "    if charshape is None:\n",
    "        charshape = CharShape()\n",
    "\n",
    "    for key, value in kwargs.items():\n",
    "        setattr(charshape, key, value)\n",
    "        \n",
    "    action = app.actions.CharShape()\n",
    "    set_pset(action.pset, charshape.todict())\n",
    "    return action.run()"
   ]
  },
  {
   "cell_type": "code",
   "execution_count": 27,
   "id": "dd50ba02-b5fa-4a9e-b2e5-20f187140383",
   "metadata": {},
   "outputs": [
    {
     "data": {
      "text/plain": [
       "True"
      ]
     },
     "execution_count": 27,
     "metadata": {},
     "output_type": "execute_result"
    }
   ],
   "source": [
    "charshape = CharShape()\n",
    "charshape.font = \"바탕체\"\n",
    "charshape.super_script=1\n",
    "charshape.sub_script = 1\n",
    "app.set_charshape(charshape)"
   ]
  },
  {
   "cell_type": "code",
   "execution_count": 28,
   "id": "e50d1cf1-b7e2-4720-8b64-e63a6f6c5b74",
   "metadata": {},
   "outputs": [
    {
     "data": {
      "text/plain": [
       "<CharShape: hangul_font=바탕체, latin_font=바탕체, text_color=0, fontsize=10.0, bold=0, italic=0, super_script=1, sub_script=1, offset=0, spacing=0, ratio=100, shade_color=#ffffff, shadow_color=#c0c0c0, shadow_offset_x=10, shadow_offset_y=10, strike_out_type=0, strike_out_color=0, underline_type=0, underline_shape=0, underline_color=0, out_line_type=0>"
      ]
     },
     "execution_count": 28,
     "metadata": {},
     "output_type": "execute_result"
    }
   ],
   "source": [
    "app.get_charshape()"
   ]
  },
  {
   "cell_type": "code",
   "execution_count": 29,
   "id": "96390244",
   "metadata": {},
   "outputs": [
    {
     "data": {
      "text/plain": [
       "True"
      ]
     },
     "execution_count": 29,
     "metadata": {},
     "output_type": "execute_result"
    }
   ],
   "source": [
    "charshape = CharShape()\n",
    "charshape.font = \"바탕체\"\n",
    "charshape.super_script=0\n",
    "app.set_charshape(charshape)\n",
    "charshape = app.get_charshape()\n",
    "\n",
    "charshape.super_script == 0"
   ]
  },
  {
   "cell_type": "code",
   "execution_count": 30,
   "id": "192e1ed2-c10a-4a5b-badf-38f12b08996b",
   "metadata": {},
   "outputs": [],
   "source": [
    "#| export\n",
    "@patch\n",
    "def get_parashape(app: App):\n",
    "    \"\"\"\n",
    "    `get_parashape` 메소드는 현재 애플리케이션에서 문단 모양을 가져오는 함수입니다.\n",
    "\n",
    "    매개변수\n",
    "    ----------\n",
    "    app : App\n",
    "        문단 모양을 가져올 애플리케이션 객체입니다.\n",
    "\n",
    "    반환\n",
    "    ------\n",
    "    ParaShape\n",
    "        애플리케이션에서 가져온 문단 모양입니다.\n",
    "    \"\"\"\n",
    "    action = app.actions.ParagraphShape()\n",
    "    p = action.pset\n",
    "\n",
    "    return ParaShape(p)"
   ]
  },
  {
   "cell_type": "code",
   "execution_count": 31,
   "id": "a0e8189b-2438-41d5-8a0e-82c93fbed76c",
   "metadata": {},
   "outputs": [
    {
     "data": {
      "text/plain": [
       "<ParaShape: left_margin=0, right_margin=0, indentation=0, prev_spacing=0, next_spacing=0, line_spacing_type=Word, line_spacing=160, align_type=Both, break_latin_word=Word, break_non_latin_word=1, snap_to_grid=1, condense=0, widow_orphan=0, keep_with_next=0, page_break_before=0, text_alignment=Font, font_line_height=0, heading_type=None, level=0, border_connect=0, border_text=0, border_offset_left=0, border_offset_right=0, border_offset_top=0, border_offset_bottom=0, tail_type=0, line_wrap=0>"
      ]
     },
     "execution_count": 31,
     "metadata": {},
     "output_type": "execute_result"
    }
   ],
   "source": [
    "app.get_parashape()"
   ]
  },
  {
   "cell_type": "code",
   "execution_count": 32,
   "id": "349ce3c3-492f-48f1-bde0-b3a50397fb35",
   "metadata": {},
   "outputs": [],
   "source": [
    "#| export\n",
    "\n",
    "\n",
    "@patch\n",
    "def set_parashape(app: App, parashape: ParaShape = None, **kwargs):\n",
    "    \"\"\"`set_parashape` 함수는 주어진 `ParaShape`를 사용하여 애플리케이션의 현재 문단 모양을 설정합니다.\n",
    "\n",
    "    만약 `parashape`가 `None`인 경우, `ParaShape`의 기본 인스턴스를 생성합니다.\n",
    "\n",
    "    이 함수는 추가로 `kwargs`를 인자로 받아, 이를 `parashape`의 속성에 할당합니다.\n",
    "    이렇게 수정된 `parashape`는 한/글 문서의 현재 문단 모양을 변경하는데 사용됩니다.\n",
    "\n",
    "    Parameters\n",
    "    ----------\n",
    "    app : App\n",
    "        `App` 객체입니다. 한/글 애플리케이션에 접근하는데 사용됩니다.\n",
    "    parashape : ParaShape, optional\n",
    "        한/글 문단 모양을 설정하는데 사용될 `ParaShape` 객체입니다. 기본값은 `None`입니다.\n",
    "    **kwargs :\n",
    "        `ParaShape`의 속성에 할당될 추가 키워드 인자입니다.\n",
    "\n",
    "    Returns\n",
    "    -------\n",
    "    bool\n",
    "        `set_parashape` 작업의 성공 여부를 나타내는 부울 값입니다.\n",
    "    \"\"\"\n",
    "    if parashape is None:\n",
    "        parashape = ParaShape()\n",
    "\n",
    "    for key, value in kwargs.items():\n",
    "        setattr(parashape, key, value)\n",
    "\n",
    "    action = app.actions.ParagraphShape()\n",
    "    set_pset(action.pset, parashape.todict())\n",
    "    return action.run()"
   ]
  },
  {
   "cell_type": "code",
   "execution_count": 33,
   "id": "f23d02e3-e751-40f3-b614-1be32f996bb3",
   "metadata": {},
   "outputs": [
    {
     "data": {
      "text/plain": [
       "True"
      ]
     },
     "execution_count": 33,
     "metadata": {},
     "output_type": "execute_result"
    }
   ],
   "source": [
    "app.set_parashape(line_spacing=100)"
   ]
  },
  {
   "cell_type": "code",
   "execution_count": 34,
   "id": "5768c259-3d17-44fe-842d-c8ec7b508ea5",
   "metadata": {},
   "outputs": [],
   "source": [
    "#| export\n",
    "@patch\n",
    "def insert_text(\n",
    "    app: App,\n",
    "    text: str,\n",
    "    charshape: CharShape = None, \n",
    "    **kwargs,\n",
    "):\n",
    "    \"\"\"`text를 입력합니다.\"\"\"\n",
    "    if not charshape:\n",
    "        charshape = CharShape()\n",
    "    for key, value in kwargs.items():\n",
    "        setattr(charshape, key, value)\n",
    "    app.set_charshape(charshape)\n",
    "    \n",
    "    insert_text = app.actions.InsertText()\n",
    "    p = insert_text.pset\n",
    "    p.Text = text\n",
    "    \n",
    "    insert_text.run()\n",
    "    return"
   ]
  },
  {
   "cell_type": "code",
   "execution_count": 35,
   "id": "42e7bc83-753e-44c3-b46c-53d8d4d3b32b",
   "metadata": {},
   "outputs": [],
   "source": [
    "app.insert_text(\"안녕하세요\", charshape)"
   ]
  },
  {
   "cell_type": "code",
   "execution_count": 36,
   "id": "e2274369-f5fd-458b-b827-c5f9ba4cda67",
   "metadata": {},
   "outputs": [
    {
     "data": {
      "text/plain": [
       "True"
      ]
     },
     "execution_count": 36,
     "metadata": {},
     "output_type": "execute_result"
    }
   ],
   "source": [
    "app.set_parashape(ParaShape(right_margin=20, align_type=\"Left\"))"
   ]
  },
  {
   "cell_type": "code",
   "execution_count": 37,
   "id": "353e47f9-b51d-4daa-87da-f253d5296a4f",
   "metadata": {},
   "outputs": [],
   "source": [
    "parashape = app.actions.ParagraphShape()"
   ]
  },
  {
   "cell_type": "code",
   "execution_count": 38,
   "id": "a1af8415-61a6-438a-aa5d-7e1b81bb588d",
   "metadata": {},
   "outputs": [
    {
     "data": {
      "text/plain": [
       "5660"
      ]
     },
     "execution_count": 38,
     "metadata": {},
     "output_type": "execute_result"
    }
   ],
   "source": [
    "parashape.pset.RightMargin"
   ]
  },
  {
   "cell_type": "code",
   "execution_count": 39,
   "id": "ea9cafbf-469e-4a16-9d69-15c651f2c512",
   "metadata": {},
   "outputs": [],
   "source": [
    "#| export\n",
    "mask_options = {\n",
    "    \"Normal\": 0x00,  # \"본문을 대상으로 검색한다.(서브리스트를 검색하지 않는다.)\"\n",
    "    \"Char\": 0x01,  # \"char 타입 컨트롤 마스크를 대상으로 한다.(강제줄나눔, 문단 끝, 하이픈, 묶움빈칸, 고정폭빈칸, 등...)\"\n",
    "    \"Inline\": 0x02,  # \"inline 타입 컨트롤 마스크를 대상으로 한다.(누름틀 필드 끝, 등...)\"\n",
    "    \"Ctrl\": 0x04,  # \"extende 타입 컨트롤 마스크를 대상으로 한다.(바탕쪽, 프레젠테이션, 다단, 누름틀 필드 시작, Shape Object, 머리말, 꼬리말, 각주, 미주, 번호관련 컨트롤, 새 번호 관련 컨트롤, 감추기, 찾아보기, 글자 겹침, 등...)\"\n",
    "    \"All\": None,\n",
    "}\n",
    "\n",
    "scan_spos_keys = {\n",
    "    \"Current\": 0x0000,  # \"캐럿 위치부터. (시작 위치)\",\n",
    "    \"Specified\": 0x0010,  # \"특정 위치부터. (시작 위치)\",\n",
    "    \"Line\": 0x0020,  # \"줄의 시작부터. (시작 위치)\",\n",
    "    \"Paragraph\": 0x0030,  # \"문단의 시작부터. (시작 위치)\"\n",
    "    \"Section\": 0x0040,  # \"구역의 시작부터. (시작 위치)\"\n",
    "    \"List\": 0x0050,  # \"리스트의 시작부터. (시작 위치)\"\n",
    "    \"Control\": 0x0060,  # \"컨트롤의 시작부터. (시작 위치)\"\n",
    "    \"Document\": 0x0070,  # \"문서의 시작부터. (시작 위치)\"\n",
    "}\n",
    "\n",
    "scan_epos_keys = {\n",
    "    \"Current\": 0x0000,  # \"캐럿 위치까지. (끝 위치)\"\n",
    "    \"Specified\": 0x0001,  # \"특정 위치까지. (끝 위치)\"\n",
    "    \"Line\": 0x0002,  # \"줄의 끝까지. (끝 위치)\"\n",
    "    \"Paragraph\": 0x0003,  # \"문단의 끝까지. (끝 위치)\"\n",
    "    \"Section\": 0x0004,  # \"구역의 끝까지. (끝 위치)\"\n",
    "    \"List\": 0x0005,  # \"리스트의 끝까지. (끝 위치)\"\n",
    "    \"Control\": 0x0006,  # \"컨트롤의 끝까지. (끝 위치)\"\n",
    "    \"Document\": 0x0007,  # \"문서의 끝까지. (끝 위치)\"\n",
    "}\n",
    "\n",
    "scan_directions = {\n",
    "    \"Forward\": 0x0000,  # \"정뱡향. (검색 방향)\"\n",
    "    \"Backward\": 0x0100,  # \"역방향. (검색 방향)\"\n",
    "}\n",
    "\n",
    "\n",
    "def _get_text(app):\n",
    "    \"\"\"스캔한 텍스트 텍스트 제너레이터\"\"\"\n",
    "    flag, text = 2, \"\"\n",
    "    while flag not in [0, 1, 101, 102]:\n",
    "        flag, text = app.api.GetText()\n",
    "        yield text\n",
    "\n",
    "\n",
    "@patch\n",
    "@contextmanager\n",
    "def scan(\n",
    "    app: App,\n",
    "    option=\"All\",\n",
    "    selection=False,\n",
    "    scan_spos=\"Document\",\n",
    "    scan_epos=\"Document\",\n",
    "    spara=None,\n",
    "    spos=None,\n",
    "    epara=None,\n",
    "    epos=None,\n",
    "    scan_direction=\"Forward\",\n",
    "):\n",
    "    # set start and end position\n",
    "    spos_id = get_value(scan_spos_keys, scan_spos)\n",
    "    epos_id = get_value(scan_epos_keys, scan_epos)\n",
    "    range_ = spos_id + epos_id\n",
    "    # if selection\n",
    "    if selection:\n",
    "        range_ = 0x00FF  # \"검색의 범위를 블록으로 제한.\"\n",
    "\n",
    "    # set direction\n",
    "    direction = get_value(scan_directions, scan_direction)\n",
    "    range_ = range_ + direction\n",
    "    app.api.InitScan(\n",
    "        option=get_value(mask_options, option),\n",
    "        Range=range_,\n",
    "        spara=spara,\n",
    "        spos=spos,\n",
    "        epara=epara,\n",
    "        epos=epos,\n",
    "    )\n",
    "    yield _get_text(app)\n",
    "    app.api.ReleaseScan()"
   ]
  },
  {
   "cell_type": "code",
   "execution_count": 40,
   "id": "9974a67a-3c5d-4b58-bb47-577469feab78",
   "metadata": {},
   "outputs": [],
   "source": [
    "#| export\n",
    "\n",
    "\n",
    "def move_to_line(app: App, text):\n",
    "    \"\"\"인자로 전달한 텍스트가 있는 줄의 시작지점으로 이동합니다.\"\"\"\n",
    "    with app.scan(scan_spos=\"Line\") as scan:\n",
    "        for line in scan:\n",
    "            if text in line:\n",
    "                return app.move(key=\"ScanPos\")\n",
    "    return False"
   ]
  },
  {
   "cell_type": "code",
   "execution_count": 41,
   "id": "e6ed63df-d9dd-433a-acc2-1568abcb7576",
   "metadata": {},
   "outputs": [],
   "source": [
    "#| export\n",
    "move_ids = {\n",
    "    \"Main\": 0,  # 루트 리스트의 특정 위치.(para pos로 위치 지정)\n",
    "    \"CurList\": 1,  # 현재 리스트의 특정 위치.(para pos로 위치 지정)\n",
    "    \"TopOfFile\": 2,  # 문서의 시작으로 이동.\n",
    "    \"BottomOfFile\": 3,  # 문서의 끝으로 이동.\n",
    "    \"TopOfList\": 4,  # 현재 리스트의 시작으로 이동\n",
    "    \"BottomOfList\": 5,  # 현재 리스트의 끝으로 이동\n",
    "    \"StartOfPara\": 6,  # 현재 위치한 문단의 시작으로 이동\n",
    "    \"EndOfPara\": 7,  # 현재 위치한 문단의 끝으로 이동\n",
    "    \"StartOfWord\": 8,  # 현재 위치한 단어의 시작으로 이동.(현재 리스트만을 대상으로 동작한다.)\n",
    "    \"EndOfWord\": 9,  # 현재 위치한 단어의 끝으로 이동.(현재 리스트만을 대상으로 동작한다.)\n",
    "    \"NextPara\": 10,  # 다음 문단의 시작으로 이동.(현재 리스트만을 대상으로 동작한다.)\n",
    "    \"PrevPara\": 11,  # 앞 문단의 끝으로 이동.(현재 리스트만을 대상으로 동작한다.)\n",
    "    \"NextPos\": 12,  # 한 글자 뒤로 이동.(서브 리스트를 옮겨 다닐 수 있다.)\n",
    "    \"PrevPos\": 13,  # 한 글자 앞으로 이동.(서브 리스트를 옮겨 다닐 수 있다.)\n",
    "    \"NextPosEx\": 14,  # 한 글자 뒤로 이동.(서브 리스트를 옮겨 다닐 수 있다. 머리말/꼬리말, 각주/미주, 글상자 포함.)\n",
    "    \"PrevPosEx\": 15,  # 한 글자 앞으로 이동.(서브 리스트를 옮겨 다닐 수 있다. 머리말/꼬리말, 각주/미주, 글상자 포함.)\n",
    "    \"NextChar\": 16,  # 한 글자 뒤로 이동.(현재 리스트만을 대상으로 동작한다.)\n",
    "    \"PrevChar\": 17,  # 한 글자 앞으로 이동.(현재 리스트만을 대상으로 동작한다.)\n",
    "    \"NextWord\": 18,  # 한 단어 뒤로 이동.(현재 리스트만을 대상으로 동작한다.)\n",
    "    \"PrevWord\": 19,  # 한 단어 앞으로 이동.(현재 리스트만을 대상으로 동작한다.)\n",
    "    \"NextLine\": 20,  # 한 줄 아래로 이동.\n",
    "    \"PrevLine\": 21,  # 한 줄 위로 이동.\n",
    "    \"StartOfLine\": 22,  # 현재 위치한 줄의 시작으로 이동.\n",
    "    \"EndOfLine\": 23,  # 현재 위치한 줄의 끝으로 이동.\n",
    "    \"ParentList\": 24,  # 한 레벨 상위로 이동한다.\n",
    "    \"TopLevelList\": 25,  # 탑레벨 리스트로 이동한다.\n",
    "    \"RootList\": 26,  # 루트 리스트로 이동한다. 현재 루트 리스트에 위치해 있어 더 이상 상위 리스트가 없을 때는 위치 이동 없이 반환한다. 이동한 후의 위치는 상위 리스트에서 서브리스트가 속한 컨트롤 코드가 위치한 곳이다. 위치 이동시 셀렉션은 무조건 풀린다.\n",
    "    \"CurrentCaret\": 27,  # 현재 캐럿이 위치한 곳으로 이동한다. (캐럿 위치가 뷰의 맨 위쪽으로 올라간다. )\n",
    "    \"LeftOfCell\": 100,  # 현재 캐럿이 위치한 셀의 왼쪽\n",
    "    \"RightOfCell\": 101,  # 현재 캐럿이 위치한 셀의 오른쪽\n",
    "    \"UpOfCell\": 102,  # 현재 캐럿이 위치한 셀의 위쪽\n",
    "    \"DownOfCell\": 103,  # 현재 캐럿이 위치한 셀의 아래쪽\n",
    "    \"StartOfCell\": 104,  # 현재 캐럿이 위치한 셀에서 행(row)의 시작\n",
    "    \"EndOfCell\": 105,  # 현재 캐럿이 위치한 셀에서 행(row)의 끝\n",
    "    \"TopOfCell\": 106,  # 현재 캐럿이 위치한 셀에서 열(column)의 시작\n",
    "    \"BottomOfCell\": 107,  # 현재 캐럿이 위치한 셀에서 열(column)의 끝\n",
    "    \"ScrPos\": 200,  # 한/글 문서장에서의 screen 좌표로서 위치를 설정 한다.\n",
    "    \"ScanPos\": 201,  # GetText() 실행 후 위치로 이동한다.\n",
    "}\n",
    "\n",
    "\n",
    "@patch\n",
    "def move(app: App, key=\"ScanPos\", para=None, pos=None):\n",
    "    \"\"\"키워드를 바탕으로 캐럿 위치를 이동시킵니다.\"\"\"\n",
    "\n",
    "    move_id = get_value(move_ids, key)\n",
    "    return app.api.MovePos(moveID=move_id, Para=para, pos=pos)"
   ]
  },
  {
   "cell_type": "code",
   "execution_count": 42,
   "id": "5a174e89-13d4-4c03-8485-f58de7364603",
   "metadata": {},
   "outputs": [
    {
     "data": {
      "text/plain": [
       "201"
      ]
     },
     "execution_count": 42,
     "metadata": {},
     "output_type": "execute_result"
    }
   ],
   "source": [
    "get_value(move_ids, \"ScanPos\")"
   ]
  },
  {
   "cell_type": "code",
   "execution_count": 43,
   "id": "23e23a40-9bcc-4c27-aa21-7ab08458ab99",
   "metadata": {},
   "outputs": [],
   "source": [
    "#| export\n",
    "\n",
    "@patch\n",
    "def setup_page(\n",
    "    app: App,  # app\n",
    "    top=20,  # 윗 여백\n",
    "    bottom=10,  # 아래 여백\n",
    "    right=20,  # 오른쪽 여백\n",
    "    left=20,  # 왼쪽 여백\n",
    "    header=15,  # 머릿말\n",
    "    footer=5,  # 꼬릿말\n",
    "    gutter=0,\n",
    "):  # 제본\n",
    "    \"\"\"\n",
    "    페이지를 설정합니다.\n",
    "    \"\"\"\n",
    "    action = app.actions.PageSetup()\n",
    "    p = action.pset\n",
    "\n",
    "    p.PageDef.TopMargin = app.api.MiliToHwpUnit(top)\n",
    "    p.PageDef.HeaderLen = app.api.MiliToHwpUnit(header)\n",
    "    p.PageDef.RightMargin = app.api.MiliToHwpUnit(right)\n",
    "    p.PageDef.BottomMargin = app.api.MiliToHwpUnit(bottom)\n",
    "    p.PageDef.FooterLen = app.api.MiliToHwpUnit(footer)\n",
    "    p.PageDef.LeftMargin = app.api.MiliToHwpUnit(left)\n",
    "    p.PageDef.GutterLen = app.api.MiliToHwpUnit(gutter)\n",
    "\n",
    "    return action.run()"
   ]
  },
  {
   "cell_type": "code",
   "execution_count": 44,
   "id": "750f6607-3f28-4b1f-8e22-d37475afada7",
   "metadata": {},
   "outputs": [],
   "source": [
    "#| export\n",
    "size_options = {\n",
    "    \"realSize\": 0,  # 이미지를 원래의 크기로 삽입한다.\n",
    "    \"specificSize\": 1,  # width와 height에 지정한 크기로 그림을 삽입한다.\n",
    "    \"cellSize\": 2,  # 현재 캐럿이 표의 셀안에 있을 경우, 셀의 크기에 맞게 자동 조정하여 삽입한다.\n",
    "    \"cellSizeWithSameRatio\": 3,  # 현재 캐럿이 표의 셀 안에 있을 경우, 셀의 크기에 맞추어 원본 이미지의 가로 세로 비율이 동일하게 확대/축소하여 삽입한다.\n",
    "}\n",
    "\n",
    "effects = {\n",
    "    \"RealPicture\": 0,  # 원본\n",
    "    \"GrayScale\": 1,  # 그레이 스케일\n",
    "    \"BlackWhite\": 2,  # 흑백효과\n",
    "}\n",
    "\n",
    "\n",
    "@patch\n",
    "def insert_picture(\n",
    "    app: App,  # app\n",
    "    fpath,  # 그림 위치\n",
    "    width=None,  # 넓이\n",
    "    height=None,  # 높이\n",
    "    size_option=\"realSize\",  # 사이즈 옵션\n",
    "    reverse=False,  # 이미지 반전 여부\n",
    "    watermark=False,  # 워커마크 여부\n",
    "    effect=\"RealPicture\",  # 화면 효과\n",
    "):\n",
    "    \"\"\"\n",
    "    사이즈를 지정하여 사진 삽입\n",
    "    \"\"\"\n",
    "    path = Path(fpath)\n",
    "    sizeoption = get_value(size_options, size_option)\n",
    "    effect = get_value(effects, effect)\n",
    "    return app.api.InsertPicture(\n",
    "        path.absolute().as_posix(),\n",
    "        Width=width,\n",
    "        Height=height,\n",
    "        sizeoption=sizeoption,\n",
    "        reverse=reverse,\n",
    "        watermark=watermark,\n",
    "        effect=effect,\n",
    "    )"
   ]
  },
  {
   "cell_type": "code",
   "execution_count": 45,
   "id": "5cea6d9a-da09-4c43-8312-1330ce58b2f9",
   "metadata": {},
   "outputs": [],
   "source": [
    "#| export\n",
    "\n",
    "\n",
    "@patch\n",
    "def select_text(app: App, option: str = \"Line\"):\n",
    "    \"\"\"\n",
    "    한줄을 선택합니다.\n",
    "    \"\"\"\n",
    "    select_options = {\n",
    "        \"Doc\": (app.actions.MoveDocBegin, app.actions.MoveSelDocEnd),\n",
    "        \"Para\": (app.actions.MoveParaBegin, app.actions.MoveSelParaEnd),\n",
    "        \"Line\": (app.actions.MoveLineBegin, app.actions.MoveSelLineEnd),\n",
    "        \"Word\": (app.actions.MoveWordBegin, app.actions.MoveSelWordEnd),\n",
    "    }\n",
    "    begin, end = select_options.get(option)\n",
    "    return begin().run(), end().run()"
   ]
  },
  {
   "cell_type": "code",
   "execution_count": 46,
   "id": "58e93f18-9d40-4c54-bb7e-c4ebfd48297f",
   "metadata": {},
   "outputs": [
    {
     "data": {
      "text/plain": [
       "(True, True)"
      ]
     },
     "execution_count": 46,
     "metadata": {},
     "output_type": "execute_result"
    }
   ],
   "source": [
    "app.select_text()"
   ]
  },
  {
   "cell_type": "code",
   "execution_count": 47,
   "id": "7d3e4967-852b-4b68-bc15-cce2d34d0a5d",
   "metadata": {},
   "outputs": [
    {
     "data": {
      "text/plain": [
       "True"
      ]
     },
     "execution_count": 47,
     "metadata": {},
     "output_type": "execute_result"
    }
   ],
   "source": [
    "app.set_charshape(CharShape(font=\"바탕\", fontsize=20))"
   ]
  },
  {
   "cell_type": "code",
   "execution_count": 48,
   "id": "5ddd4336-3f09-4e40-8965-c730a6dd2465",
   "metadata": {},
   "outputs": [],
   "source": [
    "#| export\n",
    "@patch\n",
    "def get_selected_text(app: App):\n",
    "    \"\"\"\n",
    "    선택된 영역의 텍스트를 불러온다.\n",
    "    \"\"\"\n",
    "    with app.scan(selection=True) as scan:\n",
    "        text = \"\\n\".join(scan)\n",
    "    return text"
   ]
  },
  {
   "cell_type": "code",
   "execution_count": 49,
   "id": "f675e9d7-f5af-4915-af4b-25b60e8d3346",
   "metadata": {},
   "outputs": [
    {
     "data": {
      "text/plain": [
       "'안녕하세요\\n'"
      ]
     },
     "execution_count": 49,
     "metadata": {},
     "output_type": "execute_result"
    }
   ],
   "source": [
    "app.get_selected_text()"
   ]
  },
  {
   "cell_type": "code",
   "execution_count": 50,
   "id": "990b8ead-e289-448e-891f-2ba1f13eefc6",
   "metadata": {},
   "outputs": [],
   "source": [
    "#| export\n",
    "@patch\n",
    "def get_text(app: App, spos=\"Line\", epos=\"Line\"):\n",
    "    \"\"\"\n",
    "    텍스트를 가져옵니다. 기본은 현재 문장입니다.\n",
    "    \"Current\":  # \"캐럿 위치부터. (현재 위치까지)\",\n",
    "    \"Specified\": 0x0010,  # \"특정 위치부터. (특정 위치까지)\",\n",
    "    \"Line\": 0x0020,  # \"줄의 시작부터. (줄 끝까지)\",\n",
    "    \"Paragraph\": 0x0030,  # \"문단의 시작부터. (문단 끝까지)\"\n",
    "    \"Section\": 0x0040,  # \"구역의 시작부터. (구역의 끝까지)\"\n",
    "    \"List\": 0x0050,  # \"리스트의 시작부터. (리스트 끝까지)\"\n",
    "    \"Control\": 0x0060,  # \"컨트롤의 시작부터. (컨트롤 끝까지)\"\n",
    "    \"Document\": 0x0070,  # \"문서의 시작부터. (문서 끝까지)\"\n",
    "    \"\"\"\n",
    "    with app.scan(scan_spos=spos, scan_epos=epos) as txts:\n",
    "        text = \"\".join(txts)\n",
    "    return text"
   ]
  },
  {
   "cell_type": "code",
   "execution_count": 51,
   "id": "fa31d033-e179-43da-9c47-7a45ddca692c",
   "metadata": {},
   "outputs": [
    {
     "data": {
      "text/plain": [
       "'안녕하세요\\r\\n'"
      ]
     },
     "execution_count": 51,
     "metadata": {},
     "output_type": "execute_result"
    }
   ],
   "source": [
    "app.get_text()"
   ]
  },
  {
   "cell_type": "code",
   "execution_count": 52,
   "id": "aa0ee9d3-f0ac-4390-a3b7-d87c0a328d05",
   "metadata": {},
   "outputs": [],
   "source": [
    "#| export\n",
    "directions = {\"Forward\": 0, \"Backward\": 1, \"All\": 2}"
   ]
  },
  {
   "cell_type": "code",
   "execution_count": 53,
   "id": "4c2ce1a2-cdee-4e8d-acbb-9aef4728f3bd",
   "metadata": {},
   "outputs": [],
   "source": [
    "#| export\n",
    "@patch\n",
    "def find_text(\n",
    "    app: App,\n",
    "    text=\"\",\n",
    "    charshape: CharShape = None,\n",
    "    ignore_message=True,  # 메시지 무시 여부\n",
    "    direction=\"Forward\",  # 찾을 방향\n",
    "    match_case=False,  # 대소문자 구분\n",
    "    all_word_forms=False,  # 문자열 결합\n",
    "    several_words=False,  #  여러 단어 찾기\n",
    "    use_wild_cards=False,  # 아무개 문자\n",
    "    whole_word_only=False,  # 온전한 낱말\n",
    "    replace_mode=False,  # 찾아 바꾸기 모드\n",
    "    ignore_find_string=False,  # 찾을 문자열 무시\n",
    "    ignore_replace_string=False,  # 바꿀 문자열 무시\n",
    "    find_style=\"\",  # 찾을 스타일\n",
    "    replace_style=\"\",\n",
    "    find_jaso=False,  # 자소로 찾기\n",
    "    find_reg_exp=False,  # 정규표현식으로 찾기\n",
    "    find_type=False,  # 다시 찾기를 할 때 마지막으로 실한 찾기를 할 경우 True, 찾아가기를 할경우 False\n",
    "):\n",
    "    \"\"\"\n",
    "    text를 찾습니다.\n",
    "    찾지못하면 False를 반환합니다.\n",
    "    \"\"\"\n",
    "\n",
    "    action = app.actions.RepeatFind()\n",
    "    p = action.pset\n",
    "\n",
    "    # set options\n",
    "    p.FindString = text\n",
    "    p.IgnoreMessage = ignore_message\n",
    "    p.MatchCase = match_case\n",
    "    p.AllWordForms = all_word_forms\n",
    "    p.Direction = get_value(directions, direction)\n",
    "    p.SeveralWords = several_words\n",
    "    p.UseWildCards = use_wild_cards\n",
    "    p.WholeWordOnly = whole_word_only\n",
    "    p.ReplaceMode = replace_mode\n",
    "    p.IgnoreFindString = ignore_find_string\n",
    "    p.IgnoreReplaceString = ignore_replace_string\n",
    "    p.FindStyle = find_style\n",
    "    p.ReplaceStyle = replace_style\n",
    "    p.FindJaso = find_jaso\n",
    "    p.FindRegExp = find_reg_exp\n",
    "    p.FindType = find_type\n",
    "\n",
    "    # set charshape\n",
    "    if charshape:\n",
    "        set_pset(p.FindCharShape, charshape.todict())\n",
    "\n",
    "    return action.run()"
   ]
  },
  {
   "cell_type": "code",
   "execution_count": 54,
   "id": "6c29b3db-9614-4cb1-935d-987d203919e2",
   "metadata": {},
   "outputs": [
    {
     "data": {
      "text/plain": [
       "False"
      ]
     },
     "execution_count": 54,
     "metadata": {},
     "output_type": "execute_result"
    }
   ],
   "source": [
    "app.find_text(\"안녕하세요\")"
   ]
  },
  {
   "cell_type": "code",
   "execution_count": 55,
   "id": "0299729b-cfaf-4938-985a-ecd71b66cd23",
   "metadata": {},
   "outputs": [],
   "source": [
    "#| export\n",
    "@patch\n",
    "def replace_all(\n",
    "    app: App,\n",
    "    old_text=\"\",\n",
    "    new_text=\"\",\n",
    "    old_charshape: CharShape = None,\n",
    "    new_charshape: CharShape = None,\n",
    "    ignore_message=True,  # 메시지 무시 여부\n",
    "    direction=\"All\",  # 찾을 방향\n",
    "    match_case=False,  # 대소문자 구분\n",
    "    all_word_forms=False,  # 문자열 결합\n",
    "    several_words=False,  #  여러 단어 찾기\n",
    "    use_wild_cards=False,  # 아무개 문자\n",
    "    whole_word_only=False,  # 온전한 낱말\n",
    "    auto_spell=True,  # 토시 자동 교정\n",
    "    replace_mode=True,  # 찾아 바꾸기 모드\n",
    "    ignore_find_string=False,  # 찾을 문자열 무시\n",
    "    ignore_replace_string=False,  # 바꿀 문자열 무시\n",
    "    find_style=\"\",  # 찾을 스타일\n",
    "    replace_style=\"\",  # 바꿀 스타일\n",
    "    find_jaso=False,  # 자소로 찾기\n",
    "    find_reg_exp=False,  # 정규표현식으로 찾기\n",
    "    find_type=True,  # 다시 찾기를 할 때 마지막으로 실한 찾기를 할 경우 True, 찾아가기를 할경우 False\n",
    "):\n",
    "    action = app.actions.AllReplace()\n",
    "    p = action.pset\n",
    "\n",
    "    # set options\n",
    "    p.FindString = old_text\n",
    "    p.ReplaceString = new_text\n",
    "    p.IgnoreMessage = ignore_message\n",
    "    p.MatchCase = match_case\n",
    "    p.AllWordForms = all_word_forms\n",
    "    p.Direction = get_value(directions, direction)\n",
    "    p.SeveralWords = several_words\n",
    "    p.UseWildCards = use_wild_cards\n",
    "    p.WholeWordOnly = whole_word_only\n",
    "    p.AutoSpell = auto_spell\n",
    "    p.ReplaceMode = replace_mode\n",
    "    p.IgnoreFindString = ignore_find_string\n",
    "    p.IgnoreReplaceString = ignore_replace_string\n",
    "    p.FindStyle = find_style\n",
    "    p.ReplaceStyle = replace_style\n",
    "    p.FindJaso = find_jaso\n",
    "    p.FindRegExp = find_reg_exp\n",
    "    p.FindType = find_type\n",
    "\n",
    "    # set old charshape\n",
    "\n",
    "    if old_charshape:\n",
    "        set_pset(p.FindCharShape, old_charshape.todict())\n",
    "    if new_charshape:\n",
    "        set_charshape_pset(p.ReplaceCharShape, new_charshape.todict())\n",
    "\n",
    "    return action.run()"
   ]
  },
  {
   "cell_type": "code",
   "execution_count": 56,
   "id": "dd033a03-bda0-4e18-a8f6-264f4711ed37",
   "metadata": {},
   "outputs": [],
   "source": [
    "app.insert_text(\"t\")"
   ]
  },
  {
   "cell_type": "code",
   "execution_count": 57,
   "id": "9304ab8f-2498-478f-bbbf-7d9694ccaff5",
   "metadata": {},
   "outputs": [
    {
     "data": {
      "text/plain": [
       "True"
      ]
     },
     "execution_count": 57,
     "metadata": {},
     "output_type": "execute_result"
    }
   ],
   "source": [
    "app.replace_all(\"t\", \"txt\", new_charshape=CharShape(hangul_font=\"가는안상수체\", fontsize=21))"
   ]
  },
  {
   "cell_type": "code",
   "execution_count": 58,
   "id": "0bf33c31-57ee-496d-82eb-ab299df1ca41",
   "metadata": {},
   "outputs": [],
   "source": [
    "#| export\n",
    "@patch\n",
    "def insert_file(\n",
    "    app: App,\n",
    "    fpath,\n",
    "    keep_charshape=False,\n",
    "    keep_parashape=False,\n",
    "    keep_section=False,\n",
    "    keep_style=False,\n",
    "):\n",
    "    \"\"\"\n",
    "    파일 끼워 넣기\n",
    "    \"\"\"\n",
    "\n",
    "    action = app.actions.InsertFile()\n",
    "    p = action.pset\n",
    "    p.filename = Path(fpath).absolute().as_posix()\n",
    "    p.KeepCharshape = keep_charshape\n",
    "    p.KeepParashape = keep_parashape\n",
    "    p.KeepSection = keep_section\n",
    "    p.KeepStyle = keep_style\n",
    "\n",
    "    return action.run()"
   ]
  },
  {
   "cell_type": "code",
   "execution_count": 59,
   "id": "ab53657e-92a9-4e2a-ba35-62b578a72d54",
   "metadata": {},
   "outputs": [],
   "source": [
    "#| export\n",
    "\n",
    "thickness_dict = {\n",
    "    -1: \"최소값 (=0.1 mm)\",\n",
    "    0: \"0.1 mm\",\n",
    "    1: \"0.12 mm\",\n",
    "    2: \"0.15 mm\",\n",
    "    3: \"0.2 mm\",\n",
    "    4: \"0.25 mm\",\n",
    "    5: \"0.3 mm\",\n",
    "    6: \"0.4 mm\",\n",
    "    7: \"0.5 mm\",\n",
    "    8: \"0.6 mm\",\n",
    "    9: \"0.7 mm\",\n",
    "    10: \"1.0 mm\",\n",
    "    11: \"1.5 mm\",\n",
    "    12: \"2.0 mm\",\n",
    "    13: \"3.0 mm\",\n",
    "    14: \"4.0 mm\",\n",
    "    15: \"5.0 mm\",\n",
    "    16: \"최대값 (=5.0 mm)\"\n",
    "}\n",
    "\n",
    "\n",
    "@patch\n",
    "def set_cell_border(\n",
    "    app: App,\n",
    "    top=None,\n",
    "    right=None,\n",
    "    left=None,\n",
    "    bottom=None,\n",
    "    horizontal=None,\n",
    "    vertical=None,\n",
    "    top_width=None,\n",
    "    right_width=None,\n",
    "    left_width=None,\n",
    "    bottom_width=None,\n",
    "    horizontal_width=None,\n",
    "    vertical_width=None,\n",
    "    top_color=None,\n",
    "    bottom_color=None,\n",
    "    left_color=None,\n",
    "    right_color=None,\n",
    "    horizontal_color=None,\n",
    "    vertical_color=None,\n",
    "):\n",
    "    attrs = {\n",
    "        \"BorderTypeTop\": top,\n",
    "        \"BorderTypeRight\": right,\n",
    "        \"BorderTypeLeft\": left,\n",
    "        \"BorderTypeBottom\": bottom,\n",
    "        \"TypeHorz\": horizontal,\n",
    "        \"TypeVert\": vertical,\n",
    "        \"BorderWidthTop\": get_value(thickness_dict, top_width),\n",
    "        \"BorderWidthRight\": get_value(thickness_dict, right_width),\n",
    "        \"BorderWidthLeft\": get_value(thickness_dict, left_width),\n",
    "        \"BorderWidthBottom\": get_value(thickness_dict, bottom_width),\n",
    "        \"WidthHorz\": get_value(thickness_dict, horizontal_width),\n",
    "        \"WidthVert\": get_value(thickness_dict, vertical_width),\n",
    "        \"BorderColorTop\": app.api.RGBColor(get_rgb_tuple(top_color))\n",
    "        if top_color\n",
    "        else None,\n",
    "        \"BorderColorRight\": app.api.RGBColor(get_rgb_tuple(right_color))\n",
    "        if right_color\n",
    "        else None,\n",
    "        \"BorderColorLeft\": app.api.RGBColor(get_rgb_tuple(left_color))\n",
    "        if left_color\n",
    "        else None,\n",
    "        \"BorderColorBottom\": app.api.RGBColor(get_rgb_tuple(bottom_color))\n",
    "        if bottom_color\n",
    "        else None,\n",
    "        \"ColorHorz\": app.api.RGBColor(get_rgb_tuple(horizontal_color))\n",
    "        if horizontal_color\n",
    "        else None,\n",
    "        \"ColorVert\": app.api.RGBColor(get_rgb_tuple(vertical_color))\n",
    "        if vertical_color\n",
    "        else None,\n",
    "    }\n",
    "\n",
    "    action = app.actions.CellFill()\n",
    "    p = action.pset\n",
    "\n",
    "    for key, value in attrs.items():\n",
    "        if value is None:\n",
    "            continue\n",
    "        setattr(p, key, value)\n",
    "\n",
    "    return action.run()"
   ]
  },
  {
   "cell_type": "code",
   "execution_count": 60,
   "id": "2f6e8da6-dbbd-4470-aa71-2ebff133eb0f",
   "metadata": {},
   "outputs": [],
   "source": [
    "#| export\n",
    "@patch\n",
    "def set_cell_color(\n",
    "    app: App, bg_color=None, hatch_color=\"#000000\", hatch_style=6, alpha=None\n",
    "):\n",
    "    fill_type = windows_brush = None\n",
    "    if bg_color:\n",
    "        fill_type = 1\n",
    "        windows_brush = 1\n",
    "\n",
    "    attrs = {\n",
    "        \"type\": fill_type,\n",
    "        \"WindowsBrush\": windows_brush,\n",
    "        \"WinBrushFaceColor\": app.api.RGBColor(*get_rgb_tuple(bg_color))\n",
    "        if bg_color\n",
    "        else None,\n",
    "        \"WinBrushAlpha\": alpha,\n",
    "        \"WinBrushHatchColor\": app.api.RGBColor(*get_rgb_tuple(hatch_color))\n",
    "        if hatch_color\n",
    "        else None,\n",
    "        \"WinBrushFaceStyle\": hatch_style,\n",
    "    }\n",
    "\n",
    "    action = app.actions.CellBorderFill()\n",
    "    p = action.pset\n",
    "\n",
    "    for key, value in attrs.items():\n",
    "        if value == None:\n",
    "            continue\n",
    "        setattr(p.FillAttr, key, value)\n",
    "\n",
    "    return action.run()"
   ]
  },
  {
   "cell_type": "code",
   "execution_count": 61,
   "id": "7def3bb7-2a3b-43db-a4c0-3e66d7141cd4",
   "metadata": {},
   "outputs": [],
   "source": [
    "app = App()"
   ]
  },
  {
   "cell_type": "code",
   "execution_count": 62,
   "id": "e6ed8380-0493-4c75-a6a3-fa24502432fd",
   "metadata": {},
   "outputs": [
    {
     "data": {
      "text/plain": [
       "True"
      ]
     },
     "execution_count": 62,
     "metadata": {},
     "output_type": "execute_result"
    }
   ],
   "source": [
    "app.set_charshape(CharShape(hangul_font=\"문화바탕\", font_type=2))"
   ]
  },
  {
   "cell_type": "code",
   "execution_count": 63,
   "id": "3ad86eba-52f6-4004-8bdb-a66877b0442d",
   "metadata": {},
   "outputs": [],
   "source": [
    "action = app.actions.CharShape()"
   ]
  },
  {
   "cell_type": "code",
   "execution_count": 64,
   "id": "60b367a1-7546-4bd9-8ee8-65a9834f2c99",
   "metadata": {},
   "outputs": [
    {
     "data": {
      "text/plain": [
       "<CharShape: hangul_font=문화바탕, latin_font=함초롬바탕, text_color=0, fontsize=10.0, bold=0, italic=0, super_script=0, sub_script=0, offset=0, spacing=0, ratio=100, shade_color=#ffffff, shadow_color=#c0c0c0, shadow_offset_x=10, shadow_offset_y=10, strike_out_type=0, strike_out_color=0, underline_type=0, underline_shape=0, underline_color=0, out_line_type=0>"
      ]
     },
     "execution_count": 64,
     "metadata": {},
     "output_type": "execute_result"
    }
   ],
   "source": [
    "app.get_charshape()"
   ]
  },
  {
   "cell_type": "code",
   "execution_count": 65,
   "id": "759ec53b-676e-4561-b580-c55eaaf8229f",
   "metadata": {},
   "outputs": [
    {
     "data": {
      "text/plain": [
       "10"
      ]
     },
     "execution_count": 65,
     "metadata": {},
     "output_type": "execute_result"
    }
   ],
   "source": [
    "app.api.HwpLineWidth(\"1.0mm\")"
   ]
  },
  {
   "cell_type": "code",
   "execution_count": 66,
   "id": "62e6eeaa-e4a7-4bef-9112-c548bc5eb310",
   "metadata": {},
   "outputs": [
    {
     "data": {
      "text/plain": [
       "False"
      ]
     },
     "execution_count": 66,
     "metadata": {},
     "output_type": "execute_result"
    }
   ],
   "source": [
    "app.set_cell_border(bottom=3)"
   ]
  },
  {
   "cell_type": "code",
   "execution_count": 117,
   "id": "cfd0e3e2-79b4-4b79-8fed-d35077a55892",
   "metadata": {},
   "outputs": [
    {
     "data": {
      "text/plain": [
       "True"
      ]
     },
     "execution_count": 117,
     "metadata": {},
     "output_type": "execute_result"
    }
   ],
   "source": [
    "app.set_cell_color(bg_color=\"#123456\")"
   ]
  },
  {
   "cell_type": "code",
   "execution_count": 69,
   "id": "c5c4347c",
   "metadata": {},
   "outputs": [],
   "source": [
    "# app.api.CurSelectedCtrl.CtrlID"
   ]
  },
  {
   "cell_type": "code",
   "execution_count": 70,
   "id": "ebcde522",
   "metadata": {},
   "outputs": [],
   "source": [
    "# 동작은 되나 너무 느리다. \n",
    "# 빠르게 할 수 있는 방법을 찾아보자. \n",
    "# 양식을 설정할 수 있는 방법을 생각해 보자.\n",
    "# 어떻게 해야 위아래로 값이 같은 셀을 병합할 수 있을지 생각해 보자.\n",
    "# block_input을 해야 그나마 쓸 수 있을 듯\n",
    "\n",
    "def insert_dataframe(app, df):\n",
    "    action = app.actions.TableCreate()\n",
    "    p = action.pset\n",
    "    p.WidthType = 1    # fit size\n",
    "    p.Rows = df.shape[0]+1  # add header\n",
    "    p.Cols = df.shape[1]\n",
    "    action.run()\n",
    "\n",
    "    for col in df.columns:\n",
    "        app.insert_text(col)\n",
    "        app.move(\"RightOfCell\")\n",
    "    for i, row in df.iterrows():\n",
    "        for item in row.values:\n",
    "            app.insert_text(item)\n",
    "            app.move(\"RightOfCell\")\n",
    "    return app.api.ParentCtrl"
   ]
  },
  {
   "cell_type": "code",
   "execution_count": 71,
   "id": "aa4b05de",
   "metadata": {},
   "outputs": [],
   "source": [
    "## 더 빠르고 안정적일 듯\n",
    "# 초단위로 걸려서 block_input을 해야 할 듯 \n",
    "# value 중에서 tab이 있으면 replace는 해야 할 듯\n",
    "\n",
    "def convert_to_text(value):\n",
    "    value = str(value).replace(\"\\t\", \"    \")\n",
    "    return value\n",
    "\n",
    "def insert_dataframe(app:App, df):\n",
    "    start_pos = app.api.GetPos()\n",
    "    text = \"\"\n",
    "    text += \"\\t\".join(map(convert_to_text, df.columns))\n",
    "    for i, row in df.iterrows():\n",
    "        text += \"\\r\\n\"\n",
    "        text += \"\\t\".join(map(convert_to_text, row.values))\n",
    "    app.insert_text(text)\n",
    "    end_pos = app.api.GetPos()\n",
    "\n",
    "    app.api.SelectText(start_pos[1], start_pos[2], end_pos[1], end_pos[2])\n",
    "\n",
    "    return app.actions.TableStringToTable().run()"
   ]
  },
  {
   "cell_type": "code",
   "execution_count": 72,
   "id": "bb24baa9",
   "metadata": {},
   "outputs": [],
   "source": [
    "def get_pagewidth(app:App):\n",
    "    action = app.actions.PageSetup()\n",
    "    p = action.pset.PageDef\n",
    "    return unit2mili(p.PaperWidth - (p.LeftMargin + p.RightMargin))"
   ]
  },
  {
   "cell_type": "code",
   "execution_count": 73,
   "id": "7f6fe34e",
   "metadata": {},
   "outputs": [],
   "source": [
    "import pandas as pd\n",
    "import numpy as np\n",
    "\n",
    "df = pd.DataFrame(np.random.random(100).reshape(10, 10))"
   ]
  },
  {
   "cell_type": "code",
   "execution_count": 92,
   "id": "29925f40",
   "metadata": {},
   "outputs": [
    {
     "data": {
      "text/plain": [
       "['Application',\n",
       " 'ArcType',\n",
       " 'AutoNumType',\n",
       " 'BorderShape',\n",
       " 'BreakWordLatin',\n",
       " 'BrushType',\n",
       " 'CLSID',\n",
       " 'Canonical',\n",
       " 'CellApply',\n",
       " 'CellShape',\n",
       " 'CharShadowType',\n",
       " 'CharShape',\n",
       " 'CheckXObject',\n",
       " 'Clear',\n",
       " 'ColDefType',\n",
       " 'ColLayoutType',\n",
       " 'ConvertPUAHangulToUnicode',\n",
       " 'CreateAction',\n",
       " 'CreateField',\n",
       " 'CreateID',\n",
       " 'CreateMode',\n",
       " 'CreatePageImage',\n",
       " 'CreateSet',\n",
       " 'CrookedSlash',\n",
       " 'CurFieldState',\n",
       " 'CurMetatagState',\n",
       " 'CurSelectedCtrl',\n",
       " 'DSMark',\n",
       " 'DbfCodeType',\n",
       " 'DeleteCtrl',\n",
       " 'Delimiter',\n",
       " 'DrawAspect',\n",
       " 'DrawFillImage',\n",
       " 'DrawShadowType',\n",
       " 'EditMode',\n",
       " 'Encrypt',\n",
       " 'EndSize',\n",
       " 'EndStyle',\n",
       " 'EngineProperties',\n",
       " 'ExportStyle',\n",
       " 'FieldExist',\n",
       " 'FileTranslate',\n",
       " 'FillAreaType',\n",
       " 'FindCtrl',\n",
       " 'FindDir',\n",
       " 'FindPrivateInfo',\n",
       " 'FontType',\n",
       " 'GetBinDataPath',\n",
       " 'GetCurFieldName',\n",
       " 'GetCurMetatagName',\n",
       " 'GetFieldList',\n",
       " 'GetFieldText',\n",
       " 'GetFileInfo',\n",
       " 'GetFontList',\n",
       " 'GetHeadingString',\n",
       " 'GetMessageBoxMode',\n",
       " 'GetMetatagList',\n",
       " 'GetMetatagNameText',\n",
       " 'GetMousePos',\n",
       " 'GetPageText',\n",
       " 'GetPos',\n",
       " 'GetPosBySet',\n",
       " 'GetScriptSource',\n",
       " 'GetSelectedPos',\n",
       " 'GetSelectedPosBySet',\n",
       " 'GetText',\n",
       " 'GetTextFile',\n",
       " 'GetTranslateLangList',\n",
       " 'GetUserInfo',\n",
       " 'Gradation',\n",
       " 'GridMethod',\n",
       " 'GridViewLine',\n",
       " 'GutterMethod',\n",
       " 'HAction',\n",
       " 'HAlign',\n",
       " 'HParameterSet',\n",
       " 'Handler',\n",
       " 'Hash',\n",
       " 'HatchStyle',\n",
       " 'HeadCtrl',\n",
       " 'HeadType',\n",
       " 'HeightRel',\n",
       " 'Hiding',\n",
       " 'HorzRel',\n",
       " 'HwpLineType',\n",
       " 'HwpLineWidth',\n",
       " 'HwpOutlineStyle',\n",
       " 'HwpOutlineType',\n",
       " 'HwpUnderlineShape',\n",
       " 'HwpUnderlineType',\n",
       " 'HwpZoomType',\n",
       " 'ImageFormat',\n",
       " 'ImportStyle',\n",
       " 'InitHParameterSet',\n",
       " 'InitScan',\n",
       " 'Insert',\n",
       " 'InsertBackgroundPicture',\n",
       " 'InsertCtrl',\n",
       " 'InsertPicture',\n",
       " 'IsActionEnable',\n",
       " 'IsCommandLock',\n",
       " 'IsEmpty',\n",
       " 'IsModified',\n",
       " 'IsPrivateInfoProtected',\n",
       " 'IsTrackChange',\n",
       " 'IsTrackChangePassword',\n",
       " 'KeyIndicator',\n",
       " 'LastCtrl',\n",
       " 'LineSpacingMethod',\n",
       " 'LineWrapType',\n",
       " 'LockCommand',\n",
       " 'LunarToSolar',\n",
       " 'LunarToSolarBySet',\n",
       " 'MacroState',\n",
       " 'MailType',\n",
       " 'MetatagExist',\n",
       " 'MiliToHwpUnit',\n",
       " 'ModifyFieldProperties',\n",
       " 'ModifyMetatagProperties',\n",
       " 'MovePos',\n",
       " 'MoveToField',\n",
       " 'MoveToMetatag',\n",
       " 'NumberFormat',\n",
       " 'Numbering',\n",
       " 'Open',\n",
       " 'PageCount',\n",
       " 'PageNumPosition',\n",
       " 'PageType',\n",
       " 'ParaHeadAlign',\n",
       " 'ParaShape',\n",
       " 'ParentCtrl',\n",
       " 'Path',\n",
       " 'PicEffect',\n",
       " 'PlacementType',\n",
       " 'PointToHwpUnit',\n",
       " 'PresentEffect',\n",
       " 'PrintDevice',\n",
       " 'PrintPaper',\n",
       " 'PrintRange',\n",
       " 'PrintType',\n",
       " 'ProtectPrivateInfo',\n",
       " 'PutFieldText',\n",
       " 'PutMetatagNameText',\n",
       " 'Quit',\n",
       " 'RGBColor',\n",
       " 'RegisterModule',\n",
       " 'RegisterPrivateInfoPattern',\n",
       " 'ReleaseAction',\n",
       " 'ReleaseScan',\n",
       " 'RenameField',\n",
       " 'RenameMetatag',\n",
       " 'ReplaceAction',\n",
       " 'ReplaceFont',\n",
       " 'Revision',\n",
       " 'Run',\n",
       " 'RunScriptMacro',\n",
       " 'Save',\n",
       " 'SaveAs',\n",
       " 'ScanFont',\n",
       " 'SelectText',\n",
       " 'SelectionMode',\n",
       " 'SetBarCodeImage',\n",
       " 'SetCurFieldName',\n",
       " 'SetCurMetatagName',\n",
       " 'SetDRMAuthority',\n",
       " 'SetFieldViewOption',\n",
       " 'SetMessageBoxMode',\n",
       " 'SetPos',\n",
       " 'SetPosBySet',\n",
       " 'SetPrivateInfoPassword',\n",
       " 'SetTextFile',\n",
       " 'SetTitleName',\n",
       " 'SetUserInfo',\n",
       " 'SideType',\n",
       " 'Signature',\n",
       " 'Slash',\n",
       " 'SolarToLunar',\n",
       " 'SolarToLunarBySet',\n",
       " 'SortDelimiter',\n",
       " 'StrikeOut',\n",
       " 'StyleType',\n",
       " 'SubtPos',\n",
       " 'TableBreak',\n",
       " 'TableFormat',\n",
       " 'TableSwapType',\n",
       " 'TableTarget',\n",
       " 'TextAlign',\n",
       " 'TextArtAlign',\n",
       " 'TextDir',\n",
       " 'TextFlowType',\n",
       " 'TextWrapType',\n",
       " 'UnSelectCtrl',\n",
       " 'VAlign',\n",
       " 'Version',\n",
       " 'VertRel',\n",
       " 'ViewFlag',\n",
       " 'ViewProperties',\n",
       " 'WatermarkBrush',\n",
       " 'WidthRel',\n",
       " 'XHwpDocuments',\n",
       " 'XHwpMessageBox',\n",
       " 'XHwpODBC',\n",
       " 'XHwpWindows',\n",
       " '_ApplyTypes_',\n",
       " '__class__',\n",
       " '__delattr__',\n",
       " '__dict__',\n",
       " '__dir__',\n",
       " '__doc__',\n",
       " '__eq__',\n",
       " '__format__',\n",
       " '__ge__',\n",
       " '__getattr__',\n",
       " '__getattribute__',\n",
       " '__gt__',\n",
       " '__hash__',\n",
       " '__init__',\n",
       " '__init_subclass__',\n",
       " '__iter__',\n",
       " '__le__',\n",
       " '__lt__',\n",
       " '__module__',\n",
       " '__ne__',\n",
       " '__new__',\n",
       " '__reduce__',\n",
       " '__reduce_ex__',\n",
       " '__repr__',\n",
       " '__setattr__',\n",
       " '__sizeof__',\n",
       " '__str__',\n",
       " '__subclasshook__',\n",
       " '__weakref__',\n",
       " '_get_good_object_',\n",
       " '_get_good_single_object_',\n",
       " '_oleobj_',\n",
       " '_prop_map_get_',\n",
       " '_prop_map_put_',\n",
       " 'coclass_clsid']"
      ]
     },
     "execution_count": 92,
     "metadata": {},
     "output_type": "execute_result"
    }
   ],
   "source": [
    "dir(app.api)"
   ]
  },
  {
   "cell_type": "markdown",
   "id": "69b39679",
   "metadata": {},
   "source": [
    "## \n",
    "\n",
    "cell을 순환하면서 모양을 잡을 수 있을 것으로 예상된다.\n",
    "6개 값을 받아서 정렬하면 되지 않을까 싶다.\n"
   ]
  },
  {
   "cell_type": "code",
   "execution_count": 113,
   "id": "4d25abb1",
   "metadata": {},
   "outputs": [],
   "source": [
    "insert_dataframe(app, df)\n",
    "app.api.FindCtrl()\n",
    "app.actions.ShapeObjTextBoxEdit().run()\n",
    "app.set_cell_border(False, False)\n",
    "for _ in range(10):\n",
    "    app.actions.TableCellBlockRow().run()\n",
    "    app.set_cell_color(bg_color=(253, 123, 253), hatch_style=6)\n",
    "    app.set_cell_border(False, False, False, False)\n",
    "\n",
    "    app.actions.TableCellBlock().run()\n",
    "    app.move(\"DownOfCell\")"
   ]
  },
  {
   "cell_type": "code",
   "execution_count": 103,
   "id": "9a4b8cbb",
   "metadata": {},
   "outputs": [
    {
     "data": {
      "text/plain": [
       "True"
      ]
     },
     "execution_count": 103,
     "metadata": {},
     "output_type": "execute_result"
    }
   ],
   "source": []
  },
  {
   "cell_type": "code",
   "execution_count": null,
   "id": "3b681793-6696-4926-9bcd-664efa3e8368",
   "metadata": {},
   "outputs": [],
   "source": [
    "#| hide\n",
    "import nbdev\n",
    "\n",
    "nbdev.nbdev_export()"
   ]
  }
 ],
 "metadata": {
  "kernelspec": {
   "display_name": "python3",
   "language": "python",
   "name": "python3"
  },
  "language_info": {
   "codemirror_mode": {
    "name": "ipython",
    "version": 3
   },
   "file_extension": ".py",
   "mimetype": "text/x-python",
   "name": "python",
   "nbconvert_exporter": "python",
   "pygments_lexer": "ipython3",
   "version": "3.10.1"
  }
 },
 "nbformat": 4,
 "nbformat_minor": 5
}
