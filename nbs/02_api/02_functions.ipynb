{
 "cells": [
  {
   "cell_type": "markdown",
   "id": "16a0d95a-c670-47b5-b4cc-0fc95afdde96",
   "metadata": {},
   "source": [
    "---\n",
    "description: action list\n",
    "output-file: fnctions.html\n",
    "title: functions\n",
    "\n",
    "---"
   ]
  },
  {
   "cell_type": "code",
   "execution_count": null,
   "id": "1441e8d7-6d44-4ac6-909d-5afd60eb41dc",
   "metadata": {},
   "outputs": [
    {
     "name": "stdout",
     "output_type": "stream",
     "text": [
      "The autoreload extension is already loaded. To reload it, use:\n",
      "  %reload_ext autoreload\n"
     ]
    }
   ],
   "source": [
    "%load_ext autoreload\n",
    "%autoreload 2"
   ]
  },
  {
   "cell_type": "code",
   "execution_count": null,
   "id": "18cbd539-7d2c-464b-9de1-7ad4ce07fa67",
   "metadata": {},
   "outputs": [],
   "source": [
    "#| default_exp functions"
   ]
  },
  {
   "cell_type": "code",
   "execution_count": null,
   "id": "2ad3361d-2420-4fb6-ab7b-bb73f322e64c",
   "metadata": {},
   "outputs": [],
   "source": [
    "#| export\n",
    "\n",
    "import os\n",
    "import shutil\n",
    "from pathlib import Path\n",
    "import winreg\n",
    "import importlib.resources"
   ]
  },
  {
   "cell_type": "code",
   "execution_count": null,
   "id": "eda59f13-c968-4c35-9449-07a187cfc746",
   "metadata": {},
   "outputs": [],
   "source": [
    "#| export\n",
    "\n",
    "def dispatch(app_name:str):\n",
    "    \"\"\"캐시가 충돌하는 문제를 해결하기 위해 실행합니다. 에러가 발생할 경우 기존 캐시를 삭제하고 다시 불러옵니다.\"\"\"\n",
    "    try:\n",
    "        from win32com import client\n",
    "        app = client.gencache.EnsureDispatch(app_name)\n",
    "    except AttributeError:\n",
    "        # Corner case dependencies.\n",
    "        import os\n",
    "        import re\n",
    "        import sys\n",
    "        import shutil\n",
    "        # Remove cache and try again.\n",
    "        MODULE_LIST = [m.__name__ for m in sys.modules.values()]\n",
    "        for module in MODULE_LIST:\n",
    "            if re.match(r'win32com\\.gen_py\\..+', module):\n",
    "                del sys.modules[module]\n",
    "        shutil.rmtree(os.path.join(os.environ.get('LOCALAPPDATA'), 'Temp', 'gen_py'))\n",
    "        from win32com import client\n",
    "        app = client.gencache.EnsureDispatch(app_name)\n",
    "    return app"
   ]
  },
  {
   "cell_type": "code",
   "execution_count": null,
   "id": "6f04ba42-85e9-4aed-a182-eb9a7b045b5f",
   "metadata": {},
   "outputs": [],
   "source": [
    "#| export\n",
    "\n",
    "def get_absolute_path(path):\n",
    "    \"\"\"파일 절대 경로를 반환합니다.\"\"\"\n",
    "    name = Path(path)\n",
    "    return name.absolute().as_posix()"
   ]
  },
  {
   "cell_type": "code",
   "execution_count": null,
   "id": "523811a2-7c18-4e4e-b7a1-92ab0eddb642",
   "metadata": {},
   "outputs": [],
   "source": [
    "#| export \n",
    "\n",
    "def get_dll_path(package_name, dll_filename):\n",
    "    \"\"\"패키지에서 dll 경로를 확보합니다.\"\"\"\n",
    "    try:\n",
    "        with importlib.resources.path(package_name, dll_filename) as dll_path:\n",
    "            return str(dll_path)\n",
    "    except FileNotFoundError as e:\n",
    "        raise FileNotFoundError(f\"The DLL file '{dll_filename}' was not found in the package '{package_name}'.\") from e\n"
   ]
  },
  {
   "cell_type": "code",
   "execution_count": null,
   "id": "86241da9-ff8a-4a59-8b62-8e1c3a6f6cea",
   "metadata": {},
   "outputs": [],
   "source": [
    "#| export\n",
    "\n",
    "def add_dll_to_registry(dll_path, key_path):\n",
    "    \"\"\"레지스트리에 dll을 등록합니다.\"\"\"\n",
    "    try:\n",
    "        # Connect to the registry and open the specified key\n",
    "        registry_key = winreg.OpenKey(winreg.HKEY_CURRENT_USER, key_path, 0, winreg.KEY_SET_VALUE)\n",
    "\n",
    "        # Set the value for the new registry entry as a string (REG_SZ)\n",
    "        winreg.SetValueEx(registry_key, \"FilePathCheckerModule\", 0, winreg.REG_SZ, dll_path)\n",
    "\n",
    "        # Close the registry key\n",
    "        winreg.CloseKey(registry_key)\n",
    "        print(\"DLL path added to registry as a string value successfully.\")\n",
    "    except WindowsError as e:\n",
    "        print(\"Error while adding DLL path to registry: \", e)\n",
    "        "
   ]
  },
  {
   "cell_type": "code",
   "execution_count": null,
   "id": "64f0f323-fefa-442c-a6f8-437c4b9252a0",
   "metadata": {},
   "outputs": [],
   "source": [
    "#| export \n",
    "\n",
    "def get_registry_value(key_path, value_name):\n",
    "    \"\"\"레지스트리에 값이 있는지 확인해 봅니다.\"\"\"\n",
    "    try:\n",
    "        with winreg.OpenKey(winreg.HKEY_CURRENT_USER, key_path) as key:\n",
    "            value, value_type = winreg.QueryValueEx(key, value_name)\n",
    "            return value\n",
    "    except FileNotFoundError:\n",
    "        return None"
   ]
  },
  {
   "cell_type": "code",
   "execution_count": null,
   "id": "1215c8e8-a891-4ade-8743-2520157c387c",
   "metadata": {},
   "outputs": [],
   "source": [
    "#| export\n",
    "\n",
    "def check_dll():\n",
    "    \"\"\"dll 모듈을 등록합니다.\"\"\"\n",
    "    dll_path = get_dll_path(\"hwpapi\", \"FilePathCheckerModuleExample.dll\")\n",
    "    key_path = \"SOFTWARE\\\\HNC\\\\HwpAutomation\\\\Modules\"\n",
    "    value_name = \"FilePathCheckerModule\" \n",
    "\n",
    "    value = get_registry_value(key_path, value_name)\n",
    "\n",
    "    if value is None:\n",
    "        add_dll_to_registry(dll_path, key_path)\n",
    "    return True\n"
   ]
  },
  {
   "cell_type": "code",
   "execution_count": null,
   "id": "75620557-aef7-4c2a-9196-d9588d3ac016",
   "metadata": {},
   "outputs": [],
   "source": [
    "#| export \n",
    "\n",
    "def get_value(dict_, key):\n",
    "    \"\"\"딕셔너리에서 키를 찾아 값을 반환합니다. 반환할 값이 없으면 키에러와 함께 가능한 키를 알려줍니다.\"\"\"\n",
    "    try:\n",
    "        return dict_[key]\n",
    "    except KeyError:\n",
    "        raise KeyError(f\"{key}를 해당하는 키 중 찾을 수 없습니다. 키는 {', '.join(dict_.keys())} 중에 있어야 합니다.\")"
   ]
  },
  {
   "cell_type": "code",
   "execution_count": null,
   "id": "e4c347ca-bc90-4cc1-b4ac-c1f36eb6546e",
   "metadata": {},
   "outputs": [],
   "source": [
    "#| export\n",
    "\n",
    "def set_charshape_pset(\n",
    "    charshape, \n",
    "    face_name:str=None, \n",
    "    font_type:int=None, \n",
    "    size:int=None,\n",
    "    ratio:int=None, \n",
    "    spacing:int=None, \n",
    "    offset:int=None,\n",
    "    bold:bool=None, \n",
    "    italic:bool=None, \n",
    "    small_caps:bool=None,\n",
    "    emboss:bool=None,\n",
    "    super_script:bool=None,\n",
    "    sub_script:bool=None,\n",
    "    underline_type:int=None,\n",
    "    outline_type:int=None,\n",
    "    text_color=None,\n",
    "    shade_color=None,\n",
    "    underline_shape:int=None,\n",
    "    underline_color=None,\n",
    "    shadow_offset_x:int=None,\n",
    "    shadow_offset_y:int=None,\n",
    "    shadow_color=None,\n",
    "    strike_out_type=None,\n",
    "    diac_sym_mark=None,\n",
    "    use_font_space=None,\n",
    "    use_kerning=None,\n",
    "    height:int=None,\n",
    "):\n",
    "    \"\"\"\n",
    "    CharShape값을 입력하기 위한 함수입니다.\n",
    "    `BorderFill`은 별도로 \"BorderFill\"타입을 사용하기 때문에 제외하였습니다. \n",
    "    \"\"\"\n",
    "    params = []\n",
    "    categories = [\"Hangul\", \"Latin\", \"Hanja\", \"Japanese\", \"Other\", \"Symbol\", \"User\"]\n",
    "    \n",
    "    params += [(\"FaceName\"+cat, face_name) for cat in categories] if face_name else []\n",
    "    params += [(\"FontType\"+cat, font_type) for cat in categories] if face_name else []\n",
    "    params += [(\"Size\"+cat, size) for cat in categories] if size else []\n",
    "    params += [(\"Ratio\"+cat, ratio) for cat in categories] if ratio else []\n",
    "    params += [(\"Spacing\"+cat, spacing) for cat in categories] if spacing else []\n",
    "    params += [(\"Offset\"+cat, offset) for cat in categories] if offset else []\n",
    "    \n",
    "    params += list(\n",
    "        filter(lambda x: x[1] is not None, \n",
    "            [\n",
    "                (\"Bold\", bold),\n",
    "                (\"Italic\", italic),\n",
    "                (\"SmallCaps\", small_caps),\n",
    "                (\"Emboss\", emboss),\n",
    "                (\"SuperScript\", super_script),\n",
    "                (\"SubScript\", sub_script),\n",
    "                (\"UnderlineType\", underline_type),\n",
    "                (\"OutlineType\", outline_type),\n",
    "                (\"TextColor\", text_color),\n",
    "                (\"ShadeColor\", shade_color),\n",
    "                (\"UnderlineShape\", underline_shape),\n",
    "                (\"UnderlineColor\", underline_color),\n",
    "                (\"ShadowOffsetX\", shadow_offset_x),\n",
    "                (\"ShadowOffsetY\", shadow_offset_y),\n",
    "                (\"ShadowColor\", shadow_color),\n",
    "                (\"StrikeOutType\", strike_out_type),\n",
    "                (\"DiacSymMark\", diac_sym_mark),\n",
    "                (\"UseFontSpace\", use_font_space),\n",
    "                (\"UseKerning\", use_kerning),\n",
    "                (\"Height\", height),\n",
    "            ]\n",
    "        )\n",
    "    ) \n",
    "    for key, value in params:\n",
    "            setattr(charshape, key, value)\n",
    "    \n",
    "    return charshape\n"
   ]
  },
  {
   "cell_type": "code",
   "execution_count": null,
   "id": "2bbd003f-52c6-4106-b942-b7dfe70d5d5c",
   "metadata": {},
   "outputs": [],
   "source": [
    "#| export\n",
    "\n",
    "def hex_to_rgb(hex_string):\n",
    "    # Remove the \"#\" symbol if it exists\n",
    "    if hex_string.startswith(\"#\"):\n",
    "        hex_string = hex_string[1:]\n",
    "\n",
    "    # Convert the hex string to decimal integers\n",
    "    red = int(hex_string[0:2], 16)\n",
    "    green = int(hex_string[2:4], 16)\n",
    "    blue = int(hex_string[4:], 16)\n",
    "\n",
    "    # Return the RGB tuple\n",
    "    return (red, green, blue)\n"
   ]
  },
  {
   "cell_type": "code",
   "execution_count": null,
   "id": "bc50f3b9-7424-4301-98a1-dc9e5a27674a",
   "metadata": {},
   "outputs": [],
   "source": [
    "#| hide\n",
    "import nbdev; nbdev.nbdev_export()"
   ]
  },
  {
   "cell_type": "code",
   "execution_count": null,
   "id": "64d846fc-ff67-482a-9e32-0ecb743898db",
   "metadata": {},
   "outputs": [],
   "source": []
  }
 ],
 "metadata": {
  "kernelspec": {
   "display_name": "python3",
   "language": "python",
   "name": "python3"
  }
 },
 "nbformat": 4,
 "nbformat_minor": 5
}
