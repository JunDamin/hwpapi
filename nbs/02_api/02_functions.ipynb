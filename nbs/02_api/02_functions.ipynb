{
 "cells": [
  {
   "attachments": {},
   "cell_type": "markdown",
   "id": "16a0d95a-c670-47b5-b4cc-0fc95afdde96",
   "metadata": {},
   "source": [
    "---\n",
    "description: action list\n",
    "output-file: functions.html\n",
    "title: functions\n",
    "\n",
    "---"
   ]
  },
  {
   "cell_type": "code",
   "execution_count": null,
   "id": "1441e8d7-6d44-4ac6-909d-5afd60eb41dc",
   "metadata": {},
   "outputs": [],
   "source": [
    "%load_ext autoreload\n",
    "%autoreload 2"
   ]
  },
  {
   "cell_type": "code",
   "execution_count": null,
   "id": "18cbd539-7d2c-464b-9de1-7ad4ce07fa67",
   "metadata": {},
   "outputs": [],
   "source": [
    "#| default_exp functions"
   ]
  },
  {
   "cell_type": "code",
   "execution_count": null,
   "id": "2ad3361d-2420-4fb6-ab7b-bb73f322e64c",
   "metadata": {},
   "outputs": [],
   "source": [
    "#| export\n",
    "\n",
    "import importlib.resources\n",
    "import os\n",
    "import shutil\n",
    "import winreg\n",
    "from pathlib import Path\n",
    "import re\n",
    "from hwpapi.constants import char_fields, para_fields"
   ]
  },
  {
   "cell_type": "code",
   "execution_count": null,
   "id": "59da99a1-f3de-4c23-80f8-f04830ab36b6",
   "metadata": {},
   "outputs": [],
   "source": [
    "#| export\n",
    "\n",
    "def get_font_name(text):\n",
    "    m = re.search(\"(^.+?)\\s[A-Z0-9]+\\.HFT\", text)\n",
    "    return m.group(1) if m else None"
   ]
  },
  {
   "cell_type": "code",
   "execution_count": null,
   "id": "eda59f13-c968-4c35-9449-07a187cfc746",
   "metadata": {},
   "outputs": [],
   "source": [
    "#| export\n",
    "\n",
    "\n",
    "def dispatch(app_name: str):\n",
    "    \"\"\"캐시가 충돌하는 문제를 해결하기 위해 실행합니다. 에러가 발생할 경우 기존 캐시를 삭제하고 다시 불러옵니다.\"\"\"\n",
    "    try:\n",
    "        from win32com import client\n",
    "\n",
    "        app = client.gencache.EnsureDispatch(app_name)\n",
    "    except AttributeError:\n",
    "        # Corner case dependencies.\n",
    "        import os\n",
    "        import re\n",
    "        import shutil\n",
    "        import sys\n",
    "\n",
    "        # Remove cache and try again.\n",
    "        MODULE_LIST = [m.__name__ for m in sys.modules.values()]\n",
    "        for module in MODULE_LIST:\n",
    "            if re.match(r\"win32com\\.gen_py\\..+\", module):\n",
    "                del sys.modules[module]\n",
    "        shutil.rmtree(os.path.join(os.environ.get(\"LOCALAPPDATA\"), \"Temp\", \"gen_py\"))\n",
    "        from win32com import client\n",
    "\n",
    "        app = client.gencache.EnsureDispatch(app_name)\n",
    "    return app"
   ]
  },
  {
   "cell_type": "code",
   "execution_count": null,
   "id": "6f04ba42-85e9-4aed-a182-eb9a7b045b5f",
   "metadata": {},
   "outputs": [],
   "source": [
    "#| export\n",
    "\n",
    "\n",
    "def get_absolute_path(path):\n",
    "    \"\"\"파일 절대 경로를 반환합니다.\"\"\"\n",
    "    name = Path(path)\n",
    "    return name.absolute().as_posix()"
   ]
  },
  {
   "cell_type": "code",
   "execution_count": null,
   "id": "523811a2-7c18-4e4e-b7a1-92ab0eddb642",
   "metadata": {},
   "outputs": [],
   "source": [
    "#| export\n",
    "\n",
    "\n",
    "def get_dll_path(package_name, dll_filename):\n",
    "    \"\"\"패키지에서 dll 경로를 확보합니다.\"\"\"\n",
    "    try:\n",
    "        with importlib.resources.path(package_name, dll_filename) as dll_path:\n",
    "            return str(dll_path)\n",
    "    except FileNotFoundError as e:\n",
    "        raise FileNotFoundError(\n",
    "            f\"The DLL file '{dll_filename}' was not found in the package '{package_name}'.\"\n",
    "        ) from e"
   ]
  },
  {
   "cell_type": "code",
   "execution_count": null,
   "id": "86241da9-ff8a-4a59-8b62-8e1c3a6f6cea",
   "metadata": {},
   "outputs": [],
   "source": [
    "#| export\n",
    "\n",
    "\n",
    "def add_dll_to_registry(dll_path, key_path):\n",
    "    \"\"\"레지스트리에 dll을 등록합니다.\"\"\"\n",
    "    try:\n",
    "        # Connect to the registry and open the specified key\n",
    "        registry_key = winreg.OpenKey(\n",
    "            winreg.HKEY_CURRENT_USER, key_path, 0, winreg.KEY_SET_VALUE\n",
    "        )\n",
    "\n",
    "        # Set the value for the new registry entry as a string (REG_SZ)\n",
    "        winreg.SetValueEx(\n",
    "            registry_key, \"FilePathCheckerModule\", 0, winreg.REG_SZ, dll_path\n",
    "        )\n",
    "\n",
    "        # Close the registry key\n",
    "        winreg.CloseKey(registry_key)\n",
    "        print(\"DLL path added to registry as a string value successfully.\")\n",
    "    except WindowsError as e:\n",
    "        print(\"Error while adding DLL path to registry: \", e)"
   ]
  },
  {
   "cell_type": "code",
   "execution_count": null,
   "id": "64f0f323-fefa-442c-a6f8-437c4b9252a0",
   "metadata": {},
   "outputs": [],
   "source": [
    "#| export\n",
    "\n",
    "\n",
    "def get_registry_value(key_path, value_name):\n",
    "    \"\"\"레지스트리에 값이 있는지 확인해 봅니다.\"\"\"\n",
    "    try:\n",
    "        with winreg.OpenKey(winreg.HKEY_CURRENT_USER, key_path) as key:\n",
    "            value, value_type = winreg.QueryValueEx(key, value_name)\n",
    "            return value\n",
    "    except FileNotFoundError:\n",
    "        return None"
   ]
  },
  {
   "cell_type": "code",
   "execution_count": null,
   "id": "1215c8e8-a891-4ade-8743-2520157c387c",
   "metadata": {},
   "outputs": [],
   "source": [
    "#| export\n",
    "\n",
    "\n",
    "def check_dll():\n",
    "    \"\"\"dll 모듈을 등록합니다.\"\"\"\n",
    "    dll_path = get_dll_path(\"hwpapi\", \"FilePathCheckerModuleExample.dll\")\n",
    "    key_path = \"SOFTWARE\\\\HNC\\\\HwpAutomation\\\\Modules\"\n",
    "    value_name = \"FilePathCheckerModule\"\n",
    "\n",
    "    value = get_registry_value(key_path, value_name)\n",
    "\n",
    "    if value is None:\n",
    "        add_dll_to_registry(dll_path, key_path)\n",
    "    return True"
   ]
  },
  {
   "cell_type": "code",
   "execution_count": null,
   "id": "75620557-aef7-4c2a-9196-d9588d3ac016",
   "metadata": {},
   "outputs": [],
   "source": [
    "#| export\n",
    "def get_value(dict_, key):\n",
    "    \"\"\"딕셔너리에서 키를 찾아 값을 반환합니다. 반환할 값이 없으면 키에러와 함께 가능한 키를 알려줍니다.\"\"\"\n",
    "    if key is None:\n",
    "        return None\n",
    "    try:\n",
    "        return dict_[key]\n",
    "    except KeyError:\n",
    "        raise KeyError(\n",
    "            f\"{key}를 해당하는 키 중 찾을 수 없습니다. 키는 {', '.join(dict_.keys())} 중에 있어야 합니다.\"\n",
    "        )"
   ]
  },
  {
   "cell_type": "code",
   "execution_count": null,
   "id": "7f84ed1e-2b32-4e18-9886-5dcaab8ef2b3",
   "metadata": {},
   "outputs": [],
   "source": [
    "#| export\n",
    "def get_key(dict_, value):\n",
    "    \"\"\"딕셔너리에서 값를 찾아 키를 반환합니다. 반환할 값이 없으면 키에러와 함께 가능한 키를 알려줍니다.\"\"\"\n",
    "    if value is None:\n",
    "        return None\n",
    "    try:\n",
    "        return dict([(v, k) for k, v in dict_.items()])[value]\n",
    "    except KeyError:\n",
    "        raise KeyError(\n",
    "            f\"{value}를 해당하는 키 중 찾을 수 없습니다. 키는 {', '.join(dict_.values())} 중에 있어야 합니다.\"\n",
    "        )"
   ]
  },
  {
   "cell_type": "code",
   "execution_count": null,
   "id": "3196074d-d81d-4bad-a73d-f6765bedfaec",
   "metadata": {},
   "outputs": [],
   "source": [
    "#| export \n",
    "\n",
    "def convert2int(_dict, value):\n",
    "    if value is None:\n",
    "        return value\n",
    "    if isinstance(value, str):\n",
    "        return get_value(_dict, value)\n",
    "    if isinstance(value, int):\n",
    "        return value\n",
    "    if isinstance(value, float):\n",
    "        return int(value)"
   ]
  },
  {
   "cell_type": "code",
   "execution_count": null,
   "id": "094e8ea5-6fbf-4266-8875-7b66bb7535d0",
   "metadata": {},
   "outputs": [],
   "source": [
    "#| export \n",
    "\n",
    "def set_pset(p, value_dict:dict):\n",
    "    for field in dir(p):\n",
    "        value = value_dict.get(field, None)\n",
    "        if value is None:\n",
    "            continue\n",
    "        setattr(p, field, value)\n",
    "\n",
    "    return p"
   ]
  },
  {
   "cell_type": "code",
   "execution_count": null,
   "id": "64dbbb52-4b23-4d17-b231-0beff1f1a37b",
   "metadata": {},
   "outputs": [],
   "source": [
    "#| export\n",
    "\n",
    "def get_charshape_pset(p):\n",
    "    return {field: getattr(p, field) for field in char_fields}"
   ]
  },
  {
   "cell_type": "code",
   "execution_count": null,
   "id": "e4c347ca-bc90-4cc1-b4ac-c1f36eb6546e",
   "metadata": {},
   "outputs": [],
   "source": [
    "#| export\n",
    "\n",
    "def set_charshape_pset(\n",
    "    charshape_pset, value_dict:dict\n",
    "):\n",
    "    \"\"\"\n",
    "    CharShape값을 입력하기 위한 함수입니다.\n",
    "    char_fields에 정의된 키 값을 기반으로 파라미터를 세팅합니다.\n",
    "    \"\"\"\n",
    "    \n",
    "    for field in char_fields:\n",
    "        value = value_dict.get(field, None)\n",
    "        if not value:\n",
    "            continue\n",
    "        setattr(charshape_pset, field, value)\n",
    "\n",
    "    return charshape_pset"
   ]
  },
  {
   "cell_type": "code",
   "execution_count": null,
   "id": "a1c9b3f5-2f5f-4e73-98eb-df28d3ed5d1e",
   "metadata": {},
   "outputs": [],
   "source": [
    "#| export\n",
    "def get_parashape_pset(p):\n",
    "\n",
    "    return {field: getattr(p, field) for field in para_fields}"
   ]
  },
  {
   "cell_type": "code",
   "execution_count": null,
   "id": "6cfb628b-0c02-48cb-b245-b4782ad532c1",
   "metadata": {},
   "outputs": [],
   "source": [
    "#| export\n",
    "def set_parashape_pset(\n",
    "    parashape_pset, value_dict:dict,\n",
    "):\n",
    " \n",
    "    for field in para_fields:\n",
    "        value = value_dict.get(field, None)\n",
    "        if not value:\n",
    "            continue\n",
    "        setattr(parashape_pset, field, value)\n",
    "\n",
    "    \n",
    "    return parashape_pset"
   ]
  },
  {
   "cell_type": "code",
   "execution_count": null,
   "id": "2bbd003f-52c6-4106-b942-b7dfe70d5d5c",
   "metadata": {},
   "outputs": [],
   "source": [
    "#| export\n",
    "\n",
    "\n",
    "def hex_to_rgb(hex_string):\n",
    "    # Remove the \"#\" symbol if it exists\n",
    "    if hex_string.startswith(\"#\"):\n",
    "        hex_string = hex_string[1:]\n",
    "\n",
    "    # Convert the hex string to decimal integers\n",
    "    red = int(hex_string[0:2], 16)\n",
    "    green = int(hex_string[2:4], 16)\n",
    "    blue = int(hex_string[4:], 16)\n",
    "\n",
    "    # Return the RGB tuple\n",
    "    return (red, green, blue)\n",
    "\n",
    "\n",
    "def get_rgb_tuple(color):\n",
    "    # check if the input is already a tuple\n",
    "    if isinstance(color, tuple):\n",
    "        # validate each color\n",
    "        if len(color) > 3:\n",
    "            raise ValueError(\n",
    "                f\"colors should contains three compoents which represents RGB\"\n",
    "            )\n",
    "\n",
    "        for component in color:\n",
    "            if component > 255:\n",
    "                raise ValueError(\n",
    "                    f\"number should be smaller than 255. the value is {color}\"\n",
    "                )\n",
    "        return color\n",
    "\n",
    "    # if the input is a string, split it into a list of colors\n",
    "    elif isinstance(color, str):\n",
    "        colors = {\n",
    "            \"red\": (255, 0, 0),\n",
    "            \"green\": (0, 255, 0),\n",
    "            \"blue\": (0, 0, 255),\n",
    "            \"black\": (0, 0, 0),\n",
    "            \"white\": (255, 255, 255),\n",
    "        }\n",
    "\n",
    "        if color in colors.keys():\n",
    "            return colors.get(color)\n",
    "\n",
    "        # validate each color\n",
    "        if not (\n",
    "            color.startswith(\"#\")\n",
    "            and len(color) == 7\n",
    "            and all(c in \"0123456789abcdefABCDEF\" for c in color[1:])\n",
    "        ):\n",
    "            raise ValueError(f\"'{color}' is not a valid hexadecimal color.\")\n",
    "\n",
    "        # convert the list to a tuple and return it\n",
    "        return hex_to_rgb(color)\n",
    "\n",
    "    else:\n",
    "        raise TypeError(\"Input must be a string or a tuple of colors.\")"
   ]
  },
  {
   "cell_type": "code",
   "execution_count": null,
   "id": "ea3a8ee2-924a-4eef-b46b-cf7442408701",
   "metadata": {},
   "outputs": [],
   "source": [
    "#| export \n",
    "def convert_to_hwp_color(color):\n",
    "    \n",
    "    if isinstance(color, int):\n",
    "        return color \n",
    "    \n",
    "    if isinstance(color, str):  # if the color is a string, we assume it's a hex string\n",
    "        #hwp use bgr order\n",
    "        colors = {\n",
    "            \"red\": \"0000FF\",\n",
    "            \"green\": \"00FF00\",\n",
    "            \"blue\": \"FF0000\",\n",
    "            \"black\": \"000000\",\n",
    "            \"white\": \"FFFFFF\",\n",
    "        }\n",
    "            \n",
    "        if color in colors.keys():\n",
    "            return int(colors.get(color), 16)\n",
    "        \n",
    "        # handle hex\n",
    "        m = re.search(\"^#?([0-9A-Fa-f]{6})$\", color)\n",
    "        if m:\n",
    "            color = m.group(1)\n",
    "            return int(f\"{color[4:6]}{color[2:4]}{color[0:2]}\", 16)\n",
    "        \n",
    "    elif type(color) == tuple and len(color) == 3:  # if the color is a tuple, we assume it's an (R,G,B) tuple\n",
    "        return color[2]*65536 + color[1]*256 + color[0]\n",
    "    else:\n",
    "        raise ValueError(f\"Unsupported color format: {color}\")"
   ]
  },
  {
   "cell_type": "code",
   "execution_count": null,
   "id": "258d3a35-8ad7-41c0-95a7-764d1ba2451f",
   "metadata": {},
   "outputs": [],
   "source": [
    "#| export\n",
    "def convert_hwp_color_to_hex(color:int):\n",
    "    if not color:\n",
    "        return color\n",
    "    text = f\"{color:06x}\"\n",
    "    return f\"#{text[4:6]}{text[2:4]}{text[:2]}\"\n"
   ]
  },
  {
   "cell_type": "code",
   "execution_count": null,
   "id": "d7ab3cde-91e3-4973-b7b9-be6fed3e8cb0",
   "metadata": {},
   "outputs": [
    {
     "name": "stdout",
     "output_type": "stream",
     "text": [
      "16776960\n",
      "16776960\n"
     ]
    }
   ],
   "source": [
    "print(convert_to_hwp_color(\"00FFFF\"))  # Outputs: 65535\n",
    "print(convert_to_hwp_color((0, 255, 255)))  # Outputs: 65535"
   ]
  },
  {
   "cell_type": "code",
   "execution_count": null,
   "id": "3b69ad8c-2b3e-44dc-9c58-45dafb2fd102",
   "metadata": {},
   "outputs": [],
   "source": [
    "#| export \n",
    "\n",
    "def mili2unit(value):\n",
    "    \"\"\"\n",
    "    1 밀리는 283 hwpunit 입니다.\n",
    "    \"\"\"\n",
    "    return int(round(value*283, 0)) if value else value"
   ]
  },
  {
   "cell_type": "code",
   "execution_count": null,
   "id": "87b0a065-7cf7-4e30-a3fc-151af973c5e7",
   "metadata": {},
   "outputs": [],
   "source": [
    "#| export \n",
    "\n",
    "def unit2mili(value):\n",
    "    return value/283 if value else value"
   ]
  },
  {
   "cell_type": "code",
   "execution_count": null,
   "id": "2f3841ea-487a-4e27-a473-57bdf4928591",
   "metadata": {},
   "outputs": [],
   "source": [
    "#| export \n",
    "def point2unit(value):\n",
    "    \"\"\"\n",
    "    1point는 100 hwpunit입니다.\n",
    "    \"\"\"\n",
    "    return int(round(value*100, 0)) if value else value"
   ]
  },
  {
   "cell_type": "code",
   "execution_count": null,
   "id": "c5dfe4ac-8ba8-4fa9-b04d-c8f4a891f256",
   "metadata": {},
   "outputs": [],
   "source": [
    "#| export\n",
    "\n",
    "def unit2point(value):\n",
    "    return value / 100 if value else value"
   ]
  },
  {
   "cell_type": "code",
   "execution_count": null,
   "id": "6d615fed",
   "metadata": {},
   "outputs": [],
   "source": [
    "#| export \n",
    "\n",
    "def block_input(func):\n",
    "    \"\"\"\n",
    "    함수가 실행될 동안 다른 입력을 할 수 없게 하는 기능을 가진 데코레이터입니다. \n",
    "    \"\"\"\n",
    "    def wrapper(app, *args, **kwargs):\n",
    "        app.api.EditMode = 0\n",
    "        result = func(app, *args, **kwargs)\n",
    "        app.api.EditMode = 1\n",
    "        return result\n",
    "    return wrapper\n"
   ]
  },
  {
   "cell_type": "code",
   "execution_count": 1,
   "id": "bc50f3b9-7424-4301-98a1-dc9e5a27674a",
   "metadata": {},
   "outputs": [],
   "source": [
    "#| hide\n",
    "import nbdev\n",
    "\n",
    "nbdev.nbdev_export()"
   ]
  },
  {
   "cell_type": "code",
   "execution_count": null,
   "id": "6eac8b86",
   "metadata": {},
   "outputs": [],
   "source": []
  }
 ],
 "metadata": {
  "kernelspec": {
   "display_name": "python3",
   "language": "python",
   "name": "python3"
  },
  "language_info": {
   "codemirror_mode": {
    "name": "ipython",
    "version": 3
   },
   "file_extension": ".py",
   "mimetype": "text/x-python",
   "name": "python",
   "nbconvert_exporter": "python",
   "pygments_lexer": "ipython3",
   "version": "3.10.1"
  }
 },
 "nbformat": 4,
 "nbformat_minor": 5
}
