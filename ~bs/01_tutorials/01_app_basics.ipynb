{
 "cells": [
  {
   "cell_type": "markdown",
   "id": "1b19722e-b225-4464-919f-7d69e8aecb3d",
   "metadata": {},
   "source": [
    "---\n",
    "description: 사용 기초\n",
    "output-file: tutorial.html\n",
    "title: tutorial\n",
    "\n",
    "---\n",
    "\n"
   ]
  },
  {
   "cell_type": "code",
   "execution_count": null,
   "id": "5dfe2ff7-0f7b-4fae-8a1c-9a09a85cd389",
   "metadata": {},
   "outputs": [],
   "source": [
    "%load_ext autoreload\n",
    "%autoreload 2"
   ]
  },
  {
   "cell_type": "markdown",
   "id": "85e1facc-2f64-4da1-8351-ba21d5298dda",
   "metadata": {},
   "source": [
    "기본적으로 한글에서 사용자의 입력을 따라합니다.\n",
    "\n",
    "그것을 반복합니다."
   ]
  },
  {
   "cell_type": "code",
   "execution_count": null,
   "id": "cccb95a9-5588-40fa-ade4-bb0357b5e2ea",
   "metadata": {},
   "outputs": [],
   "source": [
    "from hwpapi.core import App"
   ]
  },
  {
   "cell_type": "markdown",
   "id": "fe377bfb-a6cf-41fc-bc37-35f76dfe2600",
   "metadata": {},
   "source": [
    "`App`은 기존 hwpapi를 wrapping 하여 보다 사용하기 쉽게 만드는 것을 목적으로 하고 있는 클래스 입니다.\n",
    "\n",
    "`hwpapi`는 한글 컨트롤을 조합해서 자주사용했던 기능을 구현하였습니다.\n",
    "또한, api 메소드를 통해 win32com의 방식으로 모두 사용할 수 있어 다양하게 사용할 수 있습니다.\n",
    "\n",
    "아래와 같이 App 객체를 생성하면 한글이 열립니다."
   ]
  },
  {
   "cell_type": "code",
   "execution_count": null,
   "id": "e8f1fd20-f6e4-48ec-8cba-e4c7fcbd7109",
   "metadata": {},
   "outputs": [],
   "source": [
    "app = App()"
   ]
  },
  {
   "cell_type": "markdown",
   "id": "0f9a7312-f991-4e4e-8e44-c0ebcd263863",
   "metadata": {},
   "source": [
    "한글을 조작할 때는 크게 `action`과 `hwpctrl method`로 나눌 수 있습니다.\n",
    "`action`은 파라미터를 설정하고 그것을 실행시켜서 작동하는 방식으로 사용자 단축키를 누르면 실행되는 명령에 가깝다면\n",
    "`hwpctrl method`는 한글 자동화 모듈이 제공하는 것으로 사용자 입력에서는 신경쓰지 않아도 될 부분들을 처리하는 것이라고 보시면 됩니다.\n",
    "\n",
    "[공식 개발 매뉴얼](https://www.hancom.com/board/devmanualList.do)에 여러 `action`과 `parameter`, `method`의 설명을 제공하고 있습니다.\n",
    "아쉽게도 문서가 잘 관리되고 있지는 않으며, `hwpctrl`의 `method`들을 보면 명시되어 있지 않은 기능들이 개발되어 있음을 알 수 있습니다. \n",
    "\n",
    "앞으로 개발해 나가면서 확인된 액션과 메소드 들을 정리해 나가고자 합니다."
   ]
  },
  {
   "cell_type": "markdown",
   "id": "a1807076-daf6-4a69-9a44-b2544f6dfa53",
   "metadata": {},
   "source": [
    "`action`은 `app`에서 생성할 수 있습니다.\n",
    "방식은 크게 2가지로 직접 `action key`를 입력하는 방법과 `actions`에 있는 `action` 객체를 생성하는 방법이 있습니다.\n",
    "아래 두 방식은 동일한 `Action` 객체를 생성합니다."
   ]
  },
  {
   "cell_type": "code",
   "execution_count": null,
   "id": "3baa1486-30bd-403e-b6c1-e273f18af05e",
   "metadata": {},
   "outputs": [
    {
     "data": {
      "text/plain": [
       "<Action InsertText: 텍스트 삽입>"
      ]
     },
     "execution_count": null,
     "metadata": {},
     "output_type": "execute_result"
    }
   ],
   "source": [
    "action1 = app.create_action(\"InsertText\")\n",
    "action1"
   ]
  },
  {
   "cell_type": "code",
   "execution_count": null,
   "id": "0163beab-1a00-4503-bb20-59230682fcec",
   "metadata": {},
   "outputs": [
    {
     "data": {
      "text/plain": [
       "<Action InsertText: 텍스트 삽입>"
      ]
     },
     "execution_count": null,
     "metadata": {},
     "output_type": "execute_result"
    }
   ],
   "source": [
    "action2 = app.actions.InsertText()\n",
    "action2"
   ]
  },
  {
   "cell_type": "markdown",
   "id": "1687251c-d10e-48ee-b26f-679b71b8f7b0",
   "metadata": {},
   "source": [
    "`Delete`(지우기), `BreakPara`(줄바꿈) 등 많은 `action`은 파라미터 세팅이 필요 없습니다.\n",
    "하지만 위에서 생성한 `InsertText`객체는 입력할 텍스트 값을 넣어주어야 합니다.\n",
    "이는 `parameter`를 통해 설정할 수 있습니다."
   ]
  },
  {
   "cell_type": "code",
   "execution_count": null,
   "id": "803629f4-a4c1-4a8b-b7e0-622619749568",
   "metadata": {},
   "outputs": [],
   "source": [
    "action1.pset.Text = \"입력하기\""
   ]
  },
  {
   "cell_type": "markdown",
   "id": "d26d8406-c324-43c3-a0e6-cc5e3c1f019d",
   "metadata": {},
   "source": [
    "파라미터를 설정한 후 다음과 같이 액션을 실행하면 텍스트가 입력되는 걸 볼 수 있습니다."
   ]
  },
  {
   "cell_type": "code",
   "execution_count": null,
   "id": "3b7aa7f1-009f-4b23-a61a-dd153db363e0",
   "metadata": {},
   "outputs": [
    {
     "data": {
      "text/plain": [
       "True"
      ]
     },
     "execution_count": null,
     "metadata": {},
     "output_type": "execute_result"
    }
   ],
   "source": [
    "action1.run()"
   ]
  },
  {
   "cell_type": "code",
   "execution_count": null,
   "id": "4d244dc4-01c9-4faf-9381-7f35fbe467c7",
   "metadata": {},
   "outputs": [],
   "source": [
    "charshape = app.actions.CharShape()"
   ]
  },
  {
   "cell_type": "code",
   "execution_count": null,
   "id": "c0f619b6-2fe0-4217-b1e5-5c1e029f4726",
   "metadata": {},
   "outputs": [],
   "source": [
    "charshape.pset.Height = app.api.PointToHwpUnit(20)"
   ]
  },
  {
   "cell_type": "code",
   "execution_count": null,
   "id": "78d0cd48-2a41-480e-b284-21db07b86343",
   "metadata": {},
   "outputs": [
    {
     "data": {
      "text/plain": [
       "True"
      ]
     },
     "execution_count": null,
     "metadata": {},
     "output_type": "execute_result"
    }
   ],
   "source": [
    "charshape.run()"
   ]
  },
  {
   "cell_type": "code",
   "execution_count": null,
   "id": "7f637594-0af7-4065-9d8e-0b84e67bd356",
   "metadata": {},
   "outputs": [
    {
     "data": {
      "text/plain": [
       "True"
      ]
     },
     "execution_count": null,
     "metadata": {},
     "output_type": "execute_result"
    }
   ],
   "source": [
    "action2.pset.Text = \"크게 입력하기\"\n",
    "action2.run()"
   ]
  },
  {
   "cell_type": "code",
   "execution_count": null,
   "id": "f92c711e-922f-4641-a498-f95a980d0f17",
   "metadata": {},
   "outputs": [],
   "source": []
  }
 ],
 "metadata": {
  "kernelspec": {
   "display_name": "python3",
   "language": "python",
   "name": "python3"
  }
 },
 "nbformat": 4,
 "nbformat_minor": 5
}
