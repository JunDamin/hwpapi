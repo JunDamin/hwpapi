{
 "cells": [
  {
   "cell_type": "code",
   "execution_count": null,
   "id": "99661726-65da-45ac-b8bb-7e985e9045b9",
   "metadata": {},
   "outputs": [],
   "source": [
    "from HwpApi.methods import App"
   ]
  },
  {
   "cell_type": "code",
   "execution_count": null,
   "id": "209e53d7-9ea7-4ba0-ab1f-9628b1e6d25c",
   "metadata": {},
   "outputs": [
    {
     "data": {
      "text/plain": [
       "['__class__',\n",
       " '__delattr__',\n",
       " '__dict__',\n",
       " '__dir__',\n",
       " '__doc__',\n",
       " '__eq__',\n",
       " '__format__',\n",
       " '__ge__',\n",
       " '__getattribute__',\n",
       " '__gt__',\n",
       " '__hash__',\n",
       " '__init__',\n",
       " '__init_subclass__',\n",
       " '__le__',\n",
       " '__lt__',\n",
       " '__module__',\n",
       " '__ne__',\n",
       " '__new__',\n",
       " '__reduce__',\n",
       " '__reduce_ex__',\n",
       " '__repr__',\n",
       " '__setattr__',\n",
       " '__sizeof__',\n",
       " '__str__',\n",
       " '__subclasshook__',\n",
       " '__weakref__',\n",
       " 'actions',\n",
       " 'api',\n",
       " 'close',\n",
       " 'create_action',\n",
       " 'create_parameterset',\n",
       " 'get_filepath',\n",
       " 'insert_text',\n",
       " 'open',\n",
       " 'quit',\n",
       " 'save',\n",
       " 'set_visible']"
      ]
     },
     "execution_count": null,
     "metadata": {},
     "output_type": "execute_result"
    }
   ],
   "source": [
    "app = App()\n",
    "dir(app)"
   ]
  },
  {
   "cell_type": "code",
   "execution_count": null,
   "id": "67638c43-3360-47c7-9889-7eb572338159",
   "metadata": {},
   "outputs": [],
   "source": [
    "from HwpApi.core import App"
   ]
  },
  {
   "cell_type": "code",
   "execution_count": null,
   "id": "07c65138-1bd2-4adf-807c-c3058348aa2b",
   "metadata": {},
   "outputs": [],
   "source": [
    "app = App()"
   ]
  },
  {
   "cell_type": "code",
   "execution_count": null,
   "id": "8d00480f-8ec5-4aa9-91b5-9af69c1e43dd",
   "metadata": {},
   "outputs": [],
   "source": [
    "def replace_text(app, old, new, replace_color=app.api.RGBColor(255, 0, 0)):\n",
    "    action = app.actions.AllReplace()\n",
    "    p = action.pset\n",
    "    p.MatchCase = 0\n",
    "    p.AllWordForms = 0\n",
    "    p.SeveralWords = 0\n",
    "    p.UseWildCards = 0\n",
    "    p.WholeWordOnly = 0\n",
    "    p.AutoSpell = 1\n",
    "    p.Direction = 0\n",
    "    p.IgnoreFindString = 0\n",
    "    p.IgnoreReplaceString = 0\n",
    "    p.FindString = old\n",
    "    p.ReplaceString = new \n",
    "    p.ReplaceCharShape.TextColor = replace_color\n",
    "    p.IgnoreMessage = 1\n",
    "    p.HanjaFromHangul = 0\n",
    "    p.FindJaso = 0\n",
    "    p.FindRegExp = 0\n",
    "    p.FindStyle = \"\"\n",
    "    p.ReplaceStyle = \"\"\n",
    "\n",
    "    return action.run()"
   ]
  },
  {
   "cell_type": "code",
   "execution_count": null,
   "id": "7a03f961-db0d-4662-b995-b739ec75c2c8",
   "metadata": {},
   "outputs": [],
   "source": [
    "def replace_font(app, old_font, new_font, old_font_bold=1, new_font_bold=0):\n",
    "    \n",
    "    action = app.actions.AllReplace()\n",
    "    p = action.pset\n",
    "    p.MatchCase = 0;\n",
    "    p.AllWordForms = 0;\n",
    "    p.SeveralWords = 0;\n",
    "    p.UseWildCards = 0;\n",
    "    p.WholeWordOnly = 0;\n",
    "    p.AutoSpell = 1;\n",
    "    p.Direction = 0;\n",
    "    p.IgnoreFindString = 0;\n",
    "    p.IgnoreReplaceString = 0;\n",
    "    p.FindString = \"\";\n",
    "    p.ReplaceString = \"\";\n",
    "    p.FindCharShape.FontTypeUser = app.api.FontType(\"TTF\");\n",
    "    p.FindCharShape.FaceNameUser = old_font;\n",
    "    p.FindCharShape.FontTypeSymbol = app.api.FontType(\"TTF\");\n",
    "    p.FindCharShape.FaceNameSymbol = old_font;\n",
    "    p.FindCharShape.FontTypeOther = app.api.FontType(\"TTF\");\n",
    "    p.FindCharShape.FaceNameOther = old_font;\n",
    "    p.FindCharShape.FontTypeJapanese = app.api.FontType(\"TTF\");\n",
    "    p.FindCharShape.FaceNameJapanese = old_font;\n",
    "    p.FindCharShape.FontTypeHanja = app.api.FontType(\"TTF\");\n",
    "    p.FindCharShape.FaceNameHanja = old_font;\n",
    "    p.FindCharShape.FontTypeLatin = app.api.FontType(\"TTF\");\n",
    "    p.FindCharShape.FaceNameLatin = old_font;\n",
    "    p.FindCharShape.FontTypeHangul = app.api.FontType(\"TTF\");\n",
    "    p.FindCharShape.FaceNameHangul = old_font;\n",
    "    p.FindCharShape.Bold = old_font_bold;\n",
    "    p.ReplaceCharShape.FaceNameHangul = new_font;\n",
    "    p.ReplaceCharShape.FontTypeHangul = app.api.FontType(\"TTF\");\n",
    "    p.ReplaceCharShape.FaceNameLatin = new_font;\n",
    "    p.ReplaceCharShape.FontTypeLatin = app.api.FontType(\"TTF\");\n",
    "    p.ReplaceCharShape.FaceNameHanja = new_font;\n",
    "    p.ReplaceCharShape.FontTypeHanja = app.api.FontType(\"TTF\");\n",
    "    p.ReplaceCharShape.FaceNameJapanese = new_font;\n",
    "    p.ReplaceCharShape.FontTypeJapanese = app.api.FontType(\"TTF\");\n",
    "    p.ReplaceCharShape.FaceNameOther = new_font;\n",
    "    p.ReplaceCharShape.FontTypeOther = app.api.FontType(\"TTF\");\n",
    "    p.ReplaceCharShape.FaceNameSymbol = new_font;\n",
    "    p.ReplaceCharShape.FontTypeSymbol = app.api.FontType(\"TTF\");\n",
    "    p.ReplaceCharShape.FaceNameUser = new_font;\n",
    "    p.ReplaceCharShape.FontTypeUser = app.api.FontType(\"TTF\");\n",
    "    p.ReplaceCharShape.Bold = new_font_bold;\n",
    "    p.ReplaceMode = 1;\n",
    "    p.IgnoreMessage = 1;\n",
    "    p.HanjaFromHangul = 0;\n",
    "    p.FindJaso = 0;\n",
    "    p.FindRegExp = 0;\n",
    "    p.FindStyle = \"\";\n",
    "    p.ReplaceStyle = \"\";\n",
    "    p.FindType = 1;\n",
    "    \n",
    "    return action.run()"
   ]
  },
  {
   "cell_type": "code",
   "execution_count": null,
   "id": "12cb5a77-e17c-4372-b109-325e3491eb90",
   "metadata": {},
   "outputs": [],
   "source": [
    "def replace_fontcolor(app, old_color=app.api.RGBColor(255, 0, 0), new_color=app.api.RGBColor(0, 0, 0)):\n",
    "    action = app.actions.AllReplace()\n",
    "    p = action.pset\n",
    "    p.MatchCase = 0;\n",
    "    p.AllWordForms = 0;\n",
    "    p.SeveralWords = 0;\n",
    "    p.UseWildCards = 0;\n",
    "    p.WholeWordOnly = 0;\n",
    "    p.AutoSpell = 1;\n",
    "    p.Direction = 0\n",
    "    p.IgnoreFindString = 0;\n",
    "    p.IgnoreReplaceString = 0;\n",
    "    p.FindString = \"\";\n",
    "    p.ReplaceString = \"\";\n",
    "    p.FindCharShape.TextColor = old_color\n",
    "    p.ReplaceCharShape.TextColor = new_color\n",
    "    p.ReplaceMode = 1;\n",
    "    p.IgnoreMessage = 1;\n",
    "    p.HanjaFromHangul = 0;\n",
    "    p.FindJaso = 0;\n",
    "    p.FindRegExp = 0;\n",
    "    p.FindStyle = \"\";\n",
    "    p.ReplaceStyle = \"\";\n",
    "    p.FindType = 1;\n",
    "    \n",
    "    return action.run()"
   ]
  },
  {
   "cell_type": "code",
   "execution_count": null,
   "id": "7c7343e9-f161-48fa-a514-b206ce56e2f6",
   "metadata": {},
   "outputs": [],
   "source": [
    "import os"
   ]
  },
  {
   "cell_type": "code",
   "execution_count": null,
   "id": "3d7ea6dc-f787-4a33-9660-8baaf7ca5921",
   "metadata": {},
   "outputs": [],
   "source": [
    "os.chdir(r\"C:\\Users\\freed\\OneDrive\\바탕 화면\\Desktop\")"
   ]
  },
  {
   "cell_type": "code",
   "execution_count": null,
   "id": "3e874dbf-a14a-4353-abcf-cb00b5978858",
   "metadata": {},
   "outputs": [],
   "source": [
    "files = [file for file in os.listdir() if file[-3:] == \"hwp\"]"
   ]
  },
  {
   "cell_type": "code",
   "execution_count": null,
   "id": "a45b245d-aeb2-49f7-8e30-1735912fae29",
   "metadata": {},
   "outputs": [],
   "source": [
    "replaces = [\n",
    "    (\"2022년도\", \"’22년도\"),\n",
    "    (\"한국국제협력단\", \"KOICA\"),\n",
    "    (\"협력단\", \"KOICA\"),\n",
    "    (\"코이카\", \"KOICA\"),\n",
    "    (\"주요성과\", \"추진 성과\"),\n",
    "    (\"추진성과\", \"추진 성과\"),\n",
    "    (\"이행성과\", \"추진 성과\"),\n",
    "    (\"기대성과\", \"추진 성과\"), \n",
    "    (\"주요 성과\", \"추진 성과\"),\n",
    "    (\"이행 성과\", \"추진 성과\"),\n",
    "    (\"기대 성과\", \"추진 성과\"),\n",
    "    (\"추진노력\", \"주요 내용\"),\n",
    "    (\"추진내역\", \"주요 내용\"),\n",
    "    (\"추진내용\", \"주요 내용\"),\n",
    "    (\"주요내용\", \"주요 내용\"),\n",
    "    (\"추진 노력\", \"주요 내용\"),\n",
    "    (\"추진 내역\", \"주요 내용\"),\n",
    "    (\"추진 내용\", \"주요 내용\"),\n",
    "    (\"유엔\", \"UN\"),\n",
    "    (\"국제연합\", \"UN\"),\n",
    "    (\"전년 대비\", \"전년대비\"),\n",
    "    (\"전년比\", \"전년대비\"),\n",
    "    (\"내외·부\", \"내외부\"),\n",
    "    (\"내·외부\", \"내외부\"),\n",
    "    (\"대·내외\", \"대내외\"),\n",
    "    (\"대내·외\", \"대내외\"),\n",
    "    (\"개선후\", \"개 선\"),\n",
    "    (\"수정후\", \"개 선\"),\n",
    "    (\"변경후\", \"개 선\"),\n",
    "]"
   ]
  },
  {
   "cell_type": "code",
   "execution_count": null,
   "id": "caa1d973-98b8-45f0-8c4e-ea4725831522",
   "metadata": {},
   "outputs": [],
   "source": [
    "import re\n",
    "from time import sleep"
   ]
  },
  {
   "cell_type": "code",
   "execution_count": null,
   "id": "3dae11fb-acb8-4dd2-ba20-21669a8f35bb",
   "metadata": {},
   "outputs": [],
   "source": [
    "def apply(app, file):\n",
    "    app.api.XHwpDocuments.Active_XHwpDocument.SetActive_XHwpDocument()\n",
    "    app.open(os.path.abspath(file))\n",
    "    \n",
    "    app.actions.MoveDocBegin().run()\n",
    "\n",
    "    \n",
    "    for old, new in replaces:\n",
    "        replace_text(app, old, new)\n",
    "    sleep(4)\n",
    "    replace_text(app, \"전년대비 주요 추진실적 비교\", \"전년 대비 주요 추진실적 비교\", app.api.RGBColor(0, 0, 0))\n",
    "    replace_text(app, \"’22년도 주요 추진실적\", \"2022년도 주요 추진실적\", app.api.RGBColor(255, 255, 255))\n",
    "    replace_text(app, \"’22년도 세부평가 내용별 추진실적 및 성과\", \"2022년도 세부평가 내용별 추진실적 및 성과\", app.api.RGBColor(0, 0, 0))\n",
    "    replace_text(app, \"’22년도 KOICA 경영실적보고서\", \"2022년도 KOICA 경영실적보고서\", app.api.RGBColor(0, 0, 0))\n",
    "    replace_font(app, \"KoPub바탕체 Light\", \"KoPub바탕체 Bold\")\n",
    "    replace_font(app, \"KoPub돋움체 Light\", \"KoPub돋움체 Bold\")\n",
    "    \n",
    "    path = app.save() # re.sub(\"\\.hwp\", \"_edited.hwp\", file))\n",
    "    \n",
    "    app.actions.FileClose().run()\n",
    "    return path"
   ]
  },
  {
   "cell_type": "code",
   "execution_count": null,
   "id": "71870dab-2aee-4b9d-acb6-04af57446b97",
   "metadata": {},
   "outputs": [
    {
     "name": "stdout",
     "output_type": "stream",
     "text": [
      "C:\\Users\\freed\\OneDrive\\바탕 화면\\Desktop\\1-5 보수 및 복리후생_0307_1100.hwp\n",
      "C:\\Users\\freed\\OneDrive\\바탕 화면\\Desktop\\2-1 개발도상국 정부 협력사업_0307_최종.hwp\n",
      "C:\\Users\\freed\\OneDrive\\바탕 화면\\Desktop\\2-2 개발협력 파트너 참여사업_0307_1100.hwp\n",
      "C:\\Users\\freed\\OneDrive\\바탕 화면\\Desktop\\2-3 개발협력 인재 양성사업_최종.hwp\n",
      "C:\\Users\\freed\\OneDrive\\바탕 화면\\Desktop\\2-4 계량지표 구성의 적정성_0307_마이너 수정.hwp\n"
     ]
    }
   ],
   "source": [
    "for file in files:\n",
    "    print(apply(app, file))"
   ]
  }
 ],
 "metadata": {
  "kernelspec": {
   "display_name": "python3",
   "language": "python",
   "name": "python3"
  }
 },
 "nbformat": 4,
 "nbformat_minor": 5
}
